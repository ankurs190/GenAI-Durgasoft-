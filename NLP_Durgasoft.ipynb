{
  "nbformat": 4,
  "nbformat_minor": 0,
  "metadata": {
    "colab": {
      "provenance": [],
      "collapsed_sections": [
        "K30XKrq5Ig3G",
        "rhUbyCjtmPuh",
        "Z95ZEX-8vTZn"
      ],
      "include_colab_link": true
    },
    "kernelspec": {
      "name": "python3",
      "display_name": "Python 3"
    },
    "language_info": {
      "name": "python"
    }
  },
  "cells": [
    {
      "cell_type": "markdown",
      "metadata": {
        "id": "view-in-github",
        "colab_type": "text"
      },
      "source": [
        "<a href=\"https://colab.research.google.com/github/ankurs190/GenAI-Durgasoft-/blob/main/NLP_Durgasoft.ipynb\" target=\"_parent\"><img src=\"https://colab.research.google.com/assets/colab-badge.svg\" alt=\"Open In Colab\"/></a>"
      ]
    },
    {
      "cell_type": "markdown",
      "source": [
        "### NLP Summary"
      ],
      "metadata": {
        "id": "pZ-uFyW75y5C"
      }
    },
    {
      "cell_type": "markdown",
      "source": [
        "\n",
        "| Step                    | Description                                       | Tool/Library                | Example Input                                   | Example Output             |\n",
        "| ----------------------- | ------------------------------------------------- | --------------------------- | ----------------------------------------------- | -------------------------- |\n",
        "| **Lowercasing**         | Converts all text to lowercase                    | Python string methods       | \"Hello World\"                                   | \"hello world\"              |\n",
        "| **Tokenization**        | Splits text into words/sentences                  | `nltk.word_tokenize()`      | \"I love NLP.\"                                   | \\['I', 'love', 'NLP', '.'] |\n",
        "| **Stopword Removal**    | Removes common words with little meaning          | `nltk.corpus.stopwords`     | \"I am learning NLP\"                             | \\['learning', 'NLP']       |\n",
        "| **Punctuation Removal** | Removes symbols like `.,!?`                       | `string.punctuation` + `re` | \"Hello!\"                                        | \"Hello\"                    |\n",
        "| **Stemming**            | Trims words to their root form                    | `PorterStemmer`, `Snowball` | \"running\", \"flies\"                              | \"run\", \"fli\"               |\n",
        "| **Lemmatization**       | Converts word to dictionary base form using POS   | `WordNetLemmatizer`         | \"better\", \"was\"                                 | \"good\", \"be\"               |\n",
        "| **POS Tagging**         | Tags words with part of speech (noun, verb, etc.) | `nltk.pos_tag()`            | \"run\", \"beautiful\"                              | \\[('run', 'VB'), ...]      |\n",
        "| **Regex Cleaning**      | Custom text cleanup using patterns                | `re` module                 | \"[User123@gmail.com](mailto:User123@gmail.com)\" | \"User\" (after regex)       |\n"
      ],
      "metadata": {
        "id": "QzNtCHdn5t_B"
      }
    },
    {
      "cell_type": "markdown",
      "source": [
        "### **Session 69 (25-June)**"
      ],
      "metadata": {
        "id": "GcRklRwsz3bP"
      }
    },
    {
      "cell_type": "markdown",
      "source": [
        "##### **String Punctuation**\n"
      ],
      "metadata": {
        "id": "K30XKrq5Ig3G"
      }
    },
    {
      "cell_type": "code",
      "execution_count": null,
      "metadata": {
        "id": "DJ7pADKSsOBl"
      },
      "outputs": [],
      "source": [
        "import string"
      ]
    },
    {
      "cell_type": "code",
      "source": [
        "string.punctuation"
      ],
      "metadata": {
        "colab": {
          "base_uri": "https://localhost:8080/",
          "height": 35
        },
        "id": "oFQupiCyscoK",
        "outputId": "e8bfa6a6-4431-4116-fe9d-bf2cf8e2aee0"
      },
      "execution_count": null,
      "outputs": [
        {
          "output_type": "execute_result",
          "data": {
            "text/plain": [
              "'!\"#$%&\\'()*+,-./:;<=>?@[\\\\]^_`{|}~'"
            ],
            "application/vnd.google.colaboratory.intrinsic+json": {
              "type": "string"
            }
          },
          "metadata": {},
          "execution_count": 6
        }
      ]
    },
    {
      "cell_type": "code",
      "source": [
        "punc = string.punctuation"
      ],
      "metadata": {
        "id": "9coT-5IfslkK"
      },
      "execution_count": null,
      "outputs": []
    },
    {
      "cell_type": "code",
      "source": [
        "punc"
      ],
      "metadata": {
        "colab": {
          "base_uri": "https://localhost:8080/",
          "height": 35
        },
        "id": "NI8nyBwDsu84",
        "outputId": "10c1df7f-9636-440a-b59d-86c689bd450d"
      },
      "execution_count": null,
      "outputs": [
        {
          "output_type": "execute_result",
          "data": {
            "text/plain": [
              "'!\"#$%&\\'()*+,-./:;<=>?@[\\\\]^_`{|}~'"
            ],
            "application/vnd.google.colaboratory.intrinsic+json": {
              "type": "string"
            }
          },
          "metadata": {},
          "execution_count": 8
        }
      ]
    },
    {
      "cell_type": "code",
      "source": [
        "msg = \"Good Evening Everyone, Welcome to 'NLP' Class (AI)\""
      ],
      "metadata": {
        "id": "1l8TCLCDsvj-"
      },
      "execution_count": null,
      "outputs": []
    },
    {
      "cell_type": "code",
      "source": [
        "msg"
      ],
      "metadata": {
        "colab": {
          "base_uri": "https://localhost:8080/",
          "height": 35
        },
        "id": "9pPPa_2QtLlO",
        "outputId": "b9c5eda7-9b28-46ab-99f9-0731b2a6f5e3"
      },
      "execution_count": null,
      "outputs": [
        {
          "output_type": "execute_result",
          "data": {
            "text/plain": [
              "\"Good Evening Everyone, Welcome to 'NLP' Class (AI)\""
            ],
            "application/vnd.google.colaboratory.intrinsic+json": {
              "type": "string"
            }
          },
          "metadata": {},
          "execution_count": 10
        }
      ]
    },
    {
      "cell_type": "code",
      "source": [
        "import time"
      ],
      "metadata": {
        "id": "pTLPxJbst1GP"
      },
      "execution_count": null,
      "outputs": []
    },
    {
      "cell_type": "code",
      "source": [
        "for i in msg :\n",
        "  print(i)\n",
        "  time.sleep(0.5)  # prints each character (or item) in msg, one at a time, with a 0.5 second delay between each — creating a \"typing effect\"."
      ],
      "metadata": {
        "colab": {
          "base_uri": "https://localhost:8080/"
        },
        "id": "I1CSJEuftdRm",
        "outputId": "681add04-d4e8-4d09-cb89-e4b69c73595e"
      },
      "execution_count": null,
      "outputs": [
        {
          "output_type": "stream",
          "name": "stdout",
          "text": [
            "G\n",
            "o\n",
            "o\n",
            "d\n",
            " \n",
            "E\n",
            "v\n",
            "e\n",
            "n\n",
            "i\n",
            "n\n",
            "g\n",
            " \n",
            "E\n",
            "v\n",
            "e\n",
            "r\n",
            "y\n",
            "o\n",
            "n\n",
            "e\n",
            ",\n",
            " \n",
            "W\n",
            "e\n",
            "l\n",
            "c\n",
            "o\n",
            "m\n",
            "e\n",
            " \n",
            "t\n",
            "o\n",
            " \n",
            "'\n",
            "N\n",
            "L\n",
            "P\n",
            "'\n",
            " \n",
            "C\n",
            "l\n",
            "a\n",
            "s\n",
            "s\n",
            " \n",
            "(\n",
            "A\n",
            "I\n",
            ")\n"
          ]
        }
      ]
    },
    {
      "cell_type": "code",
      "source": [
        "punc"
      ],
      "metadata": {
        "colab": {
          "base_uri": "https://localhost:8080/",
          "height": 35
        },
        "id": "eHO-JRGeuM51",
        "outputId": "216810b4-376a-48c2-ae1a-d0c37b214583"
      },
      "execution_count": null,
      "outputs": [
        {
          "output_type": "execute_result",
          "data": {
            "text/plain": [
              "'!\"#$%&\\'()*+,-./:;<=>?@[\\\\]^_`{|}~'"
            ],
            "application/vnd.google.colaboratory.intrinsic+json": {
              "type": "string"
            }
          },
          "metadata": {},
          "execution_count": 13
        }
      ]
    },
    {
      "cell_type": "code",
      "source": [
        "msg"
      ],
      "metadata": {
        "colab": {
          "base_uri": "https://localhost:8080/",
          "height": 35
        },
        "id": "5LqPAOBIuUjJ",
        "outputId": "89d0ecb8-20f4-40af-d9fb-b2cf7ba6a150"
      },
      "execution_count": null,
      "outputs": [
        {
          "output_type": "execute_result",
          "data": {
            "text/plain": [
              "\"Good Evening Everyone, Welcome to 'NLP' Class (AI)\""
            ],
            "application/vnd.google.colaboratory.intrinsic+json": {
              "type": "string"
            }
          },
          "metadata": {},
          "execution_count": 14
        }
      ]
    },
    {
      "cell_type": "code",
      "source": [
        "for i in msg :\n",
        "   if i not in punc:\n",
        "      print(i)\n"
      ],
      "metadata": {
        "colab": {
          "base_uri": "https://localhost:8080/"
        },
        "id": "miUPpZFGtucr",
        "outputId": "3664071b-9df3-46a7-e5c5-9b836251ee62"
      },
      "execution_count": null,
      "outputs": [
        {
          "output_type": "stream",
          "name": "stdout",
          "text": [
            "G\n",
            "o\n",
            "o\n",
            "d\n",
            " \n",
            "E\n",
            "v\n",
            "e\n",
            "n\n",
            "i\n",
            "n\n",
            "g\n",
            " \n",
            "E\n",
            "v\n",
            "e\n",
            "r\n",
            "y\n",
            "o\n",
            "n\n",
            "e\n",
            " \n",
            "W\n",
            "e\n",
            "l\n",
            "c\n",
            "o\n",
            "m\n",
            "e\n",
            " \n",
            "t\n",
            "o\n",
            " \n",
            "N\n",
            "L\n",
            "P\n",
            " \n",
            "C\n",
            "l\n",
            "a\n",
            "s\n",
            "s\n",
            " \n",
            "A\n",
            "I\n"
          ]
        }
      ]
    },
    {
      "cell_type": "code",
      "source": [
        "slist = []\n",
        "for i in msg :\n",
        "   if i not in punc:\n",
        "      slist.append(i)\n",
        "print(slist)\n",
        "print(\"\".join(slist))"
      ],
      "metadata": {
        "colab": {
          "base_uri": "https://localhost:8080/"
        },
        "id": "E6teWf7guTeq",
        "outputId": "e4bf2795-46cb-43ad-8126-964041ad0790"
      },
      "execution_count": null,
      "outputs": [
        {
          "output_type": "stream",
          "name": "stdout",
          "text": [
            "['G', 'o', 'o', 'd', ' ', 'E', 'v', 'e', 'n', 'i', 'n', 'g', ' ', 'E', 'v', 'e', 'r', 'y', 'o', 'n', 'e', ' ', 'W', 'e', 'l', 'c', 'o', 'm', 'e', ' ', 't', 'o', ' ', 'N', 'L', 'P', ' ', 'C', 'l', 'a', 's', 's', ' ', 'A', 'I']\n",
            "Good Evening Everyone Welcome to NLP Class AI\n"
          ]
        }
      ]
    },
    {
      "cell_type": "code",
      "source": [
        "\"\".join([ c    for c in msg  if c not in punc])"
      ],
      "metadata": {
        "colab": {
          "base_uri": "https://localhost:8080/",
          "height": 35
        },
        "id": "F7TqHDqduqrP",
        "outputId": "5bd9fbc4-c3b3-45f3-fdd4-28e20feaf713"
      },
      "execution_count": null,
      "outputs": [
        {
          "output_type": "execute_result",
          "data": {
            "text/plain": [
              "'Good Evening Everyone Welcome to NLP Class AI'"
            ],
            "application/vnd.google.colaboratory.intrinsic+json": {
              "type": "string"
            }
          },
          "metadata": {},
          "execution_count": 17
        }
      ]
    },
    {
      "cell_type": "markdown",
      "source": [
        "### **Session 70 (25 June)**"
      ],
      "metadata": {
        "id": "rhUbyCjtmPuh"
      }
    },
    {
      "cell_type": "markdown",
      "source": [
        "##### **Special Character with Regular Expression**"
      ],
      "metadata": {
        "id": "Z95ZEX-8vTZn"
      }
    },
    {
      "cell_type": "code",
      "source": [
        "wish = \"Wish -You -A@ Happy_ New_ Year #2025!\""
      ],
      "metadata": {
        "id": "hHguVisDvFW6"
      },
      "execution_count": null,
      "outputs": []
    },
    {
      "cell_type": "code",
      "source": [
        "wish"
      ],
      "metadata": {
        "colab": {
          "base_uri": "https://localhost:8080/",
          "height": 35
        },
        "id": "XTNHKbD3xBJE",
        "outputId": "8d79ae1c-91a6-4a94-e3d0-bc5b7cf0b8c2"
      },
      "execution_count": null,
      "outputs": [
        {
          "output_type": "execute_result",
          "data": {
            "text/plain": [
              "'Wish -You -A@ Happy_ New_ Year #2025!'"
            ],
            "application/vnd.google.colaboratory.intrinsic+json": {
              "type": "string"
            }
          },
          "metadata": {},
          "execution_count": 19
        }
      ]
    },
    {
      "cell_type": "code",
      "source": [
        "import re"
      ],
      "metadata": {
        "id": "r4_V0rDCxGcO"
      },
      "execution_count": null,
      "outputs": []
    },
    {
      "cell_type": "code",
      "source": [
        "re.findall(\"[a-z]\", wish)  # uses Python’s re module to find all lowercase alphabetic characters (a to z) in the string wish."
      ],
      "metadata": {
        "colab": {
          "base_uri": "https://localhost:8080/"
        },
        "id": "zlAd5g2lxBpp",
        "outputId": "1459a922-7819-4656-ede9-12b1266becbb"
      },
      "execution_count": null,
      "outputs": [
        {
          "output_type": "execute_result",
          "data": {
            "text/plain": [
              "['i', 's', 'h', 'o', 'u', 'a', 'p', 'p', 'y', 'e', 'w', 'e', 'a', 'r']"
            ]
          },
          "metadata": {},
          "execution_count": 21
        }
      ]
    },
    {
      "cell_type": "code",
      "source": [
        "# re.findall(\"[a-zA-Z]\", wish)"
      ],
      "metadata": {
        "id": "Qq5a008bxj1-"
      },
      "execution_count": null,
      "outputs": []
    },
    {
      "cell_type": "code",
      "source": [
        "re.findall(\"[a-zA-Z0-9]\", wish)"
      ],
      "metadata": {
        "colab": {
          "base_uri": "https://localhost:8080/"
        },
        "id": "4L2IGAQwxoXp",
        "outputId": "6c9f54b4-26d2-4aeb-dbee-3805b9d9cfbb"
      },
      "execution_count": null,
      "outputs": [
        {
          "output_type": "execute_result",
          "data": {
            "text/plain": [
              "['W',\n",
              " 'i',\n",
              " 's',\n",
              " 'h',\n",
              " 'Y',\n",
              " 'o',\n",
              " 'u',\n",
              " 'A',\n",
              " 'H',\n",
              " 'a',\n",
              " 'p',\n",
              " 'p',\n",
              " 'y',\n",
              " 'N',\n",
              " 'e',\n",
              " 'w',\n",
              " 'Y',\n",
              " 'e',\n",
              " 'a',\n",
              " 'r',\n",
              " '2',\n",
              " '0',\n",
              " '2',\n",
              " '5']"
            ]
          },
          "metadata": {},
          "execution_count": 23
        }
      ]
    },
    {
      "cell_type": "code",
      "source": [
        "re.findall(\"[^a-zA-Z0-9 ]\", wish)"
      ],
      "metadata": {
        "colab": {
          "base_uri": "https://localhost:8080/"
        },
        "id": "Jf3_uxvExyHN",
        "outputId": "3946fceb-c6e9-4fde-d84b-982bb02e7f90"
      },
      "execution_count": null,
      "outputs": [
        {
          "output_type": "execute_result",
          "data": {
            "text/plain": [
              "['-', '-', '@', '_', '_', '#', '!']"
            ]
          },
          "metadata": {},
          "execution_count": 24
        }
      ]
    },
    {
      "cell_type": "code",
      "source": [
        "re.sub(\"[^a-zA-Z0-9 ]\",\"\", wish)  #removes all characters from the string wish that are not letters, digits, or spaces."
      ],
      "metadata": {
        "colab": {
          "base_uri": "https://localhost:8080/",
          "height": 35
        },
        "id": "IY_bI0nhx7aB",
        "outputId": "e20314e0-1fc7-48d7-95ac-9697d98af739"
      },
      "execution_count": null,
      "outputs": [
        {
          "output_type": "execute_result",
          "data": {
            "text/plain": [
              "'Wish You A Happy New Year 2025'"
            ],
            "application/vnd.google.colaboratory.intrinsic+json": {
              "type": "string"
            }
          },
          "metadata": {},
          "execution_count": 25
        }
      ]
    },
    {
      "cell_type": "code",
      "source": [
        "# re.findall()\t#Returns all matches in a list\n",
        "# re.search()\t#Returns first match (or None)\n",
        "# re.match()\t#Matches only from start of string\n",
        "# re.sub()\t#Substitutes matches with a new string\n",
        "# re.split()\t#Splits string based on a pattern\n",
        "# re.compile()\t#Precompiles a regex pattern for reuse"
      ],
      "metadata": {
        "id": "iVbNDx1uA16d"
      },
      "execution_count": null,
      "outputs": []
    },
    {
      "cell_type": "markdown",
      "source": [
        "##### **Tokenization**\n",
        "\n",
        "* Tokenization is the process of breaking text into smaller pieces called tokens. These tokens can be:\n",
        " * Words, Subwords, Characters, or even punctuation marks\n",
        "* It’s a fundamental step in NLP used by models like GPT, BERT, etc.\n",
        "\n",
        "* nltk, spaCy, and HuggingFace tokenizers for both sentence and word tokenization"
      ],
      "metadata": {
        "id": "YjJQ-b20yb4a"
      }
    },
    {
      "cell_type": "code",
      "source": [
        "# %pip install nltk\n",
        "import nltk  #  Natural Language Toolkit\n",
        "from nltk.tokenize import word_tokenize, sent_tokenize\n",
        "\n",
        "nltk.download('punkt')  #downloads the Punkt tokenizer models for the NLTK.This is required for functions like word_tokenize() to work properly.\n",
        "nltk.download('punkt_tab')"
      ],
      "metadata": {
        "colab": {
          "base_uri": "https://localhost:8080/"
        },
        "id": "GzTcVmdIyQG1",
        "outputId": "8d7fa743-c743-4705-d65e-b85b8586c489"
      },
      "execution_count": null,
      "outputs": [
        {
          "output_type": "stream",
          "name": "stderr",
          "text": [
            "[nltk_data] Downloading package punkt to /root/nltk_data...\n",
            "[nltk_data]   Unzipping tokenizers/punkt.zip.\n",
            "[nltk_data] Downloading package punkt_tab to /root/nltk_data...\n",
            "[nltk_data]   Unzipping tokenizers/punkt_tab.zip.\n"
          ]
        },
        {
          "output_type": "execute_result",
          "data": {
            "text/plain": [
              "True"
            ]
          },
          "metadata": {},
          "execution_count": 27
        }
      ]
    },
    {
      "cell_type": "code",
      "source": [
        "para = \"Hello All! How are you doing today? We are implementing tokenization in NLP. This is done using NLTK.\"\n",
        "print(word_tokenize(para))\n",
        "# splits punctuation as separate tokens. Notice how !, ?, and . are treated as separate tokens\n",
        "# This is ideal for tasks like POS tagging, NER, or training models\n",
        "\n",
        "\n",
        "print(sent_tokenize(para)) #  keeps punctuation attached to sentence\n",
        "# Sentence boundaries are inferred based on punctuation and capitalization patterns"
      ],
      "metadata": {
        "id": "FOsXM0I3zu-V",
        "colab": {
          "base_uri": "https://localhost:8080/"
        },
        "outputId": "0550fe9e-49b4-408d-b227-7adeea6b611e"
      },
      "execution_count": null,
      "outputs": [
        {
          "output_type": "stream",
          "name": "stdout",
          "text": [
            "['Hello', 'All', '!', 'How', 'are', 'you', 'doing', 'today', '?', 'We', 'are', 'implementing', 'tokenization', 'in', 'NLP', '.', 'This', 'is', 'done', 'using', 'NLTK', '.']\n",
            "['Hello All!', 'How are you doing today?', 'We are implementing tokenization in NLP.', 'This is done using NLTK.']\n"
          ]
        }
      ]
    },
    {
      "cell_type": "code",
      "source": [
        "print(para.split())  #Splits text only on whitespace. Does not separate punctuation from words\n",
        "print(word_tokenize(para))"
      ],
      "metadata": {
        "colab": {
          "base_uri": "https://localhost:8080/"
        },
        "id": "FtnXL43l1-1A",
        "outputId": "c7ee7cdd-3c20-4454-fdaf-2195ef983991"
      },
      "execution_count": null,
      "outputs": [
        {
          "output_type": "stream",
          "name": "stdout",
          "text": [
            "['Hello', 'All!', 'How', 'are', 'you', 'doing', 'today?', 'We', 'are', 'implementing', 'tokenization', 'in', 'NLP.', 'This', 'is', 'done', 'using', 'NLTK.']\n",
            "['Hello', 'All', '!', 'How', 'are', 'you', 'doing', 'today', '?', 'We', 'are', 'implementing', 'tokenization', 'in', 'NLP', '.', 'This', 'is', 'done', 'using', 'NLTK', '.']\n"
          ]
        }
      ]
    },
    {
      "cell_type": "markdown",
      "source": [
        "##### **Stop Words**"
      ],
      "metadata": {
        "id": "d8puZ7ehIGJ0"
      }
    },
    {
      "cell_type": "markdown",
      "source": [
        "* Stop words are common words in a language (like \"the\", \"is\", \"in\", \"and\") that are usually filtered out before processing text in NLP, because they don’t carry much meaningful information. Doesn't contribute to semantic meaning of seuqential data\n",
        "\n",
        "* Why Remove Stop Words?\n",
        "   * They appear very frequently, but add little value to tasks like:\n",
        "    * Text classification\n",
        "    * Topic modeling\n",
        "    * Information retrieval\n",
        "   * Removing them reduces noise (focus on important words) and sometimes improves performance (by removing words, reduced memory usage)\n",
        "\n",
        "* when to remove stopwords-\n",
        "  * Text Classification -\n",
        "    * spam detection: if mail is having words like-\n",
        "      * Discount, offer, personal loans, excellent opportunity\n",
        "  * Search Engine- To ignore irrelevant terms in queries\n",
        "  * Document Clustering\n",
        "  * Sentiment Analysis\n",
        "  * Topic modeling (LDA): Stopwords add noise\n",
        "  * TF-IDF vectorization: Stopwords often have high frequency but low informativeness\n",
        "\n",
        "\n",
        "\n",
        "* When You Don’t Remove Them\n",
        "   * **Context-sensitive models (BERT, GPT)**: These models learn to assign low weight to stopwords, so removal isn't necessary.\n",
        "   * **Sequence tasks (e.g., translation, summarization)**: Removing stopwords would distort grammar and meaning."
      ],
      "metadata": {
        "id": "fu7CFqTvGK2n"
      }
    },
    {
      "cell_type": "code",
      "source": [
        "# Sentence: \"The cat is on the mat.\"\n",
        "\n",
        "# Without stopwords: \"cat mat\"\n",
        "\n",
        "# For a classifier, this may retain core meaning\n",
        "\n",
        "# For a translator or summarizer — this would break the sentence\n"
      ],
      "metadata": {
        "id": "2toSEx8b2hqp"
      },
      "execution_count": null,
      "outputs": []
    },
    {
      "cell_type": "code",
      "source": [
        " #stopwords\n",
        "import nltk\n",
        "from nltk.corpus import stopwords  # imports the stop words corpus from the NLTK library, which provides predefined lists of common stop words in multiple languages (like English, French, German, etc.).\n",
        "nltk.download('stopwords') # Download the stopwords data (only once):\n",
        "print(stopwords.words('english'))\n",
        "print(len(stopwords.words('english')))"
      ],
      "metadata": {
        "id": "npW6qRCf2QNM",
        "colab": {
          "base_uri": "https://localhost:8080/"
        },
        "outputId": "6bc17cac-385e-4038-f60c-27c08b89a667"
      },
      "execution_count": null,
      "outputs": [
        {
          "output_type": "stream",
          "name": "stdout",
          "text": [
            "['a', 'about', 'above', 'after', 'again', 'against', 'ain', 'all', 'am', 'an', 'and', 'any', 'are', 'aren', \"aren't\", 'as', 'at', 'be', 'because', 'been', 'before', 'being', 'below', 'between', 'both', 'but', 'by', 'can', 'couldn', \"couldn't\", 'd', 'did', 'didn', \"didn't\", 'do', 'does', 'doesn', \"doesn't\", 'doing', 'don', \"don't\", 'down', 'during', 'each', 'few', 'for', 'from', 'further', 'had', 'hadn', \"hadn't\", 'has', 'hasn', \"hasn't\", 'have', 'haven', \"haven't\", 'having', 'he', \"he'd\", \"he'll\", 'her', 'here', 'hers', 'herself', \"he's\", 'him', 'himself', 'his', 'how', 'i', \"i'd\", 'if', \"i'll\", \"i'm\", 'in', 'into', 'is', 'isn', \"isn't\", 'it', \"it'd\", \"it'll\", \"it's\", 'its', 'itself', \"i've\", 'just', 'll', 'm', 'ma', 'me', 'mightn', \"mightn't\", 'more', 'most', 'mustn', \"mustn't\", 'my', 'myself', 'needn', \"needn't\", 'no', 'nor', 'not', 'now', 'o', 'of', 'off', 'on', 'once', 'only', 'or', 'other', 'our', 'ours', 'ourselves', 'out', 'over', 'own', 're', 's', 'same', 'shan', \"shan't\", 'she', \"she'd\", \"she'll\", \"she's\", 'should', 'shouldn', \"shouldn't\", \"should've\", 'so', 'some', 'such', 't', 'than', 'that', \"that'll\", 'the', 'their', 'theirs', 'them', 'themselves', 'then', 'there', 'these', 'they', \"they'd\", \"they'll\", \"they're\", \"they've\", 'this', 'those', 'through', 'to', 'too', 'under', 'until', 'up', 've', 'very', 'was', 'wasn', \"wasn't\", 'we', \"we'd\", \"we'll\", \"we're\", 'were', 'weren', \"weren't\", \"we've\", 'what', 'when', 'where', 'which', 'while', 'who', 'whom', 'why', 'will', 'with', 'won', \"won't\", 'wouldn', \"wouldn't\", 'y', 'you', \"you'd\", \"you'll\", 'your', \"you're\", 'yours', 'yourself', 'yourselves', \"you've\"]\n",
            "198\n"
          ]
        },
        {
          "output_type": "stream",
          "name": "stderr",
          "text": [
            "[nltk_data] Downloading package stopwords to /root/nltk_data...\n",
            "[nltk_data]   Package stopwords is already up-to-date!\n"
          ]
        }
      ]
    },
    {
      "cell_type": "code",
      "source": [
        "#To list available languages like:\n",
        "print(stopwords.fileids())"
      ],
      "metadata": {
        "colab": {
          "base_uri": "https://localhost:8080/"
        },
        "id": "hJbvMKfgGjRX",
        "outputId": "a9cad974-91b7-4663-89c2-688af2de8434"
      },
      "execution_count": null,
      "outputs": [
        {
          "output_type": "stream",
          "name": "stdout",
          "text": [
            "['albanian', 'arabic', 'azerbaijani', 'basque', 'belarusian', 'bengali', 'catalan', 'chinese', 'danish', 'dutch', 'english', 'finnish', 'french', 'german', 'greek', 'hebrew', 'hinglish', 'hungarian', 'indonesian', 'italian', 'kazakh', 'nepali', 'norwegian', 'portuguese', 'romanian', 'russian', 'slovene', 'spanish', 'swedish', 'tajik', 'tamil', 'turkish']\n"
          ]
        }
      ]
    },
    {
      "cell_type": "code",
      "source": [
        "# filtered\n",
        "print([word for word in word_tokenize(para) if word.lower() not in stopwords.words('english') and word not in string.punctuation])"
      ],
      "metadata": {
        "colab": {
          "base_uri": "https://localhost:8080/"
        },
        "id": "zZuVBar7HG7d",
        "outputId": "afdd251a-9df6-40f9-925f-74240864233c"
      },
      "execution_count": null,
      "outputs": [
        {
          "output_type": "stream",
          "name": "stdout",
          "text": [
            "['Hello', 'today', 'implementing', 'tokenization', 'NLP', 'done', 'using', 'NLTK']\n"
          ]
        }
      ]
    },
    {
      "cell_type": "markdown",
      "source": [
        "### **Session 71 - (26 June)**"
      ],
      "metadata": {
        "id": "2dsUXDmX0OjM"
      }
    },
    {
      "cell_type": "code",
      "source": [
        "news = \"\"\"Defence Minister Rajnath Singh on Thursday has reportedly refused to sign the joint statement of the\n",
        "Shanghai Cooperation Organisation (SCO). As per reports, the defence minister refused to dot India's name on the\n",
        "document due to its failure to address India's concern regarding cross-border terrorism.\"\"\""
      ],
      "metadata": {
        "id": "5LlMUD8mHlS8"
      },
      "execution_count": null,
      "outputs": []
    },
    {
      "cell_type": "code",
      "source": [
        "words = word_tokenize(news)"
      ],
      "metadata": {
        "id": "Hb2cc2n_0RDP"
      },
      "execution_count": null,
      "outputs": []
    },
    {
      "cell_type": "code",
      "source": [
        "for w in words:\n",
        "  if w not in stopwords.words('english'):\n",
        "    print(w,end=' ')\n",
        "    time.sleep(0.5)"
      ],
      "metadata": {
        "colab": {
          "base_uri": "https://localhost:8080/"
        },
        "id": "ifdhnSgVpFaA",
        "outputId": "86d85975-ef0d-4a60-dee1-b853ad655acf"
      },
      "execution_count": null,
      "outputs": [
        {
          "output_type": "stream",
          "name": "stdout",
          "text": [
            "Defence Minister Rajnath Singh Thursday reportedly refused sign joint statement Shanghai Cooperation Organisation ( SCO ) . As per reports , defence minister refused dot India 's name document due failure address India 's concern regarding cross-border terrorism . "
          ]
        }
      ]
    },
    {
      "cell_type": "code",
      "source": [
        "' '.join([w for w in words if w not in stopwords.words('english')])"
      ],
      "metadata": {
        "colab": {
          "base_uri": "https://localhost:8080/",
          "height": 52
        },
        "id": "3_nIfxzypcFJ",
        "outputId": "0d28953f-cc54-4478-baa5-7a050fa3b825"
      },
      "execution_count": null,
      "outputs": [
        {
          "output_type": "execute_result",
          "data": {
            "text/plain": [
              "\"Defence Minister Rajnath Singh Thursday reportedly refused sign joint statement Shanghai Cooperation Organisation ( SCO ) . As per reports , defence minister refused dot India 's name document due failure address India 's concern regarding cross-border terrorism .\""
            ],
            "application/vnd.google.colaboratory.intrinsic+json": {
              "type": "string"
            }
          },
          "metadata": {},
          "execution_count": 46
        }
      ]
    },
    {
      "cell_type": "markdown",
      "source": [
        "##### **Stemming**"
      ],
      "metadata": {
        "id": "zDaY1dhxskRp"
      }
    },
    {
      "cell_type": "code",
      "source": [
        "# Stemming\n",
        "import nltk\n",
        "from nltk.stem import PorterStemmer, SnowballStemmer, LancasterStemmer"
      ],
      "metadata": {
        "id": "ghnxVsXcqf9o"
      },
      "execution_count": null,
      "outputs": []
    },
    {
      "cell_type": "code",
      "source": [
        "ps= PorterStemmer()  #One of the oldest and most common stemmers.Conservative: trims suffixes but preserves meaning better.\n",
        "ss=SnowballStemmer(language = \"english\") # More modern, multilingual, and slightly more aggressive than Porter. Often preferred over Porter for non-English or consistent stemming.\n",
        "ls=LancasterStemmer() #Very aggressive. May cut too much and produce root forms that aren't real words."
      ],
      "metadata": {
        "id": "pHofwlBOqzlN"
      },
      "execution_count": null,
      "outputs": []
    },
    {
      "cell_type": "code",
      "source": [
        "ps.stem(\"running\")  # Output: run\n",
        "ps.stem(\"studies\")  # Output: studi\n",
        "ps.stem(\"happiness\")  # Output: happi\n",
        "ps.stem(\"maximum\")  # Output: maximum\n",
        "ps.stem(\"writing\") # write\n",
        "\n",
        "ss.stem(\"running\")  # Output: run\n",
        "ss.stem(\"studies\")  # Output: happi\n",
        "ss.stem(\"happiness\")  # Output: happy\n",
        "ss.stem(\"maximum\")  # Output: maximum\n",
        "ss.stem(\"writing\") # write\n",
        "\n",
        "ls.stem(\"running\")  # Output: run\n",
        "ls.stem(\"studies\")  # Output: study\n",
        "ls.stem(\"happiness\")  # Output: happy\n",
        "ls.stem(\"maximum\")  # Output: maxim\n",
        "ls.stem(\"writing\") # writ\n",
        "\n",
        "# Each stemmer is useful in different contexts:\n",
        "  # Use Porter for general English.\n",
        "  # Use Snowball for multilingual or slightly better balance.\n",
        "  # Use Lancaster when you need shorter roots but can tolerate distortion."
      ],
      "metadata": {
        "colab": {
          "base_uri": "https://localhost:8080/",
          "height": 35
        },
        "id": "HjwkwGd62zBl",
        "outputId": "60b190ac-5c5c-44bb-a5ce-1a664c592452"
      },
      "execution_count": null,
      "outputs": [
        {
          "output_type": "execute_result",
          "data": {
            "text/plain": [
              "'writ'"
            ],
            "application/vnd.google.colaboratory.intrinsic+json": {
              "type": "string"
            }
          },
          "metadata": {},
          "execution_count": 120
        }
      ]
    },
    {
      "cell_type": "code",
      "source": [
        "print(ps.stem(\"writing\"))\n",
        "print(ss.stem(\"writing\"))\n",
        "print(ls.stem(\"writing\"))"
      ],
      "metadata": {
        "colab": {
          "base_uri": "https://localhost:8080/"
        },
        "id": "V2L2etbbq-Ci",
        "outputId": "2d5c4109-4a37-4ef0-9f82-ce22a0c77c37"
      },
      "execution_count": null,
      "outputs": [
        {
          "output_type": "stream",
          "name": "stdout",
          "text": [
            "write\n",
            "write\n",
            "writ\n"
          ]
        }
      ]
    },
    {
      "cell_type": "code",
      "source": [
        "inflected_words = [\"code\", \"coder\", \"coding\", \"coders\", \"codings\", \"change\", \"changes\", \"changing\", \"changed\",\n",
        "                   \"trouble\", \"troubled\",\"troubling\", \"troubles\", \"university\", \"universities\",\"universe\", \"universal\", \"run\",\n",
        "                   \"ran\", \"running\", \"runs\", \"writer\", \"write\", \"writers\", \"writes\", \"writing\"]\n",
        "print([ps.stem(i) for i in inflected_words])\n",
        "print([ss.stem(i) for i in inflected_words])\n",
        "print([ls.stem(i) for i in inflected_words])"
      ],
      "metadata": {
        "colab": {
          "base_uri": "https://localhost:8080/"
        },
        "id": "zc9WOlCirWsS",
        "outputId": "c0eebfed-5a33-4929-cb2b-cd382e9bd545"
      },
      "execution_count": null,
      "outputs": [
        {
          "output_type": "stream",
          "name": "stdout",
          "text": [
            "['code', 'coder', 'code', 'coder', 'code', 'chang', 'chang', 'chang', 'chang', 'troubl', 'troubl', 'troubl', 'troubl', 'univers', 'univers', 'univers', 'univers', 'run', 'ran', 'run', 'run', 'writer', 'write', 'writer', 'write', 'write']\n",
            "['code', 'coder', 'code', 'coder', 'code', 'chang', 'chang', 'chang', 'chang', 'troubl', 'troubl', 'troubl', 'troubl', 'univers', 'univers', 'univers', 'univers', 'run', 'ran', 'run', 'run', 'writer', 'write', 'writer', 'write', 'write']\n",
            "['cod', 'cod', 'cod', 'cod', 'cod', 'chang', 'chang', 'chang', 'chang', 'troubl', 'troubl', 'troubl', 'troubl', 'univers', 'univers', 'univers', 'univers', 'run', 'ran', 'run', 'run', 'writ', 'writ', 'writ', 'writ', 'writ']\n"
          ]
        }
      ]
    },
    {
      "cell_type": "code",
      "source": [
        "# for  word in inflected_words:\n",
        "#   p = ps.stem(word)\n",
        "#   s = ss.stem(word)\n",
        "#   l = ls.stem(word)\n",
        "#   print(word,\"===>\",p,\"===>\",s,\"===>\", l)"
      ],
      "metadata": {
        "id": "CUAP-N6VsHYp"
      },
      "execution_count": null,
      "outputs": []
    },
    {
      "cell_type": "markdown",
      "source": [
        "##### **Lemmatization**\n",
        "- Lemmatization is a NLP technique used to reduce words to their base or dictionary form, known as a lemma.\n",
        "- Unlike stemming, which often chops off word endings without understanding context, lemmatization uses vocabulary and grammar rules to return real words.\n",
        "- Lemmatizers consider the part of speech (POS) to determine the correct lemma. For example:\n",
        "  - running as a verb → run\n",
        "  - running as a noun (e.g., \"the running was fun\") → remains running"
      ],
      "metadata": {
        "id": "kZIU1GztuSIq"
      }
    },
    {
      "cell_type": "code",
      "source": [
        "import nltk\n",
        "nltk.download('wordnet')\n",
        "lemma = nltk.WordNetLemmatizer()"
      ],
      "metadata": {
        "colab": {
          "base_uri": "https://localhost:8080/"
        },
        "id": "9VmHvSj8sbBm",
        "outputId": "b7bb190a-b78b-4886-a3df-3ca009a31795"
      },
      "execution_count": null,
      "outputs": [
        {
          "output_type": "stream",
          "name": "stderr",
          "text": [
            "[nltk_data] Downloading package wordnet to /root/nltk_data...\n"
          ]
        }
      ]
    },
    {
      "cell_type": "code",
      "source": [
        "lemma.lemmatize(\"writing\")\n",
        "# running\trun\n",
        "# better\tgood\n",
        "# studies\tstudy\n",
        "# was\tbe"
      ],
      "metadata": {
        "colab": {
          "base_uri": "https://localhost:8080/",
          "height": 35
        },
        "id": "u3naoFZMsyg-",
        "outputId": "cc37d325-4368-4a98-a2c7-17c0c4c58e74"
      },
      "execution_count": null,
      "outputs": [
        {
          "output_type": "execute_result",
          "data": {
            "text/plain": [
              "'writing'"
            ],
            "application/vnd.google.colaboratory.intrinsic+json": {
              "type": "string"
            }
          },
          "metadata": {},
          "execution_count": 73
        }
      ]
    },
    {
      "cell_type": "code",
      "source": [
        "inflected_words = [\"code\", \"coder\", \"coding\", \"coders\", \"codings\", \"change\", \"changes\", \"changing\", \"changed\",\n",
        "                   \"trouble\", \"troubled\",\"troubling\", \"troubles\", \"university\", \"universities\",\"universe\", \"universal\", \"run\",\n",
        "                   \"ran\", \"running\", \"runs\", \"writer\", \"write\", \"writers\", \"writes\", \"writing\"]\n",
        "print([lemma.lemmatize(i) for i in inflected_words])"
      ],
      "metadata": {
        "colab": {
          "base_uri": "https://localhost:8080/"
        },
        "id": "okM3Oib_s86w",
        "outputId": "1e59a7fa-3247-49f5-ff3f-b6b5e0fecbaa"
      },
      "execution_count": null,
      "outputs": [
        {
          "output_type": "stream",
          "name": "stdout",
          "text": [
            "['code', 'coder', 'coding', 'coder', 'coding', 'change', 'change', 'changing', 'changed', 'trouble', 'troubled', 'troubling', 'trouble', 'university', 'university', 'universe', 'universal', 'run', 'ran', 'running', 'run', 'writer', 'write', 'writer', 'writes', 'writing']\n"
          ]
        }
      ]
    },
    {
      "cell_type": "code",
      "source": [
        "# for w in inflected_words:\n",
        "#   res = lemma.lemmatize(w)\n",
        "#   print(w,\" ===> \",res)"
      ],
      "metadata": {
        "colab": {
          "base_uri": "https://localhost:8080/"
        },
        "id": "_HzXsvYFszB2",
        "outputId": "02e0e512-77ab-4b6c-f394-59a6531a0120"
      },
      "execution_count": null,
      "outputs": [
        {
          "output_type": "stream",
          "name": "stdout",
          "text": [
            "code  ===>  code\n",
            "coder  ===>  coder\n",
            "coding  ===>  coding\n",
            "coders  ===>  coder\n",
            "codings  ===>  coding\n",
            "change  ===>  change\n",
            "changes  ===>  change\n",
            "changing  ===>  changing\n",
            "changed  ===>  changed\n",
            "trouble  ===>  trouble\n",
            "troubled  ===>  troubled\n",
            "troubling  ===>  troubling\n",
            "troubles  ===>  trouble\n",
            "university  ===>  university\n",
            "universities  ===>  university\n",
            "universe  ===>  universe\n",
            "universal  ===>  universal\n",
            "run  ===>  run\n",
            "ran  ===>  ran\n",
            "running  ===>  running\n",
            "runs  ===>  run\n",
            "writer  ===>  writer\n",
            "write  ===>  write\n",
            "writers  ===>  writer\n",
            "writes  ===>  writes\n",
            "writing  ===>  writing\n"
          ]
        }
      ]
    },
    {
      "cell_type": "code",
      "source": [
        "from nltk.stem import WordNetLemmatizer  # The main lemmatizer class in NLTK.\n",
        "nltk.download('averaged_perceptron_tagger_eng')\n",
        "from nltk.corpus import wordnet  # provides part-of-speech (POS) constants (like wordnet.NOUN).\n",
        "from nltk import pos_tag, word_tokenize  # pos_tag tags each word in a sentence with its part of speech (e.g., noun, verb)\n",
        "\n",
        "lemmatizer = WordNetLemmatizer()  # Creates an instance of the lemmatizer.\n",
        "\n",
        "def get_wordnet_pos(word):\n",
        "    \"\"\"Map POS tag to first character for WordNetLemmatizer.\"\"\"\n",
        "    tag = pos_tag([word])[0][1][0].upper()\n",
        "    tag_dict = {'J': wordnet.ADJ,\n",
        "                'N': wordnet.NOUN,\n",
        "                'V': wordnet.VERB,\n",
        "                'R': wordnet.ADV}\n",
        "    return tag_dict.get(tag, wordnet.NOUN)\n",
        "\n",
        "word = \"writing\"\n",
        "lemmatized_word = lemmatizer.lemmatize(word, get_wordnet_pos(word))\n",
        "print(lemmatized_word)  # Output: run\n"
      ],
      "metadata": {
        "colab": {
          "base_uri": "https://localhost:8080/"
        },
        "id": "lan9VvOws2wS",
        "outputId": "a2746b65-5826-4a74-b2d0-4751033f77e1"
      },
      "execution_count": null,
      "outputs": [
        {
          "output_type": "stream",
          "name": "stdout",
          "text": [
            "write\n"
          ]
        },
        {
          "output_type": "stream",
          "name": "stderr",
          "text": [
            "[nltk_data] Downloading package averaged_perceptron_tagger_eng to\n",
            "[nltk_data]     /root/nltk_data...\n",
            "[nltk_data]   Package averaged_perceptron_tagger_eng is already up-to-\n",
            "[nltk_data]       date!\n"
          ]
        }
      ]
    },
    {
      "cell_type": "code",
      "source": [
        "news = \"\"\"Defence Minister Rajnath Singh on Thursday has reportedly refused to sign the joint statement of the\n",
        "Shanghai Cooperation Organisation (SCO). 123456 As per reports, the defence minister refused to dot India's name on the\n",
        "document due to its failure to address India's concern regarding cross-border terrorism.\"\"\""
      ],
      "metadata": {
        "id": "TLKfKsomvd1j"
      },
      "execution_count": null,
      "outputs": []
    },
    {
      "cell_type": "code",
      "source": [
        "import string\n",
        "import re\n",
        "''.join([i for i in news if  i not in string.punctuation])"
      ],
      "metadata": {
        "colab": {
          "base_uri": "https://localhost:8080/",
          "height": 70
        },
        "id": "S1fV3EeJwX8E",
        "outputId": "ced60900-08e6-4f8d-c6b5-319a6e376157"
      },
      "execution_count": null,
      "outputs": [
        {
          "output_type": "execute_result",
          "data": {
            "text/plain": [
              "'Defence Minister Rajnath Singh on Thursday has reportedly refused to sign the joint statement of the\\nShanghai Cooperation Organisation SCO As per reports the defence minister refused to dot Indias name on the\\ndocument due to its failure to address Indias concern regarding crossborder terrorism'"
            ],
            "application/vnd.google.colaboratory.intrinsic+json": {
              "type": "string"
            }
          },
          "metadata": {},
          "execution_count": 89
        }
      ]
    },
    {
      "cell_type": "code",
      "source": [
        "# string.punctuation  #-> Contains all punctuation characters:  !\"#$%&'()*+,-./:;<=>?@[\\]^_`{|}~. Used to remove punctuation during text cleaning.\n",
        "# re  #Python's built-in module for pattern matching and text manipulation. Common use: remove unwanted patterns like extra spaces, special characters, digits.\n",
        "# Tokenizations # Splits text into smaller units: words (word tokenization) or sentences (sentence tokenization).\n",
        "# Stopswords removal -> Stopwords are common words (e.g., “the”, “is”, “and”) that usually carry less meaning.\n",
        "# Stemming  -> Reduces words to their root form, which may not always be a valid word.\n",
        "# lemmatization -> Similar to stemming, but returns the dictionary base form (lemma) and uses POS tagging."
      ],
      "metadata": {
        "id": "pPnubO7ZwZ3D"
      },
      "execution_count": null,
      "outputs": []
    },
    {
      "cell_type": "markdown",
      "source": [
        "| Feature              | `stopwords`                          | `string.punctuation`                  | `re` (Regular Expressions)                |                                            |\n",
        "| -------------------- | ------------------------------------ | ------------------------------------- | ----------------------------------------- | ------------------------------------------ |\n",
        "| **Module**           | `nltk.corpus.stopwords`              | Python `string` module                | Python `re` module                        |                                            |\n",
        "| **Purpose**          | Remove common, low-value words       | Remove punctuation/special characters | Remove or match patterns (flexible)       |                                            |\n",
        "| **Example Elements** | \"the\", \"is\", \"and\", \"in\", \"at\"       | `!\"#$%&'()*+,-./:;<=>?@[\\]^_`{        | }\\~\\`                                     | Any text pattern (e.g., `\\d+`, `[A-Za-z]`) |\n",
        "| **Use Case**         | Text simplification, keyword focus   | Cleaning symbols from text            | Cleaning, pattern matching, substitutions |                                            |\n",
        "| **Customizable?**    | Yes (you can add/remove words)       | No (fixed punctuation list)           | Yes (very flexible patterns)              |                                            |\n",
        "| **Example Code**     | `word in stopwords.words('english')` | `if char in string.punctuation`       | `re.sub(r'\\d+', '', text)`                |                                            |\n",
        "| **Returns**          | List of stop words                   | String of punctuation characters      | Modified string or match object           |                                            |\n",
        "\n",
        "-----------------------\n",
        "\n",
        "| Feature | **Stemming**                                | **Lemmatization**                                 |\n",
        "| ------- | ------------------------------------------- | ------------------------------------------------- |\n",
        "| Purpose | Reduces words to **root forms** by trimming | Reduces words to **dictionary base form** (lemma) |\n",
        "| Output  | May not be a real word                      | Always produces a valid word                      |\n",
        "| Method  | Rule-based, mechanical                      | Rule-based **+ vocabulary + grammar (POS)**       |\n",
        "\n",
        "| Scenario                                                   | Choose                                                |\n",
        "| ---------------------------------------------------------- | ----------------------------------------------------- |\n",
        "| Speed-sensitive pipeline                                   | Stemming                                              |\n",
        "| Meaning-preserving NLP task (like QA, chatbots, sentiment) | Lemmatization                                         |\n",
        "| Indexing/search engines                                    | Stemming (e.g., \"run\", \"runs\", \"running\" all → \"run\") |\n",
        "\n",
        "| Word             | **PorterStemmer** | **SnowballStemmer** | **LancasterStemmer** | **Lemmatization** |\n",
        "| ---------------- | ----------------- | ------------------- | -------------------- | ----------------- |\n",
        "| **running**      | run               | run                 | run                  | run               |\n",
        "| **studies**      | studi             | studi               | study                | study             |\n",
        "| **flies**        | fli               | fli                 | fly                  | fly               |\n",
        "| **happily**      | happili           | happili             | happy                | happily           |\n",
        "| **better**       | better            | better              | bet                  | good *(adj)*      |\n",
        "| **caring**       | care              | care                | car                  | care              |\n",
        "| **maximum**      | maximum           | maximum             | maxim                | maximum           |\n",
        "| **organization** | organ             | organ               | organ                | organization      |\n",
        "| **was**          | wa                | wa                  | was                  | be *(verb)*       |\n",
        "| **children**     | children          | children            | child                | child             |\n",
        "\n"
      ],
      "metadata": {
        "id": "yuEIBCzP4rEN"
      }
    },
    {
      "cell_type": "code",
      "source": [
        "import nltk\n",
        "from nltk.tokenize import word_tokenize, sent_tokenize\n",
        "\n",
        "from nltk.corpus import stopwords\n",
        "nltk.download('stopwords')\n",
        "# print(stopwords.words('english'))\n",
        "\n",
        "from nltk.stem import PorterStemmer, WordNetLemmatizer, LancasterStemmer\n",
        "ps= PorterStemmer()\n",
        "ss=SnowballStemmer(language = \"english\")\n",
        "ls=LancasterStemmer()\n",
        "\n",
        "nltk.download('wordnet')\n",
        "lemma = nltk.WordNetLemmatizer()\n",
        "\n"
      ],
      "metadata": {
        "colab": {
          "base_uri": "https://localhost:8080/"
        },
        "id": "34M3ObBRxoo8",
        "outputId": "bd169cfd-36b5-4c8f-f91a-c4a516eff142"
      },
      "execution_count": null,
      "outputs": [
        {
          "output_type": "stream",
          "name": "stderr",
          "text": [
            "[nltk_data] Downloading package stopwords to /root/nltk_data...\n",
            "[nltk_data]   Package stopwords is already up-to-date!\n",
            "[nltk_data] Downloading package wordnet to /root/nltk_data...\n",
            "[nltk_data]   Package wordnet is already up-to-date!\n"
          ]
        }
      ]
    },
    {
      "cell_type": "code",
      "source": [
        "' '.join([lemma.lemmatize(ps.stem(i)) for i in word_tokenize (news) if i not in stopwords.words('english') and i not in string.punctuation])\n",
        "# ' '.join([ps.stem(i) for i in word_tokenize (news) if i not in stopwords.words('english') and i not in string.punctuation])"
      ],
      "metadata": {
        "colab": {
          "base_uri": "https://localhost:8080/",
          "height": 52
        },
        "id": "70rs9TWgx0zJ",
        "outputId": "a5a01746-67aa-4202-8cbb-f8fa1ee34d52"
      },
      "execution_count": null,
      "outputs": [
        {
          "output_type": "execute_result",
          "data": {
            "text/plain": [
              "\"defenc minist rajnath singh thursday reportedli refus sign joint statement shanghai cooper organis sco as per report defenc minist refus dot india 's name document due failur address india 's concern regard cross-bord terror\""
            ],
            "application/vnd.google.colaboratory.intrinsic+json": {
              "type": "string"
            }
          },
          "metadata": {},
          "execution_count": 110
        }
      ]
    },
    {
      "cell_type": "code",
      "source": [
        "' '.join([lemma.lemmatize(i) for i in word_tokenize (news) if i not in stopwords.words('english') and i not in string.punctuation])"
      ],
      "metadata": {
        "colab": {
          "base_uri": "https://localhost:8080/",
          "height": 52
        },
        "id": "zBgFR7FBy09e",
        "outputId": "10514106-ff6b-4d5a-a575-34afe6c8bbfb"
      },
      "execution_count": null,
      "outputs": [
        {
          "output_type": "execute_result",
          "data": {
            "text/plain": [
              "\"Defence Minister Rajnath Singh Thursday reportedly refused sign joint statement Shanghai Cooperation Organisation SCO As per report defence minister refused dot India 's name document due failure address India 's concern regarding cross-border terrorism\""
            ],
            "application/vnd.google.colaboratory.intrinsic+json": {
              "type": "string"
            }
          },
          "metadata": {},
          "execution_count": 108
        }
      ]
    },
    {
      "cell_type": "code",
      "source": [
        "# full pipeline example\n",
        "import nltk\n",
        "import string\n",
        "import re\n",
        "\n",
        "from nltk.corpus import stopwords, wordnet\n",
        "from nltk.stem import PorterStemmer, WordNetLemmatizer\n",
        "from nltk.tokenize import word_tokenize\n",
        "from nltk import pos_tag\n",
        "\n",
        "# Download required resources (only once)\n",
        "nltk.download('punkt')\n",
        "nltk.download('stopwords')\n",
        "nltk.download('wordnet')\n",
        "nltk.download('averaged_perceptron_tagger')\n",
        "\n",
        "# Input text\n",
        "text = \"Running faster than the wind, she was better at it than anyone!\"\n",
        "\n",
        "# Step 1: Lowercasing\n",
        "text = text.lower()\n",
        "\n",
        "# Step 2: Remove punctuation using regex\n",
        "text = re.sub(f\"[{re.escape(string.punctuation)}]\", \"\", text)\n",
        "\n",
        "# Step 3: Tokenization\n",
        "tokens = word_tokenize(text)\n",
        "\n",
        "# Step 4: Stopword removal\n",
        "stop_words = set(stopwords.words(\"english\"))\n",
        "filtered_tokens = [w for w in tokens if w not in stop_words]\n",
        "\n",
        "# Step 5: Stemming\n",
        "stemmer = PorterStemmer()\n",
        "stemmed = [stemmer.stem(w) for w in filtered_tokens]\n",
        "\n",
        "# Step 6: Lemmatization with POS\n",
        "lemmatizer = WordNetLemmatizer()\n",
        "\n",
        "def get_wordnet_pos(word):\n",
        "    tag = pos_tag([word])[0][1][0].upper()\n",
        "    pos_dict = {'J': wordnet.ADJ, 'N': wordnet.NOUN,\n",
        "                'V': wordnet.VERB, 'R': wordnet.ADV}\n",
        "    return pos_dict.get(tag, wordnet.NOUN)\n",
        "\n",
        "lemmatized = [lemmatizer.lemmatize(w, get_wordnet_pos(w)) for w in filtered_tokens]\n",
        "\n",
        "# Output\n",
        "print(\"Original Tokens:\", tokens)\n",
        "print(\"After Stopword Removal:\", filtered_tokens)\n",
        "print(\"After Stemming:\", stemmed)\n",
        "print(\"After Lemmatization:\", lemmatized)\n"
      ],
      "metadata": {
        "colab": {
          "base_uri": "https://localhost:8080/"
        },
        "id": "nL_26o_e0CvK",
        "outputId": "2b86e81e-e293-4d22-b4f8-728919e335bf"
      },
      "execution_count": null,
      "outputs": [
        {
          "output_type": "stream",
          "name": "stderr",
          "text": [
            "[nltk_data] Downloading package punkt to /root/nltk_data...\n",
            "[nltk_data]   Package punkt is already up-to-date!\n",
            "[nltk_data] Downloading package stopwords to /root/nltk_data...\n",
            "[nltk_data]   Package stopwords is already up-to-date!\n",
            "[nltk_data] Downloading package wordnet to /root/nltk_data...\n",
            "[nltk_data]   Package wordnet is already up-to-date!\n",
            "[nltk_data] Downloading package averaged_perceptron_tagger to\n",
            "[nltk_data]     /root/nltk_data...\n",
            "[nltk_data]   Unzipping taggers/averaged_perceptron_tagger.zip.\n"
          ]
        },
        {
          "output_type": "stream",
          "name": "stdout",
          "text": [
            "Original Tokens: ['running', 'faster', 'than', 'the', 'wind', 'she', 'was', 'better', 'at', 'it', 'than', 'anyone']\n",
            "After Stopword Removal: ['running', 'faster', 'wind', 'better', 'anyone']\n",
            "After Stemming: ['run', 'faster', 'wind', 'better', 'anyon']\n",
            "After Lemmatization: ['run', 'faster', 'wind', 'well', 'anyone']\n"
          ]
        }
      ]
    },
    {
      "cell_type": "markdown",
      "source": [
        "### **Session 72- NLP Pipeline - (27 June)**"
      ],
      "metadata": {
        "id": "EzWmjFJ47zp3"
      }
    },
    {
      "cell_type": "code",
      "source": [
        "import pandas as pd\n",
        "import numpy as np\n",
        "import re\n",
        "df = pd.read_csv(\"/content/IMDB.csv\", on_bad_lines='skip')\n",
        "df.head(3)"
      ],
      "metadata": {
        "id": "Y4RPvyU61OvH",
        "colab": {
          "base_uri": "https://localhost:8080/",
          "height": 143
        },
        "outputId": "ff923793-2302-44cd-8802-51e101620232"
      },
      "execution_count": null,
      "outputs": [
        {
          "output_type": "execute_result",
          "data": {
            "text/plain": [
              "                                              review sentiment\n",
              "0  One of the other reviewers has mentioned that ...  positive\n",
              "1  A wonderful little production. <br /><br />The...  positive\n",
              "2  I thought this was a wonderful way to spend ti...  positive"
            ],
            "text/html": [
              "\n",
              "  <div id=\"df-2e847e5a-7b1d-438a-932a-356304a32683\" class=\"colab-df-container\">\n",
              "    <div>\n",
              "<style scoped>\n",
              "    .dataframe tbody tr th:only-of-type {\n",
              "        vertical-align: middle;\n",
              "    }\n",
              "\n",
              "    .dataframe tbody tr th {\n",
              "        vertical-align: top;\n",
              "    }\n",
              "\n",
              "    .dataframe thead th {\n",
              "        text-align: right;\n",
              "    }\n",
              "</style>\n",
              "<table border=\"1\" class=\"dataframe\">\n",
              "  <thead>\n",
              "    <tr style=\"text-align: right;\">\n",
              "      <th></th>\n",
              "      <th>review</th>\n",
              "      <th>sentiment</th>\n",
              "    </tr>\n",
              "  </thead>\n",
              "  <tbody>\n",
              "    <tr>\n",
              "      <th>0</th>\n",
              "      <td>One of the other reviewers has mentioned that ...</td>\n",
              "      <td>positive</td>\n",
              "    </tr>\n",
              "    <tr>\n",
              "      <th>1</th>\n",
              "      <td>A wonderful little production. &lt;br /&gt;&lt;br /&gt;The...</td>\n",
              "      <td>positive</td>\n",
              "    </tr>\n",
              "    <tr>\n",
              "      <th>2</th>\n",
              "      <td>I thought this was a wonderful way to spend ti...</td>\n",
              "      <td>positive</td>\n",
              "    </tr>\n",
              "  </tbody>\n",
              "</table>\n",
              "</div>\n",
              "    <div class=\"colab-df-buttons\">\n",
              "\n",
              "  <div class=\"colab-df-container\">\n",
              "    <button class=\"colab-df-convert\" onclick=\"convertToInteractive('df-2e847e5a-7b1d-438a-932a-356304a32683')\"\n",
              "            title=\"Convert this dataframe to an interactive table.\"\n",
              "            style=\"display:none;\">\n",
              "\n",
              "  <svg xmlns=\"http://www.w3.org/2000/svg\" height=\"24px\" viewBox=\"0 -960 960 960\">\n",
              "    <path d=\"M120-120v-720h720v720H120Zm60-500h600v-160H180v160Zm220 220h160v-160H400v160Zm0 220h160v-160H400v160ZM180-400h160v-160H180v160Zm440 0h160v-160H620v160ZM180-180h160v-160H180v160Zm440 0h160v-160H620v160Z\"/>\n",
              "  </svg>\n",
              "    </button>\n",
              "\n",
              "  <style>\n",
              "    .colab-df-container {\n",
              "      display:flex;\n",
              "      gap: 12px;\n",
              "    }\n",
              "\n",
              "    .colab-df-convert {\n",
              "      background-color: #E8F0FE;\n",
              "      border: none;\n",
              "      border-radius: 50%;\n",
              "      cursor: pointer;\n",
              "      display: none;\n",
              "      fill: #1967D2;\n",
              "      height: 32px;\n",
              "      padding: 0 0 0 0;\n",
              "      width: 32px;\n",
              "    }\n",
              "\n",
              "    .colab-df-convert:hover {\n",
              "      background-color: #E2EBFA;\n",
              "      box-shadow: 0px 1px 2px rgba(60, 64, 67, 0.3), 0px 1px 3px 1px rgba(60, 64, 67, 0.15);\n",
              "      fill: #174EA6;\n",
              "    }\n",
              "\n",
              "    .colab-df-buttons div {\n",
              "      margin-bottom: 4px;\n",
              "    }\n",
              "\n",
              "    [theme=dark] .colab-df-convert {\n",
              "      background-color: #3B4455;\n",
              "      fill: #D2E3FC;\n",
              "    }\n",
              "\n",
              "    [theme=dark] .colab-df-convert:hover {\n",
              "      background-color: #434B5C;\n",
              "      box-shadow: 0px 1px 3px 1px rgba(0, 0, 0, 0.15);\n",
              "      filter: drop-shadow(0px 1px 2px rgba(0, 0, 0, 0.3));\n",
              "      fill: #FFFFFF;\n",
              "    }\n",
              "  </style>\n",
              "\n",
              "    <script>\n",
              "      const buttonEl =\n",
              "        document.querySelector('#df-2e847e5a-7b1d-438a-932a-356304a32683 button.colab-df-convert');\n",
              "      buttonEl.style.display =\n",
              "        google.colab.kernel.accessAllowed ? 'block' : 'none';\n",
              "\n",
              "      async function convertToInteractive(key) {\n",
              "        const element = document.querySelector('#df-2e847e5a-7b1d-438a-932a-356304a32683');\n",
              "        const dataTable =\n",
              "          await google.colab.kernel.invokeFunction('convertToInteractive',\n",
              "                                                    [key], {});\n",
              "        if (!dataTable) return;\n",
              "\n",
              "        const docLinkHtml = 'Like what you see? Visit the ' +\n",
              "          '<a target=\"_blank\" href=https://colab.research.google.com/notebooks/data_table.ipynb>data table notebook</a>'\n",
              "          + ' to learn more about interactive tables.';\n",
              "        element.innerHTML = '';\n",
              "        dataTable['output_type'] = 'display_data';\n",
              "        await google.colab.output.renderOutput(dataTable, element);\n",
              "        const docLink = document.createElement('div');\n",
              "        docLink.innerHTML = docLinkHtml;\n",
              "        element.appendChild(docLink);\n",
              "      }\n",
              "    </script>\n",
              "  </div>\n",
              "\n",
              "\n",
              "    <div id=\"df-89bd5a68-658e-4419-b01f-44de6c520acf\">\n",
              "      <button class=\"colab-df-quickchart\" onclick=\"quickchart('df-89bd5a68-658e-4419-b01f-44de6c520acf')\"\n",
              "                title=\"Suggest charts\"\n",
              "                style=\"display:none;\">\n",
              "\n",
              "<svg xmlns=\"http://www.w3.org/2000/svg\" height=\"24px\"viewBox=\"0 0 24 24\"\n",
              "     width=\"24px\">\n",
              "    <g>\n",
              "        <path d=\"M19 3H5c-1.1 0-2 .9-2 2v14c0 1.1.9 2 2 2h14c1.1 0 2-.9 2-2V5c0-1.1-.9-2-2-2zM9 17H7v-7h2v7zm4 0h-2V7h2v10zm4 0h-2v-4h2v4z\"/>\n",
              "    </g>\n",
              "</svg>\n",
              "      </button>\n",
              "\n",
              "<style>\n",
              "  .colab-df-quickchart {\n",
              "      --bg-color: #E8F0FE;\n",
              "      --fill-color: #1967D2;\n",
              "      --hover-bg-color: #E2EBFA;\n",
              "      --hover-fill-color: #174EA6;\n",
              "      --disabled-fill-color: #AAA;\n",
              "      --disabled-bg-color: #DDD;\n",
              "  }\n",
              "\n",
              "  [theme=dark] .colab-df-quickchart {\n",
              "      --bg-color: #3B4455;\n",
              "      --fill-color: #D2E3FC;\n",
              "      --hover-bg-color: #434B5C;\n",
              "      --hover-fill-color: #FFFFFF;\n",
              "      --disabled-bg-color: #3B4455;\n",
              "      --disabled-fill-color: #666;\n",
              "  }\n",
              "\n",
              "  .colab-df-quickchart {\n",
              "    background-color: var(--bg-color);\n",
              "    border: none;\n",
              "    border-radius: 50%;\n",
              "    cursor: pointer;\n",
              "    display: none;\n",
              "    fill: var(--fill-color);\n",
              "    height: 32px;\n",
              "    padding: 0;\n",
              "    width: 32px;\n",
              "  }\n",
              "\n",
              "  .colab-df-quickchart:hover {\n",
              "    background-color: var(--hover-bg-color);\n",
              "    box-shadow: 0 1px 2px rgba(60, 64, 67, 0.3), 0 1px 3px 1px rgba(60, 64, 67, 0.15);\n",
              "    fill: var(--button-hover-fill-color);\n",
              "  }\n",
              "\n",
              "  .colab-df-quickchart-complete:disabled,\n",
              "  .colab-df-quickchart-complete:disabled:hover {\n",
              "    background-color: var(--disabled-bg-color);\n",
              "    fill: var(--disabled-fill-color);\n",
              "    box-shadow: none;\n",
              "  }\n",
              "\n",
              "  .colab-df-spinner {\n",
              "    border: 2px solid var(--fill-color);\n",
              "    border-color: transparent;\n",
              "    border-bottom-color: var(--fill-color);\n",
              "    animation:\n",
              "      spin 1s steps(1) infinite;\n",
              "  }\n",
              "\n",
              "  @keyframes spin {\n",
              "    0% {\n",
              "      border-color: transparent;\n",
              "      border-bottom-color: var(--fill-color);\n",
              "      border-left-color: var(--fill-color);\n",
              "    }\n",
              "    20% {\n",
              "      border-color: transparent;\n",
              "      border-left-color: var(--fill-color);\n",
              "      border-top-color: var(--fill-color);\n",
              "    }\n",
              "    30% {\n",
              "      border-color: transparent;\n",
              "      border-left-color: var(--fill-color);\n",
              "      border-top-color: var(--fill-color);\n",
              "      border-right-color: var(--fill-color);\n",
              "    }\n",
              "    40% {\n",
              "      border-color: transparent;\n",
              "      border-right-color: var(--fill-color);\n",
              "      border-top-color: var(--fill-color);\n",
              "    }\n",
              "    60% {\n",
              "      border-color: transparent;\n",
              "      border-right-color: var(--fill-color);\n",
              "    }\n",
              "    80% {\n",
              "      border-color: transparent;\n",
              "      border-right-color: var(--fill-color);\n",
              "      border-bottom-color: var(--fill-color);\n",
              "    }\n",
              "    90% {\n",
              "      border-color: transparent;\n",
              "      border-bottom-color: var(--fill-color);\n",
              "    }\n",
              "  }\n",
              "</style>\n",
              "\n",
              "      <script>\n",
              "        async function quickchart(key) {\n",
              "          const quickchartButtonEl =\n",
              "            document.querySelector('#' + key + ' button');\n",
              "          quickchartButtonEl.disabled = true;  // To prevent multiple clicks.\n",
              "          quickchartButtonEl.classList.add('colab-df-spinner');\n",
              "          try {\n",
              "            const charts = await google.colab.kernel.invokeFunction(\n",
              "                'suggestCharts', [key], {});\n",
              "          } catch (error) {\n",
              "            console.error('Error during call to suggestCharts:', error);\n",
              "          }\n",
              "          quickchartButtonEl.classList.remove('colab-df-spinner');\n",
              "          quickchartButtonEl.classList.add('colab-df-quickchart-complete');\n",
              "        }\n",
              "        (() => {\n",
              "          let quickchartButtonEl =\n",
              "            document.querySelector('#df-89bd5a68-658e-4419-b01f-44de6c520acf button');\n",
              "          quickchartButtonEl.style.display =\n",
              "            google.colab.kernel.accessAllowed ? 'block' : 'none';\n",
              "        })();\n",
              "      </script>\n",
              "    </div>\n",
              "\n",
              "    </div>\n",
              "  </div>\n"
            ],
            "application/vnd.google.colaboratory.intrinsic+json": {
              "type": "dataframe",
              "variable_name": "df",
              "summary": "{\n  \"name\": \"df\",\n  \"rows\": 50000,\n  \"fields\": [\n    {\n      \"column\": \"review\",\n      \"properties\": {\n        \"dtype\": \"string\",\n        \"num_unique_values\": 49582,\n        \"samples\": [\n          \"\\\"Soul Plane\\\" is a horrible attempt at comedy that only should appeal people with thick skulls, bloodshot eyes and furry pawns. <br /><br />The plot is not only incoherent but also non-existent, acting is mostly sub sub-par with a gang of highly moronic and dreadful characters thrown in for bad measure, jokes are often spotted miles ahead and almost never even a bit amusing. This movie lacks any structure and is full of racial stereotypes that must have seemed old even in the fifties, the only thing it really has going for it is some pretty ladies, but really, if you want that you can rent something from the \\\"Adult\\\" section. OK?<br /><br />I can hardly see anything here to recommend since you'll probably have a lot a better and productive time chasing rats with a sledgehammer or inventing waterproof teabags or whatever.<br /><br />2/10\",\n          \"Guest from the Future tells a fascinating story of time travel, friendship, battle of good and evil -- all with a small budget, child actors, and few special effects. Something for Spielberg and Lucas to learn from. ;) A sixth-grader Kolya \\\"Nick\\\" Gerasimov finds a time machine in the basement of a decrepit building and travels 100 years into the future. He discovers a near-perfect, utopian society where robots play guitars and write poetry, everyone is kind to each other and people enjoy everything technology has to offer. Alice is the daughter of a prominent scientist who invented a device called Mielophone that allows to read minds of humans and animals. The device can be put to both good and bad use, depending on whose hands it falls into. When two evil space pirates from Saturn who want to rule the universe attempt to steal Mielophone, it falls into the hands of 20th century school boy Nick. With the pirates hot on his tracks, he travels back to his time, followed by the pirates, and Alice. Chaos, confusion and funny situations follow as the luckless pirates try to blend in with the earthlings. Alice enrolls in the same school Nick goes to and demonstrates superhuman abilities in PE class. The catch is, Alice doesn't know what Nick looks like, while the pirates do. Also, the pirates are able to change their appearance and turn literally into anyone. (Hmm, I wonder if this is where James Cameron got the idea for Terminator...) Who gets to Nick -- and Mielophone -- first? Excellent plot, non-stop adventures, and great soundtrack. I wish Hollywood made kid movies like this one...\",\n          \"\\\"National Treasure\\\" (2004) is a thoroughly misguided hodge-podge of plot entanglements that borrow from nearly every cloak and dagger government conspiracy clich\\u00e9 that has ever been written. The film stars Nicholas Cage as Benjamin Franklin Gates (how precious is that, I ask you?); a seemingly normal fellow who, for no other reason than being of a lineage of like-minded misguided fortune hunters, decides to steal a 'national treasure' that has been hidden by the United States founding fathers. After a bit of subtext and background that plays laughably (unintentionally) like Indiana Jones meets The Patriot, the film degenerates into one misguided whimsy after another \\u0096 attempting to create a 'Stanley Goodspeed' regurgitation of Nicholas Cage and launch the whole convoluted mess forward with a series of high octane, but disconnected misadventures.<br /><br />The relevancy and logic to having George Washington and his motley crew of patriots burying a king's ransom someplace on native soil, and then, going through the meticulous plan of leaving clues scattered throughout U.S. currency art work, is something that director Jon Turteltaub never quite gets around to explaining. Couldn't Washington found better usage for such wealth during the start up of the country? Hence, we are left with a mystery built on top of an enigma that is already on shaky ground by the time Ben appoints himself the new custodian of this untold wealth. Ben's intentions are noble \\u0096 if confusing. He's set on protecting the treasure. For who and when?\\u0085your guess is as good as mine.<br /><br />But there are a few problems with Ben's crusade. First up, his friend, Ian Holmes (Sean Bean) decides that he can't wait for Ben to make up his mind about stealing the Declaration of Independence from the National Archives (oh, yeah \\u0096 brilliant idea!). Presumably, the back of that famous document holds the secret answer to the ultimate fortune. So Ian tries to kill Ben. The assassination attempt is, of course, unsuccessful, if overly melodramatic. It also affords Ben the opportunity to pick up, and pick on, the very sultry curator of the archives, Abigail Chase (Diane Kruger). She thinks Ben is clearly a nut \\u0096 at least at the beginning. But true to action/romance form, Abby's resolve melts quicker than you can say, \\\"is that the Hope Diamond?\\\" The film moves into full X-File-ish mode, as the FBI, mistakenly believing that Ben is behind the theft, retaliate in various benign ways that lead to a multi-layering of action sequences reminiscent of Mission Impossible meets The Fugitive. Honestly, don't those guys ever get 'intelligence' information that is correct? In the final analysis, \\\"National Treasure\\\" isn't great film making, so much as it's a patchwork rehash of tired old bits from other movies, woven together from scraps, the likes of which would make IL' Betsy Ross blush.<br /><br />The Buena Vista DVD delivers a far more generous treatment than this film is deserving of. The anamorphic widescreen picture exhibits a very smooth and finely detailed image with very rich colors, natural flesh tones, solid blacks and clean whites. The stylized image is also free of blemishes and digital enhancements. The audio is 5.1 and delivers a nice sonic boom to your side and rear speakers with intensity and realism. Extras include a host of promotional junket material that is rather deep and over the top in its explanation of how and why this film was made. If only, as an audience, we had had more clarification as to why Ben and co. were chasing after an illusive treasure, this might have been one good flick. Extras conclude with the theatrical trailer, audio commentary and deleted scenes. Not for the faint-hearted \\u0096 just the thick-headed.\"\n        ],\n        \"semantic_type\": \"\",\n        \"description\": \"\"\n      }\n    },\n    {\n      \"column\": \"sentiment\",\n      \"properties\": {\n        \"dtype\": \"category\",\n        \"num_unique_values\": 2,\n        \"samples\": [\n          \"negative\",\n          \"positive\"\n        ],\n        \"semantic_type\": \"\",\n        \"description\": \"\"\n      }\n    }\n  ]\n}"
            }
          },
          "metadata": {},
          "execution_count": 3
        }
      ]
    },
    {
      "cell_type": "code",
      "source": [
        "df1 = df.sample(10000)\n",
        "df1[\"sentiment\"].value_counts()"
      ],
      "metadata": {
        "colab": {
          "base_uri": "https://localhost:8080/",
          "height": 178
        },
        "id": "_PuiOL-P-Wqm",
        "outputId": "dce30b98-8034-43d5-b0cb-60e42d4c33d6"
      },
      "execution_count": null,
      "outputs": [
        {
          "output_type": "execute_result",
          "data": {
            "text/plain": [
              "sentiment\n",
              "positive    5049\n",
              "negative    4951\n",
              "Name: count, dtype: int64"
            ],
            "text/html": [
              "<div>\n",
              "<style scoped>\n",
              "    .dataframe tbody tr th:only-of-type {\n",
              "        vertical-align: middle;\n",
              "    }\n",
              "\n",
              "    .dataframe tbody tr th {\n",
              "        vertical-align: top;\n",
              "    }\n",
              "\n",
              "    .dataframe thead th {\n",
              "        text-align: right;\n",
              "    }\n",
              "</style>\n",
              "<table border=\"1\" class=\"dataframe\">\n",
              "  <thead>\n",
              "    <tr style=\"text-align: right;\">\n",
              "      <th></th>\n",
              "      <th>count</th>\n",
              "    </tr>\n",
              "    <tr>\n",
              "      <th>sentiment</th>\n",
              "      <th></th>\n",
              "    </tr>\n",
              "  </thead>\n",
              "  <tbody>\n",
              "    <tr>\n",
              "      <th>positive</th>\n",
              "      <td>5049</td>\n",
              "    </tr>\n",
              "    <tr>\n",
              "      <th>negative</th>\n",
              "      <td>4951</td>\n",
              "    </tr>\n",
              "  </tbody>\n",
              "</table>\n",
              "</div><br><label><b>dtype:</b> int64</label>"
            ]
          },
          "metadata": {},
          "execution_count": 6
        }
      ]
    },
    {
      "cell_type": "code",
      "source": [
        "df1.reset_index(inplace = True)"
      ],
      "metadata": {
        "id": "KXIQSzAf-l3H"
      },
      "execution_count": null,
      "outputs": []
    },
    {
      "cell_type": "code",
      "source": [
        "df1.head(2)"
      ],
      "metadata": {
        "colab": {
          "base_uri": "https://localhost:8080/",
          "height": 112
        },
        "id": "TfTXRAVZ-xQC",
        "outputId": "1102b371-28e5-4914-c75a-a5742c4027d9"
      },
      "execution_count": null,
      "outputs": [
        {
          "output_type": "execute_result",
          "data": {
            "text/plain": [
              "   index                                             review sentiment\n",
              "0  44099  Having heard quite positive reviews and having...  positive\n",
              "1  12709  Probably the first Portuguese film I have seen...  positive"
            ],
            "text/html": [
              "\n",
              "  <div id=\"df-1b15fac0-b0ce-4fef-a0ac-1bece01e4eea\" class=\"colab-df-container\">\n",
              "    <div>\n",
              "<style scoped>\n",
              "    .dataframe tbody tr th:only-of-type {\n",
              "        vertical-align: middle;\n",
              "    }\n",
              "\n",
              "    .dataframe tbody tr th {\n",
              "        vertical-align: top;\n",
              "    }\n",
              "\n",
              "    .dataframe thead th {\n",
              "        text-align: right;\n",
              "    }\n",
              "</style>\n",
              "<table border=\"1\" class=\"dataframe\">\n",
              "  <thead>\n",
              "    <tr style=\"text-align: right;\">\n",
              "      <th></th>\n",
              "      <th>index</th>\n",
              "      <th>review</th>\n",
              "      <th>sentiment</th>\n",
              "    </tr>\n",
              "  </thead>\n",
              "  <tbody>\n",
              "    <tr>\n",
              "      <th>0</th>\n",
              "      <td>44099</td>\n",
              "      <td>Having heard quite positive reviews and having...</td>\n",
              "      <td>positive</td>\n",
              "    </tr>\n",
              "    <tr>\n",
              "      <th>1</th>\n",
              "      <td>12709</td>\n",
              "      <td>Probably the first Portuguese film I have seen...</td>\n",
              "      <td>positive</td>\n",
              "    </tr>\n",
              "  </tbody>\n",
              "</table>\n",
              "</div>\n",
              "    <div class=\"colab-df-buttons\">\n",
              "\n",
              "  <div class=\"colab-df-container\">\n",
              "    <button class=\"colab-df-convert\" onclick=\"convertToInteractive('df-1b15fac0-b0ce-4fef-a0ac-1bece01e4eea')\"\n",
              "            title=\"Convert this dataframe to an interactive table.\"\n",
              "            style=\"display:none;\">\n",
              "\n",
              "  <svg xmlns=\"http://www.w3.org/2000/svg\" height=\"24px\" viewBox=\"0 -960 960 960\">\n",
              "    <path d=\"M120-120v-720h720v720H120Zm60-500h600v-160H180v160Zm220 220h160v-160H400v160Zm0 220h160v-160H400v160ZM180-400h160v-160H180v160Zm440 0h160v-160H620v160ZM180-180h160v-160H180v160Zm440 0h160v-160H620v160Z\"/>\n",
              "  </svg>\n",
              "    </button>\n",
              "\n",
              "  <style>\n",
              "    .colab-df-container {\n",
              "      display:flex;\n",
              "      gap: 12px;\n",
              "    }\n",
              "\n",
              "    .colab-df-convert {\n",
              "      background-color: #E8F0FE;\n",
              "      border: none;\n",
              "      border-radius: 50%;\n",
              "      cursor: pointer;\n",
              "      display: none;\n",
              "      fill: #1967D2;\n",
              "      height: 32px;\n",
              "      padding: 0 0 0 0;\n",
              "      width: 32px;\n",
              "    }\n",
              "\n",
              "    .colab-df-convert:hover {\n",
              "      background-color: #E2EBFA;\n",
              "      box-shadow: 0px 1px 2px rgba(60, 64, 67, 0.3), 0px 1px 3px 1px rgba(60, 64, 67, 0.15);\n",
              "      fill: #174EA6;\n",
              "    }\n",
              "\n",
              "    .colab-df-buttons div {\n",
              "      margin-bottom: 4px;\n",
              "    }\n",
              "\n",
              "    [theme=dark] .colab-df-convert {\n",
              "      background-color: #3B4455;\n",
              "      fill: #D2E3FC;\n",
              "    }\n",
              "\n",
              "    [theme=dark] .colab-df-convert:hover {\n",
              "      background-color: #434B5C;\n",
              "      box-shadow: 0px 1px 3px 1px rgba(0, 0, 0, 0.15);\n",
              "      filter: drop-shadow(0px 1px 2px rgba(0, 0, 0, 0.3));\n",
              "      fill: #FFFFFF;\n",
              "    }\n",
              "  </style>\n",
              "\n",
              "    <script>\n",
              "      const buttonEl =\n",
              "        document.querySelector('#df-1b15fac0-b0ce-4fef-a0ac-1bece01e4eea button.colab-df-convert');\n",
              "      buttonEl.style.display =\n",
              "        google.colab.kernel.accessAllowed ? 'block' : 'none';\n",
              "\n",
              "      async function convertToInteractive(key) {\n",
              "        const element = document.querySelector('#df-1b15fac0-b0ce-4fef-a0ac-1bece01e4eea');\n",
              "        const dataTable =\n",
              "          await google.colab.kernel.invokeFunction('convertToInteractive',\n",
              "                                                    [key], {});\n",
              "        if (!dataTable) return;\n",
              "\n",
              "        const docLinkHtml = 'Like what you see? Visit the ' +\n",
              "          '<a target=\"_blank\" href=https://colab.research.google.com/notebooks/data_table.ipynb>data table notebook</a>'\n",
              "          + ' to learn more about interactive tables.';\n",
              "        element.innerHTML = '';\n",
              "        dataTable['output_type'] = 'display_data';\n",
              "        await google.colab.output.renderOutput(dataTable, element);\n",
              "        const docLink = document.createElement('div');\n",
              "        docLink.innerHTML = docLinkHtml;\n",
              "        element.appendChild(docLink);\n",
              "      }\n",
              "    </script>\n",
              "  </div>\n",
              "\n",
              "\n",
              "    <div id=\"df-6835dd92-9a41-4b3e-895c-29acda22ef24\">\n",
              "      <button class=\"colab-df-quickchart\" onclick=\"quickchart('df-6835dd92-9a41-4b3e-895c-29acda22ef24')\"\n",
              "                title=\"Suggest charts\"\n",
              "                style=\"display:none;\">\n",
              "\n",
              "<svg xmlns=\"http://www.w3.org/2000/svg\" height=\"24px\"viewBox=\"0 0 24 24\"\n",
              "     width=\"24px\">\n",
              "    <g>\n",
              "        <path d=\"M19 3H5c-1.1 0-2 .9-2 2v14c0 1.1.9 2 2 2h14c1.1 0 2-.9 2-2V5c0-1.1-.9-2-2-2zM9 17H7v-7h2v7zm4 0h-2V7h2v10zm4 0h-2v-4h2v4z\"/>\n",
              "    </g>\n",
              "</svg>\n",
              "      </button>\n",
              "\n",
              "<style>\n",
              "  .colab-df-quickchart {\n",
              "      --bg-color: #E8F0FE;\n",
              "      --fill-color: #1967D2;\n",
              "      --hover-bg-color: #E2EBFA;\n",
              "      --hover-fill-color: #174EA6;\n",
              "      --disabled-fill-color: #AAA;\n",
              "      --disabled-bg-color: #DDD;\n",
              "  }\n",
              "\n",
              "  [theme=dark] .colab-df-quickchart {\n",
              "      --bg-color: #3B4455;\n",
              "      --fill-color: #D2E3FC;\n",
              "      --hover-bg-color: #434B5C;\n",
              "      --hover-fill-color: #FFFFFF;\n",
              "      --disabled-bg-color: #3B4455;\n",
              "      --disabled-fill-color: #666;\n",
              "  }\n",
              "\n",
              "  .colab-df-quickchart {\n",
              "    background-color: var(--bg-color);\n",
              "    border: none;\n",
              "    border-radius: 50%;\n",
              "    cursor: pointer;\n",
              "    display: none;\n",
              "    fill: var(--fill-color);\n",
              "    height: 32px;\n",
              "    padding: 0;\n",
              "    width: 32px;\n",
              "  }\n",
              "\n",
              "  .colab-df-quickchart:hover {\n",
              "    background-color: var(--hover-bg-color);\n",
              "    box-shadow: 0 1px 2px rgba(60, 64, 67, 0.3), 0 1px 3px 1px rgba(60, 64, 67, 0.15);\n",
              "    fill: var(--button-hover-fill-color);\n",
              "  }\n",
              "\n",
              "  .colab-df-quickchart-complete:disabled,\n",
              "  .colab-df-quickchart-complete:disabled:hover {\n",
              "    background-color: var(--disabled-bg-color);\n",
              "    fill: var(--disabled-fill-color);\n",
              "    box-shadow: none;\n",
              "  }\n",
              "\n",
              "  .colab-df-spinner {\n",
              "    border: 2px solid var(--fill-color);\n",
              "    border-color: transparent;\n",
              "    border-bottom-color: var(--fill-color);\n",
              "    animation:\n",
              "      spin 1s steps(1) infinite;\n",
              "  }\n",
              "\n",
              "  @keyframes spin {\n",
              "    0% {\n",
              "      border-color: transparent;\n",
              "      border-bottom-color: var(--fill-color);\n",
              "      border-left-color: var(--fill-color);\n",
              "    }\n",
              "    20% {\n",
              "      border-color: transparent;\n",
              "      border-left-color: var(--fill-color);\n",
              "      border-top-color: var(--fill-color);\n",
              "    }\n",
              "    30% {\n",
              "      border-color: transparent;\n",
              "      border-left-color: var(--fill-color);\n",
              "      border-top-color: var(--fill-color);\n",
              "      border-right-color: var(--fill-color);\n",
              "    }\n",
              "    40% {\n",
              "      border-color: transparent;\n",
              "      border-right-color: var(--fill-color);\n",
              "      border-top-color: var(--fill-color);\n",
              "    }\n",
              "    60% {\n",
              "      border-color: transparent;\n",
              "      border-right-color: var(--fill-color);\n",
              "    }\n",
              "    80% {\n",
              "      border-color: transparent;\n",
              "      border-right-color: var(--fill-color);\n",
              "      border-bottom-color: var(--fill-color);\n",
              "    }\n",
              "    90% {\n",
              "      border-color: transparent;\n",
              "      border-bottom-color: var(--fill-color);\n",
              "    }\n",
              "  }\n",
              "</style>\n",
              "\n",
              "      <script>\n",
              "        async function quickchart(key) {\n",
              "          const quickchartButtonEl =\n",
              "            document.querySelector('#' + key + ' button');\n",
              "          quickchartButtonEl.disabled = true;  // To prevent multiple clicks.\n",
              "          quickchartButtonEl.classList.add('colab-df-spinner');\n",
              "          try {\n",
              "            const charts = await google.colab.kernel.invokeFunction(\n",
              "                'suggestCharts', [key], {});\n",
              "          } catch (error) {\n",
              "            console.error('Error during call to suggestCharts:', error);\n",
              "          }\n",
              "          quickchartButtonEl.classList.remove('colab-df-spinner');\n",
              "          quickchartButtonEl.classList.add('colab-df-quickchart-complete');\n",
              "        }\n",
              "        (() => {\n",
              "          let quickchartButtonEl =\n",
              "            document.querySelector('#df-6835dd92-9a41-4b3e-895c-29acda22ef24 button');\n",
              "          quickchartButtonEl.style.display =\n",
              "            google.colab.kernel.accessAllowed ? 'block' : 'none';\n",
              "        })();\n",
              "      </script>\n",
              "    </div>\n",
              "\n",
              "    </div>\n",
              "  </div>\n"
            ],
            "application/vnd.google.colaboratory.intrinsic+json": {
              "type": "dataframe",
              "variable_name": "df1",
              "summary": "{\n  \"name\": \"df1\",\n  \"rows\": 10000,\n  \"fields\": [\n    {\n      \"column\": \"index\",\n      \"properties\": {\n        \"dtype\": \"number\",\n        \"std\": 14397,\n        \"min\": 3,\n        \"max\": 49986,\n        \"num_unique_values\": 10000,\n        \"samples\": [\n          4040,\n          2573,\n          5783\n        ],\n        \"semantic_type\": \"\",\n        \"description\": \"\"\n      }\n    },\n    {\n      \"column\": \"review\",\n      \"properties\": {\n        \"dtype\": \"string\",\n        \"num_unique_values\": 9986,\n        \"samples\": [\n          \"i watched this series when it first came out in the 70s.i was 14 years old and i watched it at my best friends house as my dad didn't want to watch it.it became a weekly ritual every Sunday, and as anyone will tell you for two fourteen year olds to watch a documentary in almost reverential silence must mean that this was something special.<br /><br />the broad sweep of the events of world war 2 makes for a difficult subject to document.so the makers broke it down into what they considered to be the most significant key happenings and devoted one episode to each.some episodes covered long periods such as 'wolf pack' which covered nearly all six years of the battle of the Atlantic.while the battle of Stalingrad had one episode to itself.<br /><br />this documentary could not be made today quite simply because most of those interviewed are dead.the list of significant players appearing gives an amazing insight into the thinking at the time.Anthony eden the foreign secretary,Carl donnitz,head of the u-boats,Albert speer,pet architect confident and later armament minister for Hitler.in one of the later episodes we see traudl junge, Hitler's secretary,who was with him in the bunker and it was to her that he dictated his last will and testament-she left the bunker after Hitler's suicide and escaped through the Russian lines.these and many others play a major role in the realism of the events portrayed.<br /><br />if i have any criticism of the series it is that the code-breakers of bletchly park are not included but the revelations of their part in the war only emerged after the series had been made so i cannot blame the programme makers.<br /><br />the opening titles and music are magnificent,and Lawrence Olivier's narration lends a natural gravity to the script.<br /><br />the best documentary series ever made? without doubt.unmissable\",\n          \"This is one of those \\\"so bad it is good\\\" films that you always hear about but never see! Unlike Troma films which are deliberately bad and campy (and I am not amused) this one is 100% pure serious.<br /><br />However with features such as a supposedly super-lethal killer robot that prances about like one of the Solid Gold Dancers on an acid trip and a magical first mate that calls down lightning and transforms into the Good Witch of the East the fact that it takes itself seriously pushes it so far over the edge of bad that makes it full circle around back to entertaining.<br /><br />Watcheable enough because of that.\",\n          \"<br /><br />I must admit, I was expecting something quite different from my first viewing of 'Cut' last night, though was delighted with the unexpected Australian horror gem. I am a true horror fan as true as they come, and found 'Cut' to not only be the best of the genre Australia has ever produced, but one of the great parody/comedy films of late.<br /><br />My only concern is that mainstream audiences may not pick up on a lot of the comedic elements - the film was not overly clever in it's application but made me laugh at every turn trying to fit in EVERY possible cliche of the horror genre they could. I am certain this was intended as humour....hoping this was intended as humour.<br /><br />And of course, there was the gore.<br /><br />The use of the 'customised' garden shears was brilliance - besides the expected stabs and slashes. In short, there was a huge amount of variety and creativity in the many violent deaths, enough to please even the skeptics of this films worth.<br /><br />The appearance of both Kylie Minogue (short that her appearance was) and Molly Ringwald was just another reason to see the film - both performances were fantastic, as well as Simon Bossell ('The Castle') in a brilliant role as the jokey technician.<br /><br />All in all, I think this movie is one of the best horror products of the last couple or years, as well as a beautiful satire/parody - toungue-in-cheek till the very end.<br /><br />Loved it. Go see it!\"\n        ],\n        \"semantic_type\": \"\",\n        \"description\": \"\"\n      }\n    },\n    {\n      \"column\": \"sentiment\",\n      \"properties\": {\n        \"dtype\": \"category\",\n        \"num_unique_values\": 2,\n        \"samples\": [\n          \"negative\",\n          \"positive\"\n        ],\n        \"semantic_type\": \"\",\n        \"description\": \"\"\n      }\n    }\n  ]\n}"
            }
          },
          "metadata": {},
          "execution_count": 9
        }
      ]
    },
    {
      "cell_type": "code",
      "source": [
        "df1.drop(\"index\", axis = 1, inplace=True)"
      ],
      "metadata": {
        "id": "G-7GXHXX-1XW"
      },
      "execution_count": null,
      "outputs": []
    },
    {
      "cell_type": "code",
      "source": [
        "df1.review.head(3)"
      ],
      "metadata": {
        "colab": {
          "base_uri": "https://localhost:8080/",
          "height": 178
        },
        "id": "ERr50LKT_API",
        "outputId": "3c66003e-026b-42d2-99b4-980422483edd"
      },
      "execution_count": null,
      "outputs": [
        {
          "output_type": "execute_result",
          "data": {
            "text/plain": [
              "0    Having heard quite positive reviews and having...\n",
              "1    Probably the first Portuguese film I have seen...\n",
              "2    Troubled men's magazine photographer Adrien Wi...\n",
              "Name: review, dtype: object"
            ],
            "text/html": [
              "<div>\n",
              "<style scoped>\n",
              "    .dataframe tbody tr th:only-of-type {\n",
              "        vertical-align: middle;\n",
              "    }\n",
              "\n",
              "    .dataframe tbody tr th {\n",
              "        vertical-align: top;\n",
              "    }\n",
              "\n",
              "    .dataframe thead th {\n",
              "        text-align: right;\n",
              "    }\n",
              "</style>\n",
              "<table border=\"1\" class=\"dataframe\">\n",
              "  <thead>\n",
              "    <tr style=\"text-align: right;\">\n",
              "      <th></th>\n",
              "      <th>review</th>\n",
              "    </tr>\n",
              "  </thead>\n",
              "  <tbody>\n",
              "    <tr>\n",
              "      <th>0</th>\n",
              "      <td>Having heard quite positive reviews and having...</td>\n",
              "    </tr>\n",
              "    <tr>\n",
              "      <th>1</th>\n",
              "      <td>Probably the first Portuguese film I have seen...</td>\n",
              "    </tr>\n",
              "    <tr>\n",
              "      <th>2</th>\n",
              "      <td>Troubled men's magazine photographer Adrien Wi...</td>\n",
              "    </tr>\n",
              "  </tbody>\n",
              "</table>\n",
              "</div><br><label><b>dtype:</b> object</label>"
            ]
          },
          "metadata": {},
          "execution_count": 15
        }
      ]
    },
    {
      "cell_type": "code",
      "source": [
        "# df1[\"review\"].map(lambda x : x.upper())\n",
        "# df1[\"review\"].map(lambda x : x.lower())\n",
        "\n",
        "df1[\"Result\"] = df1[\"review\"].map(lambda x : x.lower())\n",
        "\n",
        "# df1[\"Result\"].map(lambda x :  re.findall(\"<.*?>\", x))\n",
        "# df1[\"Result\"].map(lambda x :  len(x))   # length before\n",
        "# df1[\"Result\"].map(lambda x :  re.sub(\"<.*?>\",\"\", x))\n",
        "\n",
        "df1[\"Result\"] = df1[\"Result\"].map(lambda x :  re.sub(\"<.*?>\",\"\", x))\n",
        "\n",
        "# df1[\"Result\"].map(lambda x :  len(x))  #length after"
      ],
      "metadata": {
        "id": "97QpFPlM-5Kp"
      },
      "execution_count": null,
      "outputs": []
    },
    {
      "cell_type": "code",
      "source": [
        "import string\n",
        "from string import punctuation\n",
        "punc = punctuation"
      ],
      "metadata": {
        "id": "57QDYRQ8--tU"
      },
      "execution_count": null,
      "outputs": []
    },
    {
      "cell_type": "code",
      "source": [
        "df1[\"Result\"][0]"
      ],
      "metadata": {
        "colab": {
          "base_uri": "https://localhost:8080/",
          "height": 104
        },
        "id": "u5GV44Tp_r7W",
        "outputId": "e83a6087-b070-43a2-d92b-6d29b735fe5c"
      },
      "execution_count": null,
      "outputs": [
        {
          "output_type": "execute_result",
          "data": {
            "text/plain": [
              "\"having heard quite positive reviews and having seen the trailer i had to see this movie. with william h. macy, luis guzman, michael jeter and sam rockwell present it had to be good. and it delivered. overall, the movie is not crack-you-up funny, but there is one scene that really stands out and is, in a my eyes, a classic. spoiler at the end, where they break through the wall to get to the safe and we see rockwell and washington stare at jeter is just fantastic. this is just as good as the scene in the big lebowski where the dude is using a chair to barricade his door, but forgets the door turns outward! end spoiler just go see this movie, you won't be disappointed.\""
            ],
            "application/vnd.google.colaboratory.intrinsic+json": {
              "type": "string"
            }
          },
          "metadata": {},
          "execution_count": 22
        }
      ]
    },
    {
      "cell_type": "code",
      "source": [
        "\"\".join( [ c   for c in df1[\"Result\"][0] if c not in punc] )"
      ],
      "metadata": {
        "colab": {
          "base_uri": "https://localhost:8080/",
          "height": 104
        },
        "id": "tCkBk2VBCD4U",
        "outputId": "c8b5b001-43e0-42b0-b0ac-be9fbd3a1203"
      },
      "execution_count": null,
      "outputs": [
        {
          "output_type": "execute_result",
          "data": {
            "text/plain": [
              "'having heard quite positive reviews and having seen the trailer i had to see this movie with william h macy luis guzman michael jeter and sam rockwell present it had to be good and it delivered overall the movie is not crackyouup funny but there is one scene that really stands out and is in a my eyes a classic spoiler at the end where they break through the wall to get to the safe and we see rockwell and washington stare at jeter is just fantastic this is just as good as the scene in the big lebowski where the dude is using a chair to barricade his door but forgets the door turns outward end spoiler just go see this movie you wont be disappointed'"
            ],
            "application/vnd.google.colaboratory.intrinsic+json": {
              "type": "string"
            }
          },
          "metadata": {},
          "execution_count": 23
        }
      ]
    },
    {
      "cell_type": "code",
      "source": [
        "len(df1[\"Result\"][0])"
      ],
      "metadata": {
        "colab": {
          "base_uri": "https://localhost:8080/"
        },
        "id": "DQWDpCSWCGRz",
        "outputId": "c379dbeb-17f1-4611-cf5e-8b15d8da36af"
      },
      "execution_count": null,
      "outputs": [
        {
          "output_type": "execute_result",
          "data": {
            "text/plain": [
              "674"
            ]
          },
          "metadata": {},
          "execution_count": 26
        }
      ]
    },
    {
      "cell_type": "code",
      "source": [
        "len(\"\".join( [ c   for c in df1[\"Result\"][0] if c not in punc] ))"
      ],
      "metadata": {
        "colab": {
          "base_uri": "https://localhost:8080/"
        },
        "id": "LlbjNulmCK6Q",
        "outputId": "7c6af99b-fa07-4e0b-bcc9-c123add58e6d"
      },
      "execution_count": null,
      "outputs": [
        {
          "output_type": "execute_result",
          "data": {
            "text/plain": [
              "654"
            ]
          },
          "metadata": {},
          "execution_count": 27
        }
      ]
    },
    {
      "cell_type": "code",
      "source": [
        "# df1[\"Result\"].map(lambda x : [ c   for c in x  if c not in punc] )\n",
        "# df1[\"Result\"].map(lambda x : \"\".join([ c   for c in x  if c not in punc]))\n",
        "df1[\"Result\"] = df1[\"Result\"].map(lambda x : \"\".join([ c   for c in x  if c not in punc]))"
      ],
      "metadata": {
        "id": "MalVetTzCN5D"
      },
      "execution_count": null,
      "outputs": []
    },
    {
      "cell_type": "code",
      "source": [
        "df1.head()\n",
        "df1.drop(\"review\", axis = 1, inplace = True)"
      ],
      "metadata": {
        "id": "OuJGTVJDCRpt"
      },
      "execution_count": null,
      "outputs": []
    },
    {
      "cell_type": "code",
      "source": [
        "df1.columns\n",
        "df1.columns = ['sentiment', 'Review']"
      ],
      "metadata": {
        "id": "Ul4BloTbCkwL"
      },
      "execution_count": null,
      "outputs": []
    },
    {
      "cell_type": "code",
      "source": [
        "df1[\"Review\"]"
      ],
      "metadata": {
        "colab": {
          "base_uri": "https://localhost:8080/",
          "height": 458
        },
        "id": "QwIsoKo7Ct0G",
        "outputId": "58b120e8-c71c-4050-ceb6-26b9a59fe9da"
      },
      "execution_count": null,
      "outputs": [
        {
          "output_type": "execute_result",
          "data": {
            "text/plain": [
              "0       having heard quite positive reviews and having...\n",
              "1       probably the first portuguese film i have seen...\n",
              "2       troubled mens magazine photographer adrien wil...\n",
              "3       i always had this concept that korean movies w...\n",
              "4       how can anybody give this anything higher than...\n",
              "                              ...                        \n",
              "9995    i think i watched this movie but dont quote me...\n",
              "9996    one of the best records of israels response to...\n",
              "9997    an illegal immigrant resists the social suppor...\n",
              "9998    has some really good music and performances ki...\n",
              "9999    abc has done more for this show by allowing te...\n",
              "Name: Review, Length: 10000, dtype: object"
            ],
            "text/html": [
              "<div>\n",
              "<style scoped>\n",
              "    .dataframe tbody tr th:only-of-type {\n",
              "        vertical-align: middle;\n",
              "    }\n",
              "\n",
              "    .dataframe tbody tr th {\n",
              "        vertical-align: top;\n",
              "    }\n",
              "\n",
              "    .dataframe thead th {\n",
              "        text-align: right;\n",
              "    }\n",
              "</style>\n",
              "<table border=\"1\" class=\"dataframe\">\n",
              "  <thead>\n",
              "    <tr style=\"text-align: right;\">\n",
              "      <th></th>\n",
              "      <th>Review</th>\n",
              "    </tr>\n",
              "  </thead>\n",
              "  <tbody>\n",
              "    <tr>\n",
              "      <th>0</th>\n",
              "      <td>having heard quite positive reviews and having...</td>\n",
              "    </tr>\n",
              "    <tr>\n",
              "      <th>1</th>\n",
              "      <td>probably the first portuguese film i have seen...</td>\n",
              "    </tr>\n",
              "    <tr>\n",
              "      <th>2</th>\n",
              "      <td>troubled mens magazine photographer adrien wil...</td>\n",
              "    </tr>\n",
              "    <tr>\n",
              "      <th>3</th>\n",
              "      <td>i always had this concept that korean movies w...</td>\n",
              "    </tr>\n",
              "    <tr>\n",
              "      <th>4</th>\n",
              "      <td>how can anybody give this anything higher than...</td>\n",
              "    </tr>\n",
              "    <tr>\n",
              "      <th>...</th>\n",
              "      <td>...</td>\n",
              "    </tr>\n",
              "    <tr>\n",
              "      <th>9995</th>\n",
              "      <td>i think i watched this movie but dont quote me...</td>\n",
              "    </tr>\n",
              "    <tr>\n",
              "      <th>9996</th>\n",
              "      <td>one of the best records of israels response to...</td>\n",
              "    </tr>\n",
              "    <tr>\n",
              "      <th>9997</th>\n",
              "      <td>an illegal immigrant resists the social suppor...</td>\n",
              "    </tr>\n",
              "    <tr>\n",
              "      <th>9998</th>\n",
              "      <td>has some really good music and performances ki...</td>\n",
              "    </tr>\n",
              "    <tr>\n",
              "      <th>9999</th>\n",
              "      <td>abc has done more for this show by allowing te...</td>\n",
              "    </tr>\n",
              "  </tbody>\n",
              "</table>\n",
              "<p>10000 rows × 1 columns</p>\n",
              "</div><br><label><b>dtype:</b> object</label>"
            ]
          },
          "metadata": {},
          "execution_count": 34
        }
      ]
    },
    {
      "cell_type": "code",
      "source": [
        "# Tokenize\n",
        "import nltk\n",
        "nltk.download('punkt_tab')\n",
        "from nltk.tokenize import word_tokenize\n",
        "\n",
        "df1[\"Review\"][0]"
      ],
      "metadata": {
        "colab": {
          "base_uri": "https://localhost:8080/",
          "height": 139
        },
        "id": "2T-sYbZzCvvw",
        "outputId": "2f490996-61ee-4257-c33f-62b33a39b743"
      },
      "execution_count": null,
      "outputs": [
        {
          "output_type": "stream",
          "name": "stderr",
          "text": [
            "[nltk_data] Downloading package punkt_tab to /root/nltk_data...\n",
            "[nltk_data]   Package punkt_tab is already up-to-date!\n"
          ]
        },
        {
          "output_type": "execute_result",
          "data": {
            "text/plain": [
              "'having heard quite positive reviews and having seen the trailer i had to see this movie with william h macy luis guzman michael jeter and sam rockwell present it had to be good and it delivered overall the movie is not crackyouup funny but there is one scene that really stands out and is in a my eyes a classic spoiler at the end where they break through the wall to get to the safe and we see rockwell and washington stare at jeter is just fantastic this is just as good as the scene in the big lebowski where the dude is using a chair to barricade his door but forgets the door turns outward end spoiler just go see this movie you wont be disappointed'"
            ],
            "application/vnd.google.colaboratory.intrinsic+json": {
              "type": "string"
            }
          },
          "metadata": {},
          "execution_count": 38
        }
      ]
    },
    {
      "cell_type": "code",
      "source": [
        "# word_tokenize(df1[\"Review\"][0])\n",
        "# df1[\"Review\"].map(lambda x : word_tokenize(x) )\n",
        "df1[\"Tokens\"] = df1[\"Review\"].map(lambda x : word_tokenize(x) )\n",
        "df1.head(3)"
      ],
      "metadata": {
        "colab": {
          "base_uri": "https://localhost:8080/",
          "height": 143
        },
        "id": "NygqhamAC2X0",
        "outputId": "363e3a5e-1fa0-49da-c5c3-35c50a241769"
      },
      "execution_count": null,
      "outputs": [
        {
          "output_type": "execute_result",
          "data": {
            "text/plain": [
              "  sentiment                                             Review  \\\n",
              "0  positive  having heard quite positive reviews and having...   \n",
              "1  positive  probably the first portuguese film i have seen...   \n",
              "2  positive  troubled mens magazine photographer adrien wil...   \n",
              "\n",
              "                                              Tokens  \n",
              "0  [having, heard, quite, positive, reviews, and,...  \n",
              "1  [probably, the, first, portuguese, film, i, ha...  \n",
              "2  [troubled, mens, magazine, photographer, adrie...  "
            ],
            "text/html": [
              "\n",
              "  <div id=\"df-d1b5da4b-e484-4087-87e8-2b295fb60158\" class=\"colab-df-container\">\n",
              "    <div>\n",
              "<style scoped>\n",
              "    .dataframe tbody tr th:only-of-type {\n",
              "        vertical-align: middle;\n",
              "    }\n",
              "\n",
              "    .dataframe tbody tr th {\n",
              "        vertical-align: top;\n",
              "    }\n",
              "\n",
              "    .dataframe thead th {\n",
              "        text-align: right;\n",
              "    }\n",
              "</style>\n",
              "<table border=\"1\" class=\"dataframe\">\n",
              "  <thead>\n",
              "    <tr style=\"text-align: right;\">\n",
              "      <th></th>\n",
              "      <th>sentiment</th>\n",
              "      <th>Review</th>\n",
              "      <th>Tokens</th>\n",
              "    </tr>\n",
              "  </thead>\n",
              "  <tbody>\n",
              "    <tr>\n",
              "      <th>0</th>\n",
              "      <td>positive</td>\n",
              "      <td>having heard quite positive reviews and having...</td>\n",
              "      <td>[having, heard, quite, positive, reviews, and,...</td>\n",
              "    </tr>\n",
              "    <tr>\n",
              "      <th>1</th>\n",
              "      <td>positive</td>\n",
              "      <td>probably the first portuguese film i have seen...</td>\n",
              "      <td>[probably, the, first, portuguese, film, i, ha...</td>\n",
              "    </tr>\n",
              "    <tr>\n",
              "      <th>2</th>\n",
              "      <td>positive</td>\n",
              "      <td>troubled mens magazine photographer adrien wil...</td>\n",
              "      <td>[troubled, mens, magazine, photographer, adrie...</td>\n",
              "    </tr>\n",
              "  </tbody>\n",
              "</table>\n",
              "</div>\n",
              "    <div class=\"colab-df-buttons\">\n",
              "\n",
              "  <div class=\"colab-df-container\">\n",
              "    <button class=\"colab-df-convert\" onclick=\"convertToInteractive('df-d1b5da4b-e484-4087-87e8-2b295fb60158')\"\n",
              "            title=\"Convert this dataframe to an interactive table.\"\n",
              "            style=\"display:none;\">\n",
              "\n",
              "  <svg xmlns=\"http://www.w3.org/2000/svg\" height=\"24px\" viewBox=\"0 -960 960 960\">\n",
              "    <path d=\"M120-120v-720h720v720H120Zm60-500h600v-160H180v160Zm220 220h160v-160H400v160Zm0 220h160v-160H400v160ZM180-400h160v-160H180v160Zm440 0h160v-160H620v160ZM180-180h160v-160H180v160Zm440 0h160v-160H620v160Z\"/>\n",
              "  </svg>\n",
              "    </button>\n",
              "\n",
              "  <style>\n",
              "    .colab-df-container {\n",
              "      display:flex;\n",
              "      gap: 12px;\n",
              "    }\n",
              "\n",
              "    .colab-df-convert {\n",
              "      background-color: #E8F0FE;\n",
              "      border: none;\n",
              "      border-radius: 50%;\n",
              "      cursor: pointer;\n",
              "      display: none;\n",
              "      fill: #1967D2;\n",
              "      height: 32px;\n",
              "      padding: 0 0 0 0;\n",
              "      width: 32px;\n",
              "    }\n",
              "\n",
              "    .colab-df-convert:hover {\n",
              "      background-color: #E2EBFA;\n",
              "      box-shadow: 0px 1px 2px rgba(60, 64, 67, 0.3), 0px 1px 3px 1px rgba(60, 64, 67, 0.15);\n",
              "      fill: #174EA6;\n",
              "    }\n",
              "\n",
              "    .colab-df-buttons div {\n",
              "      margin-bottom: 4px;\n",
              "    }\n",
              "\n",
              "    [theme=dark] .colab-df-convert {\n",
              "      background-color: #3B4455;\n",
              "      fill: #D2E3FC;\n",
              "    }\n",
              "\n",
              "    [theme=dark] .colab-df-convert:hover {\n",
              "      background-color: #434B5C;\n",
              "      box-shadow: 0px 1px 3px 1px rgba(0, 0, 0, 0.15);\n",
              "      filter: drop-shadow(0px 1px 2px rgba(0, 0, 0, 0.3));\n",
              "      fill: #FFFFFF;\n",
              "    }\n",
              "  </style>\n",
              "\n",
              "    <script>\n",
              "      const buttonEl =\n",
              "        document.querySelector('#df-d1b5da4b-e484-4087-87e8-2b295fb60158 button.colab-df-convert');\n",
              "      buttonEl.style.display =\n",
              "        google.colab.kernel.accessAllowed ? 'block' : 'none';\n",
              "\n",
              "      async function convertToInteractive(key) {\n",
              "        const element = document.querySelector('#df-d1b5da4b-e484-4087-87e8-2b295fb60158');\n",
              "        const dataTable =\n",
              "          await google.colab.kernel.invokeFunction('convertToInteractive',\n",
              "                                                    [key], {});\n",
              "        if (!dataTable) return;\n",
              "\n",
              "        const docLinkHtml = 'Like what you see? Visit the ' +\n",
              "          '<a target=\"_blank\" href=https://colab.research.google.com/notebooks/data_table.ipynb>data table notebook</a>'\n",
              "          + ' to learn more about interactive tables.';\n",
              "        element.innerHTML = '';\n",
              "        dataTable['output_type'] = 'display_data';\n",
              "        await google.colab.output.renderOutput(dataTable, element);\n",
              "        const docLink = document.createElement('div');\n",
              "        docLink.innerHTML = docLinkHtml;\n",
              "        element.appendChild(docLink);\n",
              "      }\n",
              "    </script>\n",
              "  </div>\n",
              "\n",
              "\n",
              "    <div id=\"df-e21a11ff-20f4-4140-88c4-b6d54f9462a6\">\n",
              "      <button class=\"colab-df-quickchart\" onclick=\"quickchart('df-e21a11ff-20f4-4140-88c4-b6d54f9462a6')\"\n",
              "                title=\"Suggest charts\"\n",
              "                style=\"display:none;\">\n",
              "\n",
              "<svg xmlns=\"http://www.w3.org/2000/svg\" height=\"24px\"viewBox=\"0 0 24 24\"\n",
              "     width=\"24px\">\n",
              "    <g>\n",
              "        <path d=\"M19 3H5c-1.1 0-2 .9-2 2v14c0 1.1.9 2 2 2h14c1.1 0 2-.9 2-2V5c0-1.1-.9-2-2-2zM9 17H7v-7h2v7zm4 0h-2V7h2v10zm4 0h-2v-4h2v4z\"/>\n",
              "    </g>\n",
              "</svg>\n",
              "      </button>\n",
              "\n",
              "<style>\n",
              "  .colab-df-quickchart {\n",
              "      --bg-color: #E8F0FE;\n",
              "      --fill-color: #1967D2;\n",
              "      --hover-bg-color: #E2EBFA;\n",
              "      --hover-fill-color: #174EA6;\n",
              "      --disabled-fill-color: #AAA;\n",
              "      --disabled-bg-color: #DDD;\n",
              "  }\n",
              "\n",
              "  [theme=dark] .colab-df-quickchart {\n",
              "      --bg-color: #3B4455;\n",
              "      --fill-color: #D2E3FC;\n",
              "      --hover-bg-color: #434B5C;\n",
              "      --hover-fill-color: #FFFFFF;\n",
              "      --disabled-bg-color: #3B4455;\n",
              "      --disabled-fill-color: #666;\n",
              "  }\n",
              "\n",
              "  .colab-df-quickchart {\n",
              "    background-color: var(--bg-color);\n",
              "    border: none;\n",
              "    border-radius: 50%;\n",
              "    cursor: pointer;\n",
              "    display: none;\n",
              "    fill: var(--fill-color);\n",
              "    height: 32px;\n",
              "    padding: 0;\n",
              "    width: 32px;\n",
              "  }\n",
              "\n",
              "  .colab-df-quickchart:hover {\n",
              "    background-color: var(--hover-bg-color);\n",
              "    box-shadow: 0 1px 2px rgba(60, 64, 67, 0.3), 0 1px 3px 1px rgba(60, 64, 67, 0.15);\n",
              "    fill: var(--button-hover-fill-color);\n",
              "  }\n",
              "\n",
              "  .colab-df-quickchart-complete:disabled,\n",
              "  .colab-df-quickchart-complete:disabled:hover {\n",
              "    background-color: var(--disabled-bg-color);\n",
              "    fill: var(--disabled-fill-color);\n",
              "    box-shadow: none;\n",
              "  }\n",
              "\n",
              "  .colab-df-spinner {\n",
              "    border: 2px solid var(--fill-color);\n",
              "    border-color: transparent;\n",
              "    border-bottom-color: var(--fill-color);\n",
              "    animation:\n",
              "      spin 1s steps(1) infinite;\n",
              "  }\n",
              "\n",
              "  @keyframes spin {\n",
              "    0% {\n",
              "      border-color: transparent;\n",
              "      border-bottom-color: var(--fill-color);\n",
              "      border-left-color: var(--fill-color);\n",
              "    }\n",
              "    20% {\n",
              "      border-color: transparent;\n",
              "      border-left-color: var(--fill-color);\n",
              "      border-top-color: var(--fill-color);\n",
              "    }\n",
              "    30% {\n",
              "      border-color: transparent;\n",
              "      border-left-color: var(--fill-color);\n",
              "      border-top-color: var(--fill-color);\n",
              "      border-right-color: var(--fill-color);\n",
              "    }\n",
              "    40% {\n",
              "      border-color: transparent;\n",
              "      border-right-color: var(--fill-color);\n",
              "      border-top-color: var(--fill-color);\n",
              "    }\n",
              "    60% {\n",
              "      border-color: transparent;\n",
              "      border-right-color: var(--fill-color);\n",
              "    }\n",
              "    80% {\n",
              "      border-color: transparent;\n",
              "      border-right-color: var(--fill-color);\n",
              "      border-bottom-color: var(--fill-color);\n",
              "    }\n",
              "    90% {\n",
              "      border-color: transparent;\n",
              "      border-bottom-color: var(--fill-color);\n",
              "    }\n",
              "  }\n",
              "</style>\n",
              "\n",
              "      <script>\n",
              "        async function quickchart(key) {\n",
              "          const quickchartButtonEl =\n",
              "            document.querySelector('#' + key + ' button');\n",
              "          quickchartButtonEl.disabled = true;  // To prevent multiple clicks.\n",
              "          quickchartButtonEl.classList.add('colab-df-spinner');\n",
              "          try {\n",
              "            const charts = await google.colab.kernel.invokeFunction(\n",
              "                'suggestCharts', [key], {});\n",
              "          } catch (error) {\n",
              "            console.error('Error during call to suggestCharts:', error);\n",
              "          }\n",
              "          quickchartButtonEl.classList.remove('colab-df-spinner');\n",
              "          quickchartButtonEl.classList.add('colab-df-quickchart-complete');\n",
              "        }\n",
              "        (() => {\n",
              "          let quickchartButtonEl =\n",
              "            document.querySelector('#df-e21a11ff-20f4-4140-88c4-b6d54f9462a6 button');\n",
              "          quickchartButtonEl.style.display =\n",
              "            google.colab.kernel.accessAllowed ? 'block' : 'none';\n",
              "        })();\n",
              "      </script>\n",
              "    </div>\n",
              "\n",
              "    </div>\n",
              "  </div>\n"
            ],
            "application/vnd.google.colaboratory.intrinsic+json": {
              "type": "dataframe",
              "variable_name": "df1",
              "summary": "{\n  \"name\": \"df1\",\n  \"rows\": 10000,\n  \"fields\": [\n    {\n      \"column\": \"sentiment\",\n      \"properties\": {\n        \"dtype\": \"category\",\n        \"num_unique_values\": 2,\n        \"samples\": [\n          \"negative\",\n          \"positive\"\n        ],\n        \"semantic_type\": \"\",\n        \"description\": \"\"\n      }\n    },\n    {\n      \"column\": \"Review\",\n      \"properties\": {\n        \"dtype\": \"string\",\n        \"num_unique_values\": 9986,\n        \"samples\": [\n          \"i watched this series when it first came out in the 70si was 14 years old and i watched it at my best friends house as my dad didnt want to watch itit became a weekly ritual every sunday and as anyone will tell you for two fourteen year olds to watch a documentary in almost reverential silence must mean that this was something specialthe broad sweep of the events of world war 2 makes for a difficult subject to documentso the makers broke it down into what they considered to be the most significant key happenings and devoted one episode to eachsome episodes covered long periods such as wolf pack which covered nearly all six years of the battle of the atlanticwhile the battle of stalingrad had one episode to itselfthis documentary could not be made today quite simply because most of those interviewed are deadthe list of significant players appearing gives an amazing insight into the thinking at the timeanthony eden the foreign secretarycarl donnitzhead of the uboatsalbert speerpet architect confident and later armament minister for hitlerin one of the later episodes we see traudl junge hitlers secretarywho was with him in the bunker and it was to her that he dictated his last will and testamentshe left the bunker after hitlers suicide and escaped through the russian linesthese and many others play a major role in the realism of the events portrayedif i have any criticism of the series it is that the codebreakers of bletchly park are not included but the revelations of their part in the war only emerged after the series had been made so i cannot blame the programme makersthe opening titles and music are magnificentand lawrence oliviers narration lends a natural gravity to the scriptthe best documentary series ever made without doubtunmissable\",\n          \"this is one of those so bad it is good films that you always hear about but never see unlike troma films which are deliberately bad and campy and i am not amused this one is 100 pure serioushowever with features such as a supposedly superlethal killer robot that prances about like one of the solid gold dancers on an acid trip and a magical first mate that calls down lightning and transforms into the good witch of the east the fact that it takes itself seriously pushes it so far over the edge of bad that makes it full circle around back to entertainingwatcheable enough because of that\"\n        ],\n        \"semantic_type\": \"\",\n        \"description\": \"\"\n      }\n    },\n    {\n      \"column\": \"Tokens\",\n      \"properties\": {\n        \"dtype\": \"object\",\n        \"semantic_type\": \"\",\n        \"description\": \"\"\n      }\n    }\n  ]\n}"
            }
          },
          "metadata": {},
          "execution_count": 41
        }
      ]
    },
    {
      "cell_type": "code",
      "source": [
        "# Stopwords\n",
        "import nltk\n",
        "from nltk.corpus import stopwords\n",
        "nltk.download(\"stopwords\")\n",
        "sw_eng = stopwords.words(\"english\")\n",
        "df1.head()"
      ],
      "metadata": {
        "colab": {
          "base_uri": "https://localhost:8080/",
          "height": 241
        },
        "id": "ZGV3OXoNC4qp",
        "outputId": "51a463f6-2182-4e65-ace3-fb1a46d85910"
      },
      "execution_count": null,
      "outputs": [
        {
          "output_type": "stream",
          "name": "stderr",
          "text": [
            "[nltk_data] Downloading package stopwords to /root/nltk_data...\n",
            "[nltk_data]   Unzipping corpora/stopwords.zip.\n"
          ]
        },
        {
          "output_type": "execute_result",
          "data": {
            "text/plain": [
              "  sentiment                                             Review  \\\n",
              "0  positive  having heard quite positive reviews and having...   \n",
              "1  positive  probably the first portuguese film i have seen...   \n",
              "2  positive  troubled mens magazine photographer adrien wil...   \n",
              "3  positive  i always had this concept that korean movies w...   \n",
              "4  negative  how can anybody give this anything higher than...   \n",
              "\n",
              "                                              Tokens  \n",
              "0  [having, heard, quite, positive, reviews, and,...  \n",
              "1  [probably, the, first, portuguese, film, i, ha...  \n",
              "2  [troubled, mens, magazine, photographer, adrie...  \n",
              "3  [i, always, had, this, concept, that, korean, ...  \n",
              "4  [how, can, anybody, give, this, anything, high...  "
            ],
            "text/html": [
              "\n",
              "  <div id=\"df-aca8b6f3-8439-46de-92fc-0c16cda32833\" class=\"colab-df-container\">\n",
              "    <div>\n",
              "<style scoped>\n",
              "    .dataframe tbody tr th:only-of-type {\n",
              "        vertical-align: middle;\n",
              "    }\n",
              "\n",
              "    .dataframe tbody tr th {\n",
              "        vertical-align: top;\n",
              "    }\n",
              "\n",
              "    .dataframe thead th {\n",
              "        text-align: right;\n",
              "    }\n",
              "</style>\n",
              "<table border=\"1\" class=\"dataframe\">\n",
              "  <thead>\n",
              "    <tr style=\"text-align: right;\">\n",
              "      <th></th>\n",
              "      <th>sentiment</th>\n",
              "      <th>Review</th>\n",
              "      <th>Tokens</th>\n",
              "    </tr>\n",
              "  </thead>\n",
              "  <tbody>\n",
              "    <tr>\n",
              "      <th>0</th>\n",
              "      <td>positive</td>\n",
              "      <td>having heard quite positive reviews and having...</td>\n",
              "      <td>[having, heard, quite, positive, reviews, and,...</td>\n",
              "    </tr>\n",
              "    <tr>\n",
              "      <th>1</th>\n",
              "      <td>positive</td>\n",
              "      <td>probably the first portuguese film i have seen...</td>\n",
              "      <td>[probably, the, first, portuguese, film, i, ha...</td>\n",
              "    </tr>\n",
              "    <tr>\n",
              "      <th>2</th>\n",
              "      <td>positive</td>\n",
              "      <td>troubled mens magazine photographer adrien wil...</td>\n",
              "      <td>[troubled, mens, magazine, photographer, adrie...</td>\n",
              "    </tr>\n",
              "    <tr>\n",
              "      <th>3</th>\n",
              "      <td>positive</td>\n",
              "      <td>i always had this concept that korean movies w...</td>\n",
              "      <td>[i, always, had, this, concept, that, korean, ...</td>\n",
              "    </tr>\n",
              "    <tr>\n",
              "      <th>4</th>\n",
              "      <td>negative</td>\n",
              "      <td>how can anybody give this anything higher than...</td>\n",
              "      <td>[how, can, anybody, give, this, anything, high...</td>\n",
              "    </tr>\n",
              "  </tbody>\n",
              "</table>\n",
              "</div>\n",
              "    <div class=\"colab-df-buttons\">\n",
              "\n",
              "  <div class=\"colab-df-container\">\n",
              "    <button class=\"colab-df-convert\" onclick=\"convertToInteractive('df-aca8b6f3-8439-46de-92fc-0c16cda32833')\"\n",
              "            title=\"Convert this dataframe to an interactive table.\"\n",
              "            style=\"display:none;\">\n",
              "\n",
              "  <svg xmlns=\"http://www.w3.org/2000/svg\" height=\"24px\" viewBox=\"0 -960 960 960\">\n",
              "    <path d=\"M120-120v-720h720v720H120Zm60-500h600v-160H180v160Zm220 220h160v-160H400v160Zm0 220h160v-160H400v160ZM180-400h160v-160H180v160Zm440 0h160v-160H620v160ZM180-180h160v-160H180v160Zm440 0h160v-160H620v160Z\"/>\n",
              "  </svg>\n",
              "    </button>\n",
              "\n",
              "  <style>\n",
              "    .colab-df-container {\n",
              "      display:flex;\n",
              "      gap: 12px;\n",
              "    }\n",
              "\n",
              "    .colab-df-convert {\n",
              "      background-color: #E8F0FE;\n",
              "      border: none;\n",
              "      border-radius: 50%;\n",
              "      cursor: pointer;\n",
              "      display: none;\n",
              "      fill: #1967D2;\n",
              "      height: 32px;\n",
              "      padding: 0 0 0 0;\n",
              "      width: 32px;\n",
              "    }\n",
              "\n",
              "    .colab-df-convert:hover {\n",
              "      background-color: #E2EBFA;\n",
              "      box-shadow: 0px 1px 2px rgba(60, 64, 67, 0.3), 0px 1px 3px 1px rgba(60, 64, 67, 0.15);\n",
              "      fill: #174EA6;\n",
              "    }\n",
              "\n",
              "    .colab-df-buttons div {\n",
              "      margin-bottom: 4px;\n",
              "    }\n",
              "\n",
              "    [theme=dark] .colab-df-convert {\n",
              "      background-color: #3B4455;\n",
              "      fill: #D2E3FC;\n",
              "    }\n",
              "\n",
              "    [theme=dark] .colab-df-convert:hover {\n",
              "      background-color: #434B5C;\n",
              "      box-shadow: 0px 1px 3px 1px rgba(0, 0, 0, 0.15);\n",
              "      filter: drop-shadow(0px 1px 2px rgba(0, 0, 0, 0.3));\n",
              "      fill: #FFFFFF;\n",
              "    }\n",
              "  </style>\n",
              "\n",
              "    <script>\n",
              "      const buttonEl =\n",
              "        document.querySelector('#df-aca8b6f3-8439-46de-92fc-0c16cda32833 button.colab-df-convert');\n",
              "      buttonEl.style.display =\n",
              "        google.colab.kernel.accessAllowed ? 'block' : 'none';\n",
              "\n",
              "      async function convertToInteractive(key) {\n",
              "        const element = document.querySelector('#df-aca8b6f3-8439-46de-92fc-0c16cda32833');\n",
              "        const dataTable =\n",
              "          await google.colab.kernel.invokeFunction('convertToInteractive',\n",
              "                                                    [key], {});\n",
              "        if (!dataTable) return;\n",
              "\n",
              "        const docLinkHtml = 'Like what you see? Visit the ' +\n",
              "          '<a target=\"_blank\" href=https://colab.research.google.com/notebooks/data_table.ipynb>data table notebook</a>'\n",
              "          + ' to learn more about interactive tables.';\n",
              "        element.innerHTML = '';\n",
              "        dataTable['output_type'] = 'display_data';\n",
              "        await google.colab.output.renderOutput(dataTable, element);\n",
              "        const docLink = document.createElement('div');\n",
              "        docLink.innerHTML = docLinkHtml;\n",
              "        element.appendChild(docLink);\n",
              "      }\n",
              "    </script>\n",
              "  </div>\n",
              "\n",
              "\n",
              "    <div id=\"df-b2c7dab3-dca7-4747-8bde-f9a46c3860e4\">\n",
              "      <button class=\"colab-df-quickchart\" onclick=\"quickchart('df-b2c7dab3-dca7-4747-8bde-f9a46c3860e4')\"\n",
              "                title=\"Suggest charts\"\n",
              "                style=\"display:none;\">\n",
              "\n",
              "<svg xmlns=\"http://www.w3.org/2000/svg\" height=\"24px\"viewBox=\"0 0 24 24\"\n",
              "     width=\"24px\">\n",
              "    <g>\n",
              "        <path d=\"M19 3H5c-1.1 0-2 .9-2 2v14c0 1.1.9 2 2 2h14c1.1 0 2-.9 2-2V5c0-1.1-.9-2-2-2zM9 17H7v-7h2v7zm4 0h-2V7h2v10zm4 0h-2v-4h2v4z\"/>\n",
              "    </g>\n",
              "</svg>\n",
              "      </button>\n",
              "\n",
              "<style>\n",
              "  .colab-df-quickchart {\n",
              "      --bg-color: #E8F0FE;\n",
              "      --fill-color: #1967D2;\n",
              "      --hover-bg-color: #E2EBFA;\n",
              "      --hover-fill-color: #174EA6;\n",
              "      --disabled-fill-color: #AAA;\n",
              "      --disabled-bg-color: #DDD;\n",
              "  }\n",
              "\n",
              "  [theme=dark] .colab-df-quickchart {\n",
              "      --bg-color: #3B4455;\n",
              "      --fill-color: #D2E3FC;\n",
              "      --hover-bg-color: #434B5C;\n",
              "      --hover-fill-color: #FFFFFF;\n",
              "      --disabled-bg-color: #3B4455;\n",
              "      --disabled-fill-color: #666;\n",
              "  }\n",
              "\n",
              "  .colab-df-quickchart {\n",
              "    background-color: var(--bg-color);\n",
              "    border: none;\n",
              "    border-radius: 50%;\n",
              "    cursor: pointer;\n",
              "    display: none;\n",
              "    fill: var(--fill-color);\n",
              "    height: 32px;\n",
              "    padding: 0;\n",
              "    width: 32px;\n",
              "  }\n",
              "\n",
              "  .colab-df-quickchart:hover {\n",
              "    background-color: var(--hover-bg-color);\n",
              "    box-shadow: 0 1px 2px rgba(60, 64, 67, 0.3), 0 1px 3px 1px rgba(60, 64, 67, 0.15);\n",
              "    fill: var(--button-hover-fill-color);\n",
              "  }\n",
              "\n",
              "  .colab-df-quickchart-complete:disabled,\n",
              "  .colab-df-quickchart-complete:disabled:hover {\n",
              "    background-color: var(--disabled-bg-color);\n",
              "    fill: var(--disabled-fill-color);\n",
              "    box-shadow: none;\n",
              "  }\n",
              "\n",
              "  .colab-df-spinner {\n",
              "    border: 2px solid var(--fill-color);\n",
              "    border-color: transparent;\n",
              "    border-bottom-color: var(--fill-color);\n",
              "    animation:\n",
              "      spin 1s steps(1) infinite;\n",
              "  }\n",
              "\n",
              "  @keyframes spin {\n",
              "    0% {\n",
              "      border-color: transparent;\n",
              "      border-bottom-color: var(--fill-color);\n",
              "      border-left-color: var(--fill-color);\n",
              "    }\n",
              "    20% {\n",
              "      border-color: transparent;\n",
              "      border-left-color: var(--fill-color);\n",
              "      border-top-color: var(--fill-color);\n",
              "    }\n",
              "    30% {\n",
              "      border-color: transparent;\n",
              "      border-left-color: var(--fill-color);\n",
              "      border-top-color: var(--fill-color);\n",
              "      border-right-color: var(--fill-color);\n",
              "    }\n",
              "    40% {\n",
              "      border-color: transparent;\n",
              "      border-right-color: var(--fill-color);\n",
              "      border-top-color: var(--fill-color);\n",
              "    }\n",
              "    60% {\n",
              "      border-color: transparent;\n",
              "      border-right-color: var(--fill-color);\n",
              "    }\n",
              "    80% {\n",
              "      border-color: transparent;\n",
              "      border-right-color: var(--fill-color);\n",
              "      border-bottom-color: var(--fill-color);\n",
              "    }\n",
              "    90% {\n",
              "      border-color: transparent;\n",
              "      border-bottom-color: var(--fill-color);\n",
              "    }\n",
              "  }\n",
              "</style>\n",
              "\n",
              "      <script>\n",
              "        async function quickchart(key) {\n",
              "          const quickchartButtonEl =\n",
              "            document.querySelector('#' + key + ' button');\n",
              "          quickchartButtonEl.disabled = true;  // To prevent multiple clicks.\n",
              "          quickchartButtonEl.classList.add('colab-df-spinner');\n",
              "          try {\n",
              "            const charts = await google.colab.kernel.invokeFunction(\n",
              "                'suggestCharts', [key], {});\n",
              "          } catch (error) {\n",
              "            console.error('Error during call to suggestCharts:', error);\n",
              "          }\n",
              "          quickchartButtonEl.classList.remove('colab-df-spinner');\n",
              "          quickchartButtonEl.classList.add('colab-df-quickchart-complete');\n",
              "        }\n",
              "        (() => {\n",
              "          let quickchartButtonEl =\n",
              "            document.querySelector('#df-b2c7dab3-dca7-4747-8bde-f9a46c3860e4 button');\n",
              "          quickchartButtonEl.style.display =\n",
              "            google.colab.kernel.accessAllowed ? 'block' : 'none';\n",
              "        })();\n",
              "      </script>\n",
              "    </div>\n",
              "\n",
              "    </div>\n",
              "  </div>\n"
            ],
            "application/vnd.google.colaboratory.intrinsic+json": {
              "type": "dataframe",
              "variable_name": "df1",
              "summary": "{\n  \"name\": \"df1\",\n  \"rows\": 10000,\n  \"fields\": [\n    {\n      \"column\": \"sentiment\",\n      \"properties\": {\n        \"dtype\": \"category\",\n        \"num_unique_values\": 2,\n        \"samples\": [\n          \"negative\",\n          \"positive\"\n        ],\n        \"semantic_type\": \"\",\n        \"description\": \"\"\n      }\n    },\n    {\n      \"column\": \"Review\",\n      \"properties\": {\n        \"dtype\": \"string\",\n        \"num_unique_values\": 9986,\n        \"samples\": [\n          \"i watched this series when it first came out in the 70si was 14 years old and i watched it at my best friends house as my dad didnt want to watch itit became a weekly ritual every sunday and as anyone will tell you for two fourteen year olds to watch a documentary in almost reverential silence must mean that this was something specialthe broad sweep of the events of world war 2 makes for a difficult subject to documentso the makers broke it down into what they considered to be the most significant key happenings and devoted one episode to eachsome episodes covered long periods such as wolf pack which covered nearly all six years of the battle of the atlanticwhile the battle of stalingrad had one episode to itselfthis documentary could not be made today quite simply because most of those interviewed are deadthe list of significant players appearing gives an amazing insight into the thinking at the timeanthony eden the foreign secretarycarl donnitzhead of the uboatsalbert speerpet architect confident and later armament minister for hitlerin one of the later episodes we see traudl junge hitlers secretarywho was with him in the bunker and it was to her that he dictated his last will and testamentshe left the bunker after hitlers suicide and escaped through the russian linesthese and many others play a major role in the realism of the events portrayedif i have any criticism of the series it is that the codebreakers of bletchly park are not included but the revelations of their part in the war only emerged after the series had been made so i cannot blame the programme makersthe opening titles and music are magnificentand lawrence oliviers narration lends a natural gravity to the scriptthe best documentary series ever made without doubtunmissable\",\n          \"this is one of those so bad it is good films that you always hear about but never see unlike troma films which are deliberately bad and campy and i am not amused this one is 100 pure serioushowever with features such as a supposedly superlethal killer robot that prances about like one of the solid gold dancers on an acid trip and a magical first mate that calls down lightning and transforms into the good witch of the east the fact that it takes itself seriously pushes it so far over the edge of bad that makes it full circle around back to entertainingwatcheable enough because of that\"\n        ],\n        \"semantic_type\": \"\",\n        \"description\": \"\"\n      }\n    },\n    {\n      \"column\": \"Tokens\",\n      \"properties\": {\n        \"dtype\": \"object\",\n        \"semantic_type\": \"\",\n        \"description\": \"\"\n      }\n    }\n  ]\n}"
            }
          },
          "metadata": {},
          "execution_count": 42
        }
      ]
    },
    {
      "cell_type": "code",
      "source": [
        "#tokens\n",
        "# df1[\"Tokens\"][0]\n",
        "# len(df1[\"Tokens\"][0])\n",
        "# [ w  for w in df1[\"Tokens\"][0] if w not in sw_eng]\n",
        "# len([ w  for w in df1[\"Tokens\"][0] if w not in sw_eng])\n",
        "# df1[\"Tokens\"].map( lambda x : [w    for w in x  if w not in sw_eng])\n",
        "\n",
        "df1[\"Tokens\"] = df1[\"Tokens\"].map( lambda x : [w    for w in x  if w not in sw_eng])"
      ],
      "metadata": {
        "id": "1Ny1ZxvCDGVk"
      },
      "execution_count": null,
      "outputs": []
    },
    {
      "cell_type": "code",
      "source": [
        "# stemming\n",
        "from nltk.stem import PorterStemmer\n",
        "port_stem = PorterStemmer()\n",
        "# df1[\"Tokens\"].map(lambda x :  [port_stem.stem(w)  for w in x ])\n",
        "\n",
        "df1[\"Tokens\"] = df1[\"Tokens\"].map(lambda x :  \" \".join([port_stem.stem(w)  for w in x ]))"
      ],
      "metadata": {
        "id": "M2ixToI3DX8l"
      },
      "execution_count": null,
      "outputs": []
    },
    {
      "cell_type": "code",
      "source": [
        "df1.head(5)"
      ],
      "metadata": {
        "colab": {
          "base_uri": "https://localhost:8080/",
          "height": 206
        },
        "id": "QyOUUab-DvPC",
        "outputId": "378338f5-2b10-49f2-c352-e51d809cf0e5"
      },
      "execution_count": null,
      "outputs": [
        {
          "output_type": "execute_result",
          "data": {
            "text/plain": [
              "  sentiment                                             Review  \\\n",
              "0  positive  having heard quite positive reviews and having...   \n",
              "1  positive  probably the first portuguese film i have seen...   \n",
              "2  positive  troubled mens magazine photographer adrien wil...   \n",
              "3  positive  i always had this concept that korean movies w...   \n",
              "4  negative  how can anybody give this anything higher than...   \n",
              "\n",
              "                                              Tokens  \n",
              "0  heard quit posit review seen trailer see movi ...  \n",
              "1  probabl first portugues film seen life enjoy p...  \n",
              "2  troubl men magazin photograph adrien wild well...  \n",
              "3  alway concept korean movi comedi drama christm...  \n",
              "4  anybodi give anyth higher 1i thought mano hand...  "
            ],
            "text/html": [
              "\n",
              "  <div id=\"df-d37be056-1a96-4546-a897-2713f6d9538f\" class=\"colab-df-container\">\n",
              "    <div>\n",
              "<style scoped>\n",
              "    .dataframe tbody tr th:only-of-type {\n",
              "        vertical-align: middle;\n",
              "    }\n",
              "\n",
              "    .dataframe tbody tr th {\n",
              "        vertical-align: top;\n",
              "    }\n",
              "\n",
              "    .dataframe thead th {\n",
              "        text-align: right;\n",
              "    }\n",
              "</style>\n",
              "<table border=\"1\" class=\"dataframe\">\n",
              "  <thead>\n",
              "    <tr style=\"text-align: right;\">\n",
              "      <th></th>\n",
              "      <th>sentiment</th>\n",
              "      <th>Review</th>\n",
              "      <th>Tokens</th>\n",
              "    </tr>\n",
              "  </thead>\n",
              "  <tbody>\n",
              "    <tr>\n",
              "      <th>0</th>\n",
              "      <td>positive</td>\n",
              "      <td>having heard quite positive reviews and having...</td>\n",
              "      <td>heard quit posit review seen trailer see movi ...</td>\n",
              "    </tr>\n",
              "    <tr>\n",
              "      <th>1</th>\n",
              "      <td>positive</td>\n",
              "      <td>probably the first portuguese film i have seen...</td>\n",
              "      <td>probabl first portugues film seen life enjoy p...</td>\n",
              "    </tr>\n",
              "    <tr>\n",
              "      <th>2</th>\n",
              "      <td>positive</td>\n",
              "      <td>troubled mens magazine photographer adrien wil...</td>\n",
              "      <td>troubl men magazin photograph adrien wild well...</td>\n",
              "    </tr>\n",
              "    <tr>\n",
              "      <th>3</th>\n",
              "      <td>positive</td>\n",
              "      <td>i always had this concept that korean movies w...</td>\n",
              "      <td>alway concept korean movi comedi drama christm...</td>\n",
              "    </tr>\n",
              "    <tr>\n",
              "      <th>4</th>\n",
              "      <td>negative</td>\n",
              "      <td>how can anybody give this anything higher than...</td>\n",
              "      <td>anybodi give anyth higher 1i thought mano hand...</td>\n",
              "    </tr>\n",
              "  </tbody>\n",
              "</table>\n",
              "</div>\n",
              "    <div class=\"colab-df-buttons\">\n",
              "\n",
              "  <div class=\"colab-df-container\">\n",
              "    <button class=\"colab-df-convert\" onclick=\"convertToInteractive('df-d37be056-1a96-4546-a897-2713f6d9538f')\"\n",
              "            title=\"Convert this dataframe to an interactive table.\"\n",
              "            style=\"display:none;\">\n",
              "\n",
              "  <svg xmlns=\"http://www.w3.org/2000/svg\" height=\"24px\" viewBox=\"0 -960 960 960\">\n",
              "    <path d=\"M120-120v-720h720v720H120Zm60-500h600v-160H180v160Zm220 220h160v-160H400v160Zm0 220h160v-160H400v160ZM180-400h160v-160H180v160Zm440 0h160v-160H620v160ZM180-180h160v-160H180v160Zm440 0h160v-160H620v160Z\"/>\n",
              "  </svg>\n",
              "    </button>\n",
              "\n",
              "  <style>\n",
              "    .colab-df-container {\n",
              "      display:flex;\n",
              "      gap: 12px;\n",
              "    }\n",
              "\n",
              "    .colab-df-convert {\n",
              "      background-color: #E8F0FE;\n",
              "      border: none;\n",
              "      border-radius: 50%;\n",
              "      cursor: pointer;\n",
              "      display: none;\n",
              "      fill: #1967D2;\n",
              "      height: 32px;\n",
              "      padding: 0 0 0 0;\n",
              "      width: 32px;\n",
              "    }\n",
              "\n",
              "    .colab-df-convert:hover {\n",
              "      background-color: #E2EBFA;\n",
              "      box-shadow: 0px 1px 2px rgba(60, 64, 67, 0.3), 0px 1px 3px 1px rgba(60, 64, 67, 0.15);\n",
              "      fill: #174EA6;\n",
              "    }\n",
              "\n",
              "    .colab-df-buttons div {\n",
              "      margin-bottom: 4px;\n",
              "    }\n",
              "\n",
              "    [theme=dark] .colab-df-convert {\n",
              "      background-color: #3B4455;\n",
              "      fill: #D2E3FC;\n",
              "    }\n",
              "\n",
              "    [theme=dark] .colab-df-convert:hover {\n",
              "      background-color: #434B5C;\n",
              "      box-shadow: 0px 1px 3px 1px rgba(0, 0, 0, 0.15);\n",
              "      filter: drop-shadow(0px 1px 2px rgba(0, 0, 0, 0.3));\n",
              "      fill: #FFFFFF;\n",
              "    }\n",
              "  </style>\n",
              "\n",
              "    <script>\n",
              "      const buttonEl =\n",
              "        document.querySelector('#df-d37be056-1a96-4546-a897-2713f6d9538f button.colab-df-convert');\n",
              "      buttonEl.style.display =\n",
              "        google.colab.kernel.accessAllowed ? 'block' : 'none';\n",
              "\n",
              "      async function convertToInteractive(key) {\n",
              "        const element = document.querySelector('#df-d37be056-1a96-4546-a897-2713f6d9538f');\n",
              "        const dataTable =\n",
              "          await google.colab.kernel.invokeFunction('convertToInteractive',\n",
              "                                                    [key], {});\n",
              "        if (!dataTable) return;\n",
              "\n",
              "        const docLinkHtml = 'Like what you see? Visit the ' +\n",
              "          '<a target=\"_blank\" href=https://colab.research.google.com/notebooks/data_table.ipynb>data table notebook</a>'\n",
              "          + ' to learn more about interactive tables.';\n",
              "        element.innerHTML = '';\n",
              "        dataTable['output_type'] = 'display_data';\n",
              "        await google.colab.output.renderOutput(dataTable, element);\n",
              "        const docLink = document.createElement('div');\n",
              "        docLink.innerHTML = docLinkHtml;\n",
              "        element.appendChild(docLink);\n",
              "      }\n",
              "    </script>\n",
              "  </div>\n",
              "\n",
              "\n",
              "    <div id=\"df-ba775d9b-a232-4570-b680-523b74222888\">\n",
              "      <button class=\"colab-df-quickchart\" onclick=\"quickchart('df-ba775d9b-a232-4570-b680-523b74222888')\"\n",
              "                title=\"Suggest charts\"\n",
              "                style=\"display:none;\">\n",
              "\n",
              "<svg xmlns=\"http://www.w3.org/2000/svg\" height=\"24px\"viewBox=\"0 0 24 24\"\n",
              "     width=\"24px\">\n",
              "    <g>\n",
              "        <path d=\"M19 3H5c-1.1 0-2 .9-2 2v14c0 1.1.9 2 2 2h14c1.1 0 2-.9 2-2V5c0-1.1-.9-2-2-2zM9 17H7v-7h2v7zm4 0h-2V7h2v10zm4 0h-2v-4h2v4z\"/>\n",
              "    </g>\n",
              "</svg>\n",
              "      </button>\n",
              "\n",
              "<style>\n",
              "  .colab-df-quickchart {\n",
              "      --bg-color: #E8F0FE;\n",
              "      --fill-color: #1967D2;\n",
              "      --hover-bg-color: #E2EBFA;\n",
              "      --hover-fill-color: #174EA6;\n",
              "      --disabled-fill-color: #AAA;\n",
              "      --disabled-bg-color: #DDD;\n",
              "  }\n",
              "\n",
              "  [theme=dark] .colab-df-quickchart {\n",
              "      --bg-color: #3B4455;\n",
              "      --fill-color: #D2E3FC;\n",
              "      --hover-bg-color: #434B5C;\n",
              "      --hover-fill-color: #FFFFFF;\n",
              "      --disabled-bg-color: #3B4455;\n",
              "      --disabled-fill-color: #666;\n",
              "  }\n",
              "\n",
              "  .colab-df-quickchart {\n",
              "    background-color: var(--bg-color);\n",
              "    border: none;\n",
              "    border-radius: 50%;\n",
              "    cursor: pointer;\n",
              "    display: none;\n",
              "    fill: var(--fill-color);\n",
              "    height: 32px;\n",
              "    padding: 0;\n",
              "    width: 32px;\n",
              "  }\n",
              "\n",
              "  .colab-df-quickchart:hover {\n",
              "    background-color: var(--hover-bg-color);\n",
              "    box-shadow: 0 1px 2px rgba(60, 64, 67, 0.3), 0 1px 3px 1px rgba(60, 64, 67, 0.15);\n",
              "    fill: var(--button-hover-fill-color);\n",
              "  }\n",
              "\n",
              "  .colab-df-quickchart-complete:disabled,\n",
              "  .colab-df-quickchart-complete:disabled:hover {\n",
              "    background-color: var(--disabled-bg-color);\n",
              "    fill: var(--disabled-fill-color);\n",
              "    box-shadow: none;\n",
              "  }\n",
              "\n",
              "  .colab-df-spinner {\n",
              "    border: 2px solid var(--fill-color);\n",
              "    border-color: transparent;\n",
              "    border-bottom-color: var(--fill-color);\n",
              "    animation:\n",
              "      spin 1s steps(1) infinite;\n",
              "  }\n",
              "\n",
              "  @keyframes spin {\n",
              "    0% {\n",
              "      border-color: transparent;\n",
              "      border-bottom-color: var(--fill-color);\n",
              "      border-left-color: var(--fill-color);\n",
              "    }\n",
              "    20% {\n",
              "      border-color: transparent;\n",
              "      border-left-color: var(--fill-color);\n",
              "      border-top-color: var(--fill-color);\n",
              "    }\n",
              "    30% {\n",
              "      border-color: transparent;\n",
              "      border-left-color: var(--fill-color);\n",
              "      border-top-color: var(--fill-color);\n",
              "      border-right-color: var(--fill-color);\n",
              "    }\n",
              "    40% {\n",
              "      border-color: transparent;\n",
              "      border-right-color: var(--fill-color);\n",
              "      border-top-color: var(--fill-color);\n",
              "    }\n",
              "    60% {\n",
              "      border-color: transparent;\n",
              "      border-right-color: var(--fill-color);\n",
              "    }\n",
              "    80% {\n",
              "      border-color: transparent;\n",
              "      border-right-color: var(--fill-color);\n",
              "      border-bottom-color: var(--fill-color);\n",
              "    }\n",
              "    90% {\n",
              "      border-color: transparent;\n",
              "      border-bottom-color: var(--fill-color);\n",
              "    }\n",
              "  }\n",
              "</style>\n",
              "\n",
              "      <script>\n",
              "        async function quickchart(key) {\n",
              "          const quickchartButtonEl =\n",
              "            document.querySelector('#' + key + ' button');\n",
              "          quickchartButtonEl.disabled = true;  // To prevent multiple clicks.\n",
              "          quickchartButtonEl.classList.add('colab-df-spinner');\n",
              "          try {\n",
              "            const charts = await google.colab.kernel.invokeFunction(\n",
              "                'suggestCharts', [key], {});\n",
              "          } catch (error) {\n",
              "            console.error('Error during call to suggestCharts:', error);\n",
              "          }\n",
              "          quickchartButtonEl.classList.remove('colab-df-spinner');\n",
              "          quickchartButtonEl.classList.add('colab-df-quickchart-complete');\n",
              "        }\n",
              "        (() => {\n",
              "          let quickchartButtonEl =\n",
              "            document.querySelector('#df-ba775d9b-a232-4570-b680-523b74222888 button');\n",
              "          quickchartButtonEl.style.display =\n",
              "            google.colab.kernel.accessAllowed ? 'block' : 'none';\n",
              "        })();\n",
              "      </script>\n",
              "    </div>\n",
              "\n",
              "    </div>\n",
              "  </div>\n"
            ],
            "application/vnd.google.colaboratory.intrinsic+json": {
              "type": "dataframe",
              "variable_name": "df1",
              "summary": "{\n  \"name\": \"df1\",\n  \"rows\": 10000,\n  \"fields\": [\n    {\n      \"column\": \"sentiment\",\n      \"properties\": {\n        \"dtype\": \"category\",\n        \"num_unique_values\": 2,\n        \"samples\": [\n          \"negative\",\n          \"positive\"\n        ],\n        \"semantic_type\": \"\",\n        \"description\": \"\"\n      }\n    },\n    {\n      \"column\": \"Review\",\n      \"properties\": {\n        \"dtype\": \"string\",\n        \"num_unique_values\": 9986,\n        \"samples\": [\n          \"i watched this series when it first came out in the 70si was 14 years old and i watched it at my best friends house as my dad didnt want to watch itit became a weekly ritual every sunday and as anyone will tell you for two fourteen year olds to watch a documentary in almost reverential silence must mean that this was something specialthe broad sweep of the events of world war 2 makes for a difficult subject to documentso the makers broke it down into what they considered to be the most significant key happenings and devoted one episode to eachsome episodes covered long periods such as wolf pack which covered nearly all six years of the battle of the atlanticwhile the battle of stalingrad had one episode to itselfthis documentary could not be made today quite simply because most of those interviewed are deadthe list of significant players appearing gives an amazing insight into the thinking at the timeanthony eden the foreign secretarycarl donnitzhead of the uboatsalbert speerpet architect confident and later armament minister for hitlerin one of the later episodes we see traudl junge hitlers secretarywho was with him in the bunker and it was to her that he dictated his last will and testamentshe left the bunker after hitlers suicide and escaped through the russian linesthese and many others play a major role in the realism of the events portrayedif i have any criticism of the series it is that the codebreakers of bletchly park are not included but the revelations of their part in the war only emerged after the series had been made so i cannot blame the programme makersthe opening titles and music are magnificentand lawrence oliviers narration lends a natural gravity to the scriptthe best documentary series ever made without doubtunmissable\",\n          \"this is one of those so bad it is good films that you always hear about but never see unlike troma films which are deliberately bad and campy and i am not amused this one is 100 pure serioushowever with features such as a supposedly superlethal killer robot that prances about like one of the solid gold dancers on an acid trip and a magical first mate that calls down lightning and transforms into the good witch of the east the fact that it takes itself seriously pushes it so far over the edge of bad that makes it full circle around back to entertainingwatcheable enough because of that\"\n        ],\n        \"semantic_type\": \"\",\n        \"description\": \"\"\n      }\n    },\n    {\n      \"column\": \"Tokens\",\n      \"properties\": {\n        \"dtype\": \"string\",\n        \"num_unique_values\": 9986,\n        \"samples\": [\n          \"watch seri first came 70si 14 year old watch best friend hous dad didnt want watch itit becam weekli ritual everi sunday anyon tell two fourteen year old watch documentari almost reverenti silenc must mean someth specialth broad sweep event world war 2 make difficult subject documentso maker broke consid signific key happen devot one episod eachsom episod cover long period wolf pack cover nearli six year battl atlanticwhil battl stalingrad one episod itselfthi documentari could made today quit simpli interview deadth list signific player appear give amaz insight think timeanthoni eden foreign secretarycarl donnitzhead uboatsalbert speerpet architect confid later armament minist hitlerin one later episod see traudl jung hitler secretarywho bunker dictat last testamentsh left bunker hitler suicid escap russian linesthes mani other play major role realism event portrayedif critic seri codebreak bletchli park includ revel part war emerg seri made blame programm makersth open titl music magnificentand lawrenc olivi narrat lend natur graviti scriptth best documentari seri ever made without doubtunmiss\",\n          \"one bad good film alway hear never see unlik troma film deliber bad campi amus one 100 pure serioushowev featur supposedli superleth killer robot pranc like one solid gold dancer acid trip magic first mate call lightn transform good witch east fact take serious push far edg bad make full circl around back entertainingwatch enough\"\n        ],\n        \"semantic_type\": \"\",\n        \"description\": \"\"\n      }\n    }\n  ]\n}"
            }
          },
          "metadata": {},
          "execution_count": 46
        }
      ]
    },
    {
      "cell_type": "markdown",
      "source": [
        "### **Session 73- Automate NLP Pipeline Process - (1st July)**"
      ],
      "metadata": {
        "id": "M3VYUPyGD_Uz"
      }
    },
    {
      "cell_type": "code",
      "source": [],
      "metadata": {
        "id": "TRjElM6AD37h"
      },
      "execution_count": null,
      "outputs": []
    },
    {
      "cell_type": "code",
      "source": [],
      "metadata": {
        "id": "1-6gnMweEWj-"
      },
      "execution_count": null,
      "outputs": []
    },
    {
      "cell_type": "code",
      "source": [],
      "metadata": {
        "id": "uHHUsCeVEWt9"
      },
      "execution_count": null,
      "outputs": []
    },
    {
      "cell_type": "code",
      "source": [],
      "metadata": {
        "id": "dqTo8uHCEW0S"
      },
      "execution_count": null,
      "outputs": []
    },
    {
      "cell_type": "markdown",
      "source": [
        "### **Session 74- NGrams- (2nd July)**"
      ],
      "metadata": {
        "id": "aB-Oodo9EYJw"
      }
    },
    {
      "cell_type": "code",
      "source": [
        "import nltk\n",
        "from nltk import ngrams\n",
        "sent = \"Data Scientist work on Machine Learning and Deep Learning\"\n",
        "sent.split()"
      ],
      "metadata": {
        "colab": {
          "base_uri": "https://localhost:8080/"
        },
        "id": "BKOj3V0bEW9L",
        "outputId": "e553c35c-96d2-456f-b6a5-75f2681797cd"
      },
      "execution_count": null,
      "outputs": [
        {
          "output_type": "execute_result",
          "data": {
            "text/plain": [
              "['Data',\n",
              " 'Scientist',\n",
              " 'work',\n",
              " 'on',\n",
              " 'Machine',\n",
              " 'Learning',\n",
              " 'and',\n",
              " 'Deep',\n",
              " 'Learning']"
            ]
          },
          "metadata": {},
          "execution_count": 47
        }
      ]
    },
    {
      "cell_type": "code",
      "source": [
        "#Unigram\n",
        "ngrams( sent.split(), 1)"
      ],
      "metadata": {
        "colab": {
          "base_uri": "https://localhost:8080/"
        },
        "id": "uxHcddLPEsGw",
        "outputId": "ed38940c-96f4-44e6-89be-a7792b1e7b49"
      },
      "execution_count": null,
      "outputs": [
        {
          "output_type": "execute_result",
          "data": {
            "text/plain": [
              "<generator object ngrams at 0x7cd49c23a790>"
            ]
          },
          "metadata": {},
          "execution_count": 48
        }
      ]
    },
    {
      "cell_type": "code",
      "source": [
        "list(ngrams( sent.split(), 1))"
      ],
      "metadata": {
        "colab": {
          "base_uri": "https://localhost:8080/"
        },
        "id": "pAky7b9qEvl9",
        "outputId": "9b2bc60b-4f03-43a2-e296-a779e81a0f80"
      },
      "execution_count": null,
      "outputs": [
        {
          "output_type": "execute_result",
          "data": {
            "text/plain": [
              "[('Data',),\n",
              " ('Scientist',),\n",
              " ('work',),\n",
              " ('on',),\n",
              " ('Machine',),\n",
              " ('Learning',),\n",
              " ('and',),\n",
              " ('Deep',),\n",
              " ('Learning',)]"
            ]
          },
          "metadata": {},
          "execution_count": 49
        }
      ]
    },
    {
      "cell_type": "code",
      "source": [
        "# Bigram\n",
        "ngrams(sent.split(),2)"
      ],
      "metadata": {
        "colab": {
          "base_uri": "https://localhost:8080/"
        },
        "id": "brVMUZhjExs3",
        "outputId": "d3d43baa-5072-44d0-956f-0871f316f470"
      },
      "execution_count": null,
      "outputs": [
        {
          "output_type": "execute_result",
          "data": {
            "text/plain": [
              "<generator object ngrams at 0x7cd49c23a8a0>"
            ]
          },
          "metadata": {},
          "execution_count": 50
        }
      ]
    },
    {
      "cell_type": "code",
      "source": [
        "list(ngrams(sent.split(),2))"
      ],
      "metadata": {
        "colab": {
          "base_uri": "https://localhost:8080/"
        },
        "id": "Hs4O-IV7E2nM",
        "outputId": "2c266c1d-87b1-43da-a2b1-f533cbc12e27"
      },
      "execution_count": null,
      "outputs": [
        {
          "output_type": "execute_result",
          "data": {
            "text/plain": [
              "[('Data', 'Scientist'),\n",
              " ('Scientist', 'work'),\n",
              " ('work', 'on'),\n",
              " ('on', 'Machine'),\n",
              " ('Machine', 'Learning'),\n",
              " ('Learning', 'and'),\n",
              " ('and', 'Deep'),\n",
              " ('Deep', 'Learning')]"
            ]
          },
          "metadata": {},
          "execution_count": 51
        }
      ]
    },
    {
      "cell_type": "code",
      "source": [
        "# Tri - Gram\n",
        "list( ngrams( sent.split(), 3) )"
      ],
      "metadata": {
        "colab": {
          "base_uri": "https://localhost:8080/"
        },
        "id": "cuS0n8EOE7Dx",
        "outputId": "2799a3da-adfa-48d7-d783-4644cc18648f"
      },
      "execution_count": null,
      "outputs": [
        {
          "output_type": "execute_result",
          "data": {
            "text/plain": [
              "[('Data', 'Scientist', 'work'),\n",
              " ('Scientist', 'work', 'on'),\n",
              " ('work', 'on', 'Machine'),\n",
              " ('on', 'Machine', 'Learning'),\n",
              " ('Machine', 'Learning', 'and'),\n",
              " ('Learning', 'and', 'Deep'),\n",
              " ('and', 'Deep', 'Learning')]"
            ]
          },
          "metadata": {},
          "execution_count": 53
        }
      ]
    },
    {
      "cell_type": "markdown",
      "source": [
        "### **Session 75- NER Recognition & POS Tagging- (3rd July)**"
      ],
      "metadata": {
        "id": "uSd_IxjTFDn9"
      }
    },
    {
      "cell_type": "markdown",
      "source": [
        "- POS (Part-of-Speech) tagging in NLP is the process of labeling each word in a sentence with its correct part of speech, such as noun, verb, adjective, etc., based on both its definition and context.\n",
        "- POS Tagging is a crucial step in NLP which helps model /\n",
        "system to understand grammatical structure and meaning\n",
        "of input sequence.\n",
        "- POS Tagging helps model with complete understanding\n",
        "of how words are related to each other.\n",
        "- POS Tagging helps the model with\n",
        "  - Understanding sequential structure of sentence.\n",
        "  - Remove ambiguity from the words (meaning)\n",
        "  - Extract Hidden context of the input sentence\n",
        "- POS Tagging is used\n",
        "  - Machine Translation\n",
        "  - Sentiment Analysis\n",
        "  - Information Retrieval\n",
        "  - Text Summarization"
      ],
      "metadata": {
        "id": "c6TOqi_NECBf"
      }
    },
    {
      "cell_type": "code",
      "source": [
        "import nltk\n",
        "# nltk.download('punkt_tab')\n",
        "# nltk.download('averaged_perceptron_tagger_eng')\n",
        "# nltk.download('tagsets_json')\n",
        "\n",
        "from nltk.help import brown_tagset\n",
        "from nltk.help import upenn_tagset\n",
        "\n",
        "from nltk.tokenize import word_tokenize, sent_tokenize\n",
        "sent = \"The black cat jumps over green gate\"\n",
        "tokens = word_tokenize(sent)   # ['The', 'black', 'cat', 'jumps', 'over', 'green', 'gate']\n",
        "tokens_pos= nltk.pos_tag(tokens)\n",
        "tokens_pos"
      ],
      "metadata": {
        "id": "NZnAZfVrE_Ox",
        "colab": {
          "base_uri": "https://localhost:8080/"
        },
        "outputId": "e62d6b4b-e3af-4ae9-a5f5-c748016b391a"
      },
      "execution_count": 19,
      "outputs": [
        {
          "output_type": "execute_result",
          "data": {
            "text/plain": [
              "[('The', 'DT'),\n",
              " ('black', 'JJ'),\n",
              " ('cat', 'NN'),\n",
              " ('jumps', 'NNS'),\n",
              " ('over', 'IN'),\n",
              " ('green', 'JJ'),\n",
              " ('gate', 'NN')]"
            ]
          },
          "metadata": {},
          "execution_count": 19
        }
      ]
    },
    {
      "cell_type": "code",
      "source": [
        "# upenn_tagset(\"DT\")\n",
        "# upenn_tagset(\"JJ\")\n",
        "# upenn_tagset(\"NN\")"
      ],
      "metadata": {
        "id": "Zy8M50rpFJW5"
      },
      "execution_count": 20,
      "outputs": []
    },
    {
      "cell_type": "code",
      "source": [
        "# import time\n",
        "# for w , tag  in tokens_pos:\n",
        "#     print(w,\": ==>\", tag)\n",
        "#     res = upenn_tagset(tag)\n",
        "#     print(res)\n",
        "#     time.sleep(1)"
      ],
      "metadata": {
        "id": "Kh0XAaAKFPVQ"
      },
      "execution_count": 21,
      "outputs": []
    },
    {
      "cell_type": "code",
      "source": [
        "#  nltk.download('maxent_ne_chunker_tab')\n",
        "# nltk.download('words')\n",
        "# !pip install -qU svgling\n",
        "\n",
        "from nltk import ne_chunk\n",
        "from nltk import pos_tag\n",
        "text = \"Apple Inc. is looking to buy a startup in America for $200 millions\"\n",
        "tokens = word_tokenize(text)\n",
        "tag_tokens = pos_tag(tokens)\n",
        "tag_tokens"
      ],
      "metadata": {
        "id": "zELRB7lxFf6V",
        "outputId": "7ab5712f-a1b1-4a04-9fb2-97a6c33c048f",
        "colab": {
          "base_uri": "https://localhost:8080/"
        }
      },
      "execution_count": 38,
      "outputs": [
        {
          "output_type": "execute_result",
          "data": {
            "text/plain": [
              "[('Apple', 'NNP'),\n",
              " ('Inc.', 'NNP'),\n",
              " ('is', 'VBZ'),\n",
              " ('looking', 'VBG'),\n",
              " ('to', 'TO'),\n",
              " ('buy', 'VB'),\n",
              " ('a', 'DT'),\n",
              " ('startup', 'NN'),\n",
              " ('in', 'IN'),\n",
              " ('America', 'NNP'),\n",
              " ('for', 'IN'),\n",
              " ('$', '$'),\n",
              " ('200', 'CD'),\n",
              " ('millions', 'NNS')]"
            ]
          },
          "metadata": {},
          "execution_count": 38
        }
      ]
    },
    {
      "cell_type": "code",
      "source": [
        "ner = ne_chunk(tag_tokens)\n",
        "ner"
      ],
      "metadata": {
        "id": "qvp3S7KLGHjo",
        "outputId": "7b1d51ef-1fc5-4198-8f1d-f1de2344c2d3",
        "colab": {
          "base_uri": "https://localhost:8080/",
          "height": 189
        }
      },
      "execution_count": 39,
      "outputs": [
        {
          "output_type": "execute_result",
          "data": {
            "text/plain": [
              "Tree('S', [Tree('PERSON', [('Apple', 'NNP')]), Tree('ORGANIZATION', [('Inc.', 'NNP')]), ('is', 'VBZ'), ('looking', 'VBG'), ('to', 'TO'), ('buy', 'VB'), ('a', 'DT'), ('startup', 'NN'), ('in', 'IN'), Tree('GPE', [('America', 'NNP')]), ('for', 'IN'), ('$', '$'), ('200', 'CD'), ('millions', 'NNS')])"
            ],
            "image/svg+xml": "<svg baseProfile=\"full\" height=\"168px\" preserveAspectRatio=\"xMidYMid meet\" style=\"font-family: times, serif; font-weight: normal; font-style: normal; font-size: 16px\" version=\"1.1\" viewBox=\"0,0,752.0,168.0\" width=\"752px\" xmlns=\"http://www.w3.org/2000/svg\" xmlns:ev=\"http://www.w3.org/2001/xml-events\" xmlns:xlink=\"http://www.w3.org/1999/xlink\"><defs /><svg width=\"100%\" x=\"0\" y=\"0px\"><defs /><text text-anchor=\"middle\" x=\"50%\" y=\"16px\">S</text></svg><svg width=\"8.51064%\" x=\"0%\" y=\"48px\"><defs /><svg width=\"100%\" x=\"0\" y=\"0px\"><defs /><text text-anchor=\"middle\" x=\"50%\" y=\"16px\">PERSON</text></svg><svg width=\"100%\" x=\"0%\" y=\"48px\"><defs /><svg width=\"100%\" x=\"0\" y=\"0px\"><defs /><text text-anchor=\"middle\" x=\"50%\" y=\"16px\">Apple</text></svg><svg width=\"100%\" x=\"0%\" y=\"48px\"><defs /><svg width=\"100%\" x=\"0\" y=\"0px\"><defs /><text text-anchor=\"middle\" x=\"50%\" y=\"16px\">NNP</text></svg></svg><line stroke=\"black\" x1=\"50%\" x2=\"50%\" y1=\"20px\" y2=\"48px\" /></svg><line stroke=\"black\" x1=\"50%\" x2=\"50%\" y1=\"20px\" y2=\"48px\" /></svg><line stroke=\"black\" x1=\"50%\" x2=\"4.25532%\" y1=\"20px\" y2=\"48px\" /><svg width=\"14.8936%\" x=\"8.51064%\" y=\"48px\"><defs /><svg width=\"100%\" x=\"0\" y=\"0px\"><defs /><text text-anchor=\"middle\" x=\"50%\" y=\"16px\">ORGANIZATION</text></svg><svg width=\"100%\" x=\"0%\" y=\"48px\"><defs /><svg width=\"100%\" x=\"0\" y=\"0px\"><defs /><text text-anchor=\"middle\" x=\"50%\" y=\"16px\">Inc.</text></svg><svg width=\"100%\" x=\"0%\" y=\"48px\"><defs /><svg width=\"100%\" x=\"0\" y=\"0px\"><defs /><text text-anchor=\"middle\" x=\"50%\" y=\"16px\">NNP</text></svg></svg><line stroke=\"black\" x1=\"50%\" x2=\"50%\" y1=\"20px\" y2=\"48px\" /></svg><line stroke=\"black\" x1=\"50%\" x2=\"50%\" y1=\"20px\" y2=\"48px\" /></svg><line stroke=\"black\" x1=\"50%\" x2=\"15.9574%\" y1=\"20px\" y2=\"48px\" /><svg width=\"5.31915%\" x=\"23.4043%\" y=\"48px\"><defs /><svg width=\"100%\" x=\"0\" y=\"0px\"><defs /><text text-anchor=\"middle\" x=\"50%\" y=\"16px\">is</text></svg><svg width=\"100%\" x=\"0%\" y=\"48px\"><defs /><svg width=\"100%\" x=\"0\" y=\"0px\"><defs /><text text-anchor=\"middle\" x=\"50%\" y=\"16px\">VBZ</text></svg></svg><line stroke=\"black\" x1=\"50%\" x2=\"50%\" y1=\"20px\" y2=\"48px\" /></svg><line stroke=\"black\" x1=\"50%\" x2=\"26.0638%\" y1=\"20px\" y2=\"48px\" /><svg width=\"9.57447%\" x=\"28.7234%\" y=\"48px\"><defs /><svg width=\"100%\" x=\"0\" y=\"0px\"><defs /><text text-anchor=\"middle\" x=\"50%\" y=\"16px\">looking</text></svg><svg width=\"100%\" x=\"0%\" y=\"48px\"><defs /><svg width=\"100%\" x=\"0\" y=\"0px\"><defs /><text text-anchor=\"middle\" x=\"50%\" y=\"16px\">VBG</text></svg></svg><line stroke=\"black\" x1=\"50%\" x2=\"50%\" y1=\"20px\" y2=\"48px\" /></svg><line stroke=\"black\" x1=\"50%\" x2=\"33.5106%\" y1=\"20px\" y2=\"48px\" /><svg width=\"4.25532%\" x=\"38.2979%\" y=\"48px\"><defs /><svg width=\"100%\" x=\"0\" y=\"0px\"><defs /><text text-anchor=\"middle\" x=\"50%\" y=\"16px\">to</text></svg><svg width=\"100%\" x=\"0%\" y=\"48px\"><defs /><svg width=\"100%\" x=\"0\" y=\"0px\"><defs /><text text-anchor=\"middle\" x=\"50%\" y=\"16px\">TO</text></svg></svg><line stroke=\"black\" x1=\"50%\" x2=\"50%\" y1=\"20px\" y2=\"48px\" /></svg><line stroke=\"black\" x1=\"50%\" x2=\"40.4255%\" y1=\"20px\" y2=\"48px\" /><svg width=\"5.31915%\" x=\"42.5532%\" y=\"48px\"><defs /><svg width=\"100%\" x=\"0\" y=\"0px\"><defs /><text text-anchor=\"middle\" x=\"50%\" y=\"16px\">buy</text></svg><svg width=\"100%\" x=\"0%\" y=\"48px\"><defs /><svg width=\"100%\" x=\"0\" y=\"0px\"><defs /><text text-anchor=\"middle\" x=\"50%\" y=\"16px\">VB</text></svg></svg><line stroke=\"black\" x1=\"50%\" x2=\"50%\" y1=\"20px\" y2=\"48px\" /></svg><line stroke=\"black\" x1=\"50%\" x2=\"45.2128%\" y1=\"20px\" y2=\"48px\" /><svg width=\"4.25532%\" x=\"47.8723%\" y=\"48px\"><defs /><svg width=\"100%\" x=\"0\" y=\"0px\"><defs /><text text-anchor=\"middle\" x=\"50%\" y=\"16px\">a</text></svg><svg width=\"100%\" x=\"0%\" y=\"48px\"><defs /><svg width=\"100%\" x=\"0\" y=\"0px\"><defs /><text text-anchor=\"middle\" x=\"50%\" y=\"16px\">DT</text></svg></svg><line stroke=\"black\" x1=\"50%\" x2=\"50%\" y1=\"20px\" y2=\"48px\" /></svg><line stroke=\"black\" x1=\"50%\" x2=\"50%\" y1=\"20px\" y2=\"48px\" /><svg width=\"9.57447%\" x=\"52.1277%\" y=\"48px\"><defs /><svg width=\"100%\" x=\"0\" y=\"0px\"><defs /><text text-anchor=\"middle\" x=\"50%\" y=\"16px\">startup</text></svg><svg width=\"100%\" x=\"0%\" y=\"48px\"><defs /><svg width=\"100%\" x=\"0\" y=\"0px\"><defs /><text text-anchor=\"middle\" x=\"50%\" y=\"16px\">NN</text></svg></svg><line stroke=\"black\" x1=\"50%\" x2=\"50%\" y1=\"20px\" y2=\"48px\" /></svg><line stroke=\"black\" x1=\"50%\" x2=\"56.9149%\" y1=\"20px\" y2=\"48px\" /><svg width=\"4.25532%\" x=\"61.7021%\" y=\"48px\"><defs /><svg width=\"100%\" x=\"0\" y=\"0px\"><defs /><text text-anchor=\"middle\" x=\"50%\" y=\"16px\">in</text></svg><svg width=\"100%\" x=\"0%\" y=\"48px\"><defs /><svg width=\"100%\" x=\"0\" y=\"0px\"><defs /><text text-anchor=\"middle\" x=\"50%\" y=\"16px\">IN</text></svg></svg><line stroke=\"black\" x1=\"50%\" x2=\"50%\" y1=\"20px\" y2=\"48px\" /></svg><line stroke=\"black\" x1=\"50%\" x2=\"63.8298%\" y1=\"20px\" y2=\"48px\" /><svg width=\"9.57447%\" x=\"65.9574%\" y=\"48px\"><defs /><svg width=\"100%\" x=\"0\" y=\"0px\"><defs /><text text-anchor=\"middle\" x=\"50%\" y=\"16px\">GPE</text></svg><svg width=\"100%\" x=\"0%\" y=\"48px\"><defs /><svg width=\"100%\" x=\"0\" y=\"0px\"><defs /><text text-anchor=\"middle\" x=\"50%\" y=\"16px\">America</text></svg><svg width=\"100%\" x=\"0%\" y=\"48px\"><defs /><svg width=\"100%\" x=\"0\" y=\"0px\"><defs /><text text-anchor=\"middle\" x=\"50%\" y=\"16px\">NNP</text></svg></svg><line stroke=\"black\" x1=\"50%\" x2=\"50%\" y1=\"20px\" y2=\"48px\" /></svg><line stroke=\"black\" x1=\"50%\" x2=\"50%\" y1=\"20px\" y2=\"48px\" /></svg><line stroke=\"black\" x1=\"50%\" x2=\"70.7447%\" y1=\"20px\" y2=\"48px\" /><svg width=\"5.31915%\" x=\"75.5319%\" y=\"48px\"><defs /><svg width=\"100%\" x=\"0\" y=\"0px\"><defs /><text text-anchor=\"middle\" x=\"50%\" y=\"16px\">for</text></svg><svg width=\"100%\" x=\"0%\" y=\"48px\"><defs /><svg width=\"100%\" x=\"0\" y=\"0px\"><defs /><text text-anchor=\"middle\" x=\"50%\" y=\"16px\">IN</text></svg></svg><line stroke=\"black\" x1=\"50%\" x2=\"50%\" y1=\"20px\" y2=\"48px\" /></svg><line stroke=\"black\" x1=\"50%\" x2=\"78.1915%\" y1=\"20px\" y2=\"48px\" /><svg width=\"3.19149%\" x=\"80.8511%\" y=\"48px\"><defs /><svg width=\"100%\" x=\"0\" y=\"0px\"><defs /><text text-anchor=\"middle\" x=\"50%\" y=\"16px\">$</text></svg><svg width=\"100%\" x=\"0%\" y=\"48px\"><defs /><svg width=\"100%\" x=\"0\" y=\"0px\"><defs /><text text-anchor=\"middle\" x=\"50%\" y=\"16px\">$</text></svg></svg><line stroke=\"black\" x1=\"50%\" x2=\"50%\" y1=\"20px\" y2=\"48px\" /></svg><line stroke=\"black\" x1=\"50%\" x2=\"82.4468%\" y1=\"20px\" y2=\"48px\" /><svg width=\"5.31915%\" x=\"84.0426%\" y=\"48px\"><defs /><svg width=\"100%\" x=\"0\" y=\"0px\"><defs /><text text-anchor=\"middle\" x=\"50%\" y=\"16px\">200</text></svg><svg width=\"100%\" x=\"0%\" y=\"48px\"><defs /><svg width=\"100%\" x=\"0\" y=\"0px\"><defs /><text text-anchor=\"middle\" x=\"50%\" y=\"16px\">CD</text></svg></svg><line stroke=\"black\" x1=\"50%\" x2=\"50%\" y1=\"20px\" y2=\"48px\" /></svg><line stroke=\"black\" x1=\"50%\" x2=\"86.7021%\" y1=\"20px\" y2=\"48px\" /><svg width=\"10.6383%\" x=\"89.3617%\" y=\"48px\"><defs /><svg width=\"100%\" x=\"0\" y=\"0px\"><defs /><text text-anchor=\"middle\" x=\"50%\" y=\"16px\">millions</text></svg><svg width=\"100%\" x=\"0%\" y=\"48px\"><defs /><svg width=\"100%\" x=\"0\" y=\"0px\"><defs /><text text-anchor=\"middle\" x=\"50%\" y=\"16px\">NNS</text></svg></svg><line stroke=\"black\" x1=\"50%\" x2=\"50%\" y1=\"20px\" y2=\"48px\" /></svg><line stroke=\"black\" x1=\"50%\" x2=\"94.6809%\" y1=\"20px\" y2=\"48px\" /></svg>"
          },
          "metadata": {},
          "execution_count": 39
        }
      ]
    },
    {
      "cell_type": "code",
      "source": [
        "sent = \"Elon Musk is CEO of Tesla Inc. Located in America\"\n",
        "ne_chunk(pos_tag(word_tokenize(sent)))"
      ],
      "metadata": {
        "id": "-utYQeWiGcp0",
        "outputId": "4af0e542-68cd-4fe6-aced-3da7c59399c1",
        "colab": {
          "base_uri": "https://localhost:8080/",
          "height": 189
        }
      },
      "execution_count": 42,
      "outputs": [
        {
          "output_type": "execute_result",
          "data": {
            "text/plain": [
              "Tree('S', [Tree('PERSON', [('Elon', 'NNP')]), Tree('ORGANIZATION', [('Musk', 'NNP')]), ('is', 'VBZ'), ('CEO', 'NNP'), ('of', 'IN'), Tree('PERSON', [('Tesla', 'NNP'), ('Inc', 'NNP')]), ('.', '.'), ('Located', 'VBN'), ('in', 'IN'), Tree('GPE', [('America', 'NNP')])])"
            ],
            "image/svg+xml": "<svg baseProfile=\"full\" height=\"168px\" preserveAspectRatio=\"xMidYMid meet\" style=\"font-family: times, serif; font-weight: normal; font-style: normal; font-size: 16px\" version=\"1.1\" viewBox=\"0,0,584.0,168.0\" width=\"584px\" xmlns=\"http://www.w3.org/2000/svg\" xmlns:ev=\"http://www.w3.org/2001/xml-events\" xmlns:xlink=\"http://www.w3.org/1999/xlink\"><defs /><svg width=\"100%\" x=\"0\" y=\"0px\"><defs /><text text-anchor=\"middle\" x=\"50%\" y=\"16px\">S</text></svg><svg width=\"10.9589%\" x=\"0%\" y=\"48px\"><defs /><svg width=\"100%\" x=\"0\" y=\"0px\"><defs /><text text-anchor=\"middle\" x=\"50%\" y=\"16px\">PERSON</text></svg><svg width=\"100%\" x=\"0%\" y=\"48px\"><defs /><svg width=\"100%\" x=\"0\" y=\"0px\"><defs /><text text-anchor=\"middle\" x=\"50%\" y=\"16px\">Elon</text></svg><svg width=\"100%\" x=\"0%\" y=\"48px\"><defs /><svg width=\"100%\" x=\"0\" y=\"0px\"><defs /><text text-anchor=\"middle\" x=\"50%\" y=\"16px\">NNP</text></svg></svg><line stroke=\"black\" x1=\"50%\" x2=\"50%\" y1=\"20px\" y2=\"48px\" /></svg><line stroke=\"black\" x1=\"50%\" x2=\"50%\" y1=\"20px\" y2=\"48px\" /></svg><line stroke=\"black\" x1=\"50%\" x2=\"5.47945%\" y1=\"20px\" y2=\"48px\" /><svg width=\"19.1781%\" x=\"10.9589%\" y=\"48px\"><defs /><svg width=\"100%\" x=\"0\" y=\"0px\"><defs /><text text-anchor=\"middle\" x=\"50%\" y=\"16px\">ORGANIZATION</text></svg><svg width=\"100%\" x=\"0%\" y=\"48px\"><defs /><svg width=\"100%\" x=\"0\" y=\"0px\"><defs /><text text-anchor=\"middle\" x=\"50%\" y=\"16px\">Musk</text></svg><svg width=\"100%\" x=\"0%\" y=\"48px\"><defs /><svg width=\"100%\" x=\"0\" y=\"0px\"><defs /><text text-anchor=\"middle\" x=\"50%\" y=\"16px\">NNP</text></svg></svg><line stroke=\"black\" x1=\"50%\" x2=\"50%\" y1=\"20px\" y2=\"48px\" /></svg><line stroke=\"black\" x1=\"50%\" x2=\"50%\" y1=\"20px\" y2=\"48px\" /></svg><line stroke=\"black\" x1=\"50%\" x2=\"20.5479%\" y1=\"20px\" y2=\"48px\" /><svg width=\"6.84932%\" x=\"30.137%\" y=\"48px\"><defs /><svg width=\"100%\" x=\"0\" y=\"0px\"><defs /><text text-anchor=\"middle\" x=\"50%\" y=\"16px\">is</text></svg><svg width=\"100%\" x=\"0%\" y=\"48px\"><defs /><svg width=\"100%\" x=\"0\" y=\"0px\"><defs /><text text-anchor=\"middle\" x=\"50%\" y=\"16px\">VBZ</text></svg></svg><line stroke=\"black\" x1=\"50%\" x2=\"50%\" y1=\"20px\" y2=\"48px\" /></svg><line stroke=\"black\" x1=\"50%\" x2=\"33.5616%\" y1=\"20px\" y2=\"48px\" /><svg width=\"6.84932%\" x=\"36.9863%\" y=\"48px\"><defs /><svg width=\"100%\" x=\"0\" y=\"0px\"><defs /><text text-anchor=\"middle\" x=\"50%\" y=\"16px\">CEO</text></svg><svg width=\"100%\" x=\"0%\" y=\"48px\"><defs /><svg width=\"100%\" x=\"0\" y=\"0px\"><defs /><text text-anchor=\"middle\" x=\"50%\" y=\"16px\">NNP</text></svg></svg><line stroke=\"black\" x1=\"50%\" x2=\"50%\" y1=\"20px\" y2=\"48px\" /></svg><line stroke=\"black\" x1=\"50%\" x2=\"40.411%\" y1=\"20px\" y2=\"48px\" /><svg width=\"5.47945%\" x=\"43.8356%\" y=\"48px\"><defs /><svg width=\"100%\" x=\"0\" y=\"0px\"><defs /><text text-anchor=\"middle\" x=\"50%\" y=\"16px\">of</text></svg><svg width=\"100%\" x=\"0%\" y=\"48px\"><defs /><svg width=\"100%\" x=\"0\" y=\"0px\"><defs /><text text-anchor=\"middle\" x=\"50%\" y=\"16px\">IN</text></svg></svg><line stroke=\"black\" x1=\"50%\" x2=\"50%\" y1=\"20px\" y2=\"48px\" /></svg><line stroke=\"black\" x1=\"50%\" x2=\"46.5753%\" y1=\"20px\" y2=\"48px\" /><svg width=\"16.4384%\" x=\"49.3151%\" y=\"48px\"><defs /><svg width=\"100%\" x=\"0\" y=\"0px\"><defs /><text text-anchor=\"middle\" x=\"50%\" y=\"16px\">PERSON</text></svg><svg width=\"58.3333%\" x=\"0%\" y=\"48px\"><defs /><svg width=\"100%\" x=\"0\" y=\"0px\"><defs /><text text-anchor=\"middle\" x=\"50%\" y=\"16px\">Tesla</text></svg><svg width=\"100%\" x=\"0%\" y=\"48px\"><defs /><svg width=\"100%\" x=\"0\" y=\"0px\"><defs /><text text-anchor=\"middle\" x=\"50%\" y=\"16px\">NNP</text></svg></svg><line stroke=\"black\" x1=\"50%\" x2=\"50%\" y1=\"20px\" y2=\"48px\" /></svg><line stroke=\"black\" x1=\"50%\" x2=\"29.1667%\" y1=\"20px\" y2=\"48px\" /><svg width=\"41.6667%\" x=\"58.3333%\" y=\"48px\"><defs /><svg width=\"100%\" x=\"0\" y=\"0px\"><defs /><text text-anchor=\"middle\" x=\"50%\" y=\"16px\">Inc</text></svg><svg width=\"100%\" x=\"0%\" y=\"48px\"><defs /><svg width=\"100%\" x=\"0\" y=\"0px\"><defs /><text text-anchor=\"middle\" x=\"50%\" y=\"16px\">NNP</text></svg></svg><line stroke=\"black\" x1=\"50%\" x2=\"50%\" y1=\"20px\" y2=\"48px\" /></svg><line stroke=\"black\" x1=\"50%\" x2=\"79.1667%\" y1=\"20px\" y2=\"48px\" /></svg><line stroke=\"black\" x1=\"50%\" x2=\"57.5342%\" y1=\"20px\" y2=\"48px\" /><svg width=\"4.10959%\" x=\"65.7534%\" y=\"48px\"><defs /><svg width=\"100%\" x=\"0\" y=\"0px\"><defs /><text text-anchor=\"middle\" x=\"50%\" y=\"16px\">.</text></svg><svg width=\"100%\" x=\"0%\" y=\"48px\"><defs /><svg width=\"100%\" x=\"0\" y=\"0px\"><defs /><text text-anchor=\"middle\" x=\"50%\" y=\"16px\">.</text></svg></svg><line stroke=\"black\" x1=\"50%\" x2=\"50%\" y1=\"20px\" y2=\"48px\" /></svg><line stroke=\"black\" x1=\"50%\" x2=\"67.8082%\" y1=\"20px\" y2=\"48px\" /><svg width=\"12.3288%\" x=\"69.863%\" y=\"48px\"><defs /><svg width=\"100%\" x=\"0\" y=\"0px\"><defs /><text text-anchor=\"middle\" x=\"50%\" y=\"16px\">Located</text></svg><svg width=\"100%\" x=\"0%\" y=\"48px\"><defs /><svg width=\"100%\" x=\"0\" y=\"0px\"><defs /><text text-anchor=\"middle\" x=\"50%\" y=\"16px\">VBN</text></svg></svg><line stroke=\"black\" x1=\"50%\" x2=\"50%\" y1=\"20px\" y2=\"48px\" /></svg><line stroke=\"black\" x1=\"50%\" x2=\"76.0274%\" y1=\"20px\" y2=\"48px\" /><svg width=\"5.47945%\" x=\"82.1918%\" y=\"48px\"><defs /><svg width=\"100%\" x=\"0\" y=\"0px\"><defs /><text text-anchor=\"middle\" x=\"50%\" y=\"16px\">in</text></svg><svg width=\"100%\" x=\"0%\" y=\"48px\"><defs /><svg width=\"100%\" x=\"0\" y=\"0px\"><defs /><text text-anchor=\"middle\" x=\"50%\" y=\"16px\">IN</text></svg></svg><line stroke=\"black\" x1=\"50%\" x2=\"50%\" y1=\"20px\" y2=\"48px\" /></svg><line stroke=\"black\" x1=\"50%\" x2=\"84.9315%\" y1=\"20px\" y2=\"48px\" /><svg width=\"12.3288%\" x=\"87.6712%\" y=\"48px\"><defs /><svg width=\"100%\" x=\"0\" y=\"0px\"><defs /><text text-anchor=\"middle\" x=\"50%\" y=\"16px\">GPE</text></svg><svg width=\"100%\" x=\"0%\" y=\"48px\"><defs /><svg width=\"100%\" x=\"0\" y=\"0px\"><defs /><text text-anchor=\"middle\" x=\"50%\" y=\"16px\">America</text></svg><svg width=\"100%\" x=\"0%\" y=\"48px\"><defs /><svg width=\"100%\" x=\"0\" y=\"0px\"><defs /><text text-anchor=\"middle\" x=\"50%\" y=\"16px\">NNP</text></svg></svg><line stroke=\"black\" x1=\"50%\" x2=\"50%\" y1=\"20px\" y2=\"48px\" /></svg><line stroke=\"black\" x1=\"50%\" x2=\"50%\" y1=\"20px\" y2=\"48px\" /></svg><line stroke=\"black\" x1=\"50%\" x2=\"93.8356%\" y1=\"20px\" y2=\"48px\" /></svg>"
          },
          "metadata": {},
          "execution_count": 42
        }
      ]
    },
    {
      "cell_type": "code",
      "source": [],
      "metadata": {
        "id": "avl4v7pvG4OX"
      },
      "execution_count": null,
      "outputs": []
    }
  ]
}
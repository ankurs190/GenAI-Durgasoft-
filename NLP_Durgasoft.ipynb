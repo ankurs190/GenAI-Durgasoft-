{
  "nbformat": 4,
  "nbformat_minor": 0,
  "metadata": {
    "colab": {
      "provenance": [],
      "collapsed_sections": [
        "K30XKrq5Ig3G",
        "rhUbyCjtmPuh",
        "Z95ZEX-8vTZn"
      ],
      "include_colab_link": true
    },
    "kernelspec": {
      "name": "python3",
      "display_name": "Python 3"
    },
    "language_info": {
      "name": "python"
    }
  },
  "cells": [
    {
      "cell_type": "markdown",
      "metadata": {
        "id": "view-in-github",
        "colab_type": "text"
      },
      "source": [
        "<a href=\"https://colab.research.google.com/github/ankurs190/GenAI-Durgasoft-/blob/main/NLP_Durgasoft.ipynb\" target=\"_parent\"><img src=\"https://colab.research.google.com/assets/colab-badge.svg\" alt=\"Open In Colab\"/></a>"
      ]
    },
    {
      "cell_type": "markdown",
      "source": [
        "### **NLP Summary**"
      ],
      "metadata": {
        "id": "pZ-uFyW75y5C"
      }
    },
    {
      "cell_type": "markdown",
      "source": [
        "\n",
        "| Step                    | Description                                       | Tool/Library                | Example Input                                   | Example Output             |\n",
        "| ----------------------- | ------------------------------------------------- | --------------------------- | ----------------------------------------------- | -------------------------- |\n",
        "| **Lowercasing**         | Converts all text to lowercase                    | Python string methods       | \"Hello World\"                                   | \"hello world\"              |\n",
        "| **Tokenization**        | Splits text into words/sentences                  | `nltk.word_tokenize()`      | \"I love NLP.\"                                   | \\['I', 'love', 'NLP', '.'] |\n",
        "| **Stopword Removal**    | Removes common words with little meaning          | `nltk.corpus.stopwords`     | \"I am learning NLP\"                             | \\['learning', 'NLP']       |\n",
        "| **Punctuation Removal** | Removes symbols like `.,!?`                       | `string.punctuation` + `re` | \"Hello!\"                                        | \"Hello\"                    |\n",
        "| **Stemming**            | Trims words to their root form                    | `PorterStemmer`, `Snowball` | \"running\", \"flies\"                              | \"run\", \"fli\"               |\n",
        "| **Lemmatization**       | Converts word to dictionary base form using POS   | `WordNetLemmatizer`         | \"better\", \"was\"                                 | \"good\", \"be\"               |\n",
        "| **POS Tagging**         | Tags words with part of speech (noun, verb, etc.) | `nltk.pos_tag()`            | \"run\", \"beautiful\"                              | \\[('run', 'VB'), ...]      |\n",
        "| **Regex Cleaning**      | Custom text cleanup using patterns                | `re` module                 | \"[User123@gmail.com](mailto:User123@gmail.com)\" | \"User\" (after regex)       |\n",
        "\n",
        "\n",
        "- NLP Text Hierarchy- Corpus-> Document-> Sentence-> Vocabulary\n",
        "\n",
        "| Level          | Description                                                                         | Example                            |\n",
        "| -------------- | ----------------------------------------------------------------------------------- | ---------------------------------- |\n",
        "| **Corpus**     | A **collection of documents**. The entire dataset you're analyzing.                 | All the articles in a news archive |\n",
        "| **Document**   | A **single piece of text** (can be an article, paragraph, review, etc.)             | One news article                   |\n",
        "| **Sentence**   | A **meaningful sequence of words**, typically ending in a period/question mark/etc. | \"The cat sat on the mat.\"          |\n",
        "| **Vocabulary** | The set of **unique words** in the corpus (after cleaning).                         | {“cat”, “sat”, “mat”, ...}         |\n"
      ],
      "metadata": {
        "id": "QzNtCHdn5t_B"
      }
    },
    {
      "cell_type": "markdown",
      "source": [
        "### **Session 69 (25-June)**"
      ],
      "metadata": {
        "id": "GcRklRwsz3bP"
      }
    },
    {
      "cell_type": "markdown",
      "source": [
        "##### **String Punctuation**\n"
      ],
      "metadata": {
        "id": "K30XKrq5Ig3G"
      }
    },
    {
      "cell_type": "code",
      "execution_count": null,
      "metadata": {
        "id": "DJ7pADKSsOBl"
      },
      "outputs": [],
      "source": [
        "import string"
      ]
    },
    {
      "cell_type": "code",
      "source": [
        "string.punctuation"
      ],
      "metadata": {
        "colab": {
          "base_uri": "https://localhost:8080/"
        },
        "id": "oFQupiCyscoK",
        "outputId": "21ef20ab-64d6-425f-de3a-e994cee30c89"
      },
      "execution_count": null,
      "outputs": [
        {
          "output_type": "execute_result",
          "data": {
            "text/plain": [
              "'!\"#$%&\\'()*+,-./:;<=>?@[\\\\]^_`{|}~'"
            ],
            "application/vnd.google.colaboratory.intrinsic+json": {
              "type": "string"
            }
          },
          "metadata": {},
          "execution_count": 136
        }
      ]
    },
    {
      "cell_type": "code",
      "source": [
        "punc = string.punctuation"
      ],
      "metadata": {
        "id": "9coT-5IfslkK"
      },
      "execution_count": null,
      "outputs": []
    },
    {
      "cell_type": "code",
      "source": [
        "punc"
      ],
      "metadata": {
        "colab": {
          "base_uri": "https://localhost:8080/"
        },
        "id": "NI8nyBwDsu84",
        "outputId": "26c00e67-7851-4aff-8da5-2b1d9d9a26ee"
      },
      "execution_count": null,
      "outputs": [
        {
          "output_type": "execute_result",
          "data": {
            "text/plain": [
              "'!\"#$%&\\'()*+,-./:;<=>?@[\\\\]^_`{|}~'"
            ],
            "application/vnd.google.colaboratory.intrinsic+json": {
              "type": "string"
            }
          },
          "metadata": {},
          "execution_count": 138
        }
      ]
    },
    {
      "cell_type": "code",
      "source": [
        "msg = \"Good Evening Everyone, Welcome to 'NLP' Class (AI)\""
      ],
      "metadata": {
        "id": "1l8TCLCDsvj-"
      },
      "execution_count": null,
      "outputs": []
    },
    {
      "cell_type": "code",
      "source": [
        "msg"
      ],
      "metadata": {
        "colab": {
          "base_uri": "https://localhost:8080/"
        },
        "id": "9pPPa_2QtLlO",
        "outputId": "60a2e222-60be-4ea9-99ee-55e681d56ff5"
      },
      "execution_count": null,
      "outputs": [
        {
          "output_type": "execute_result",
          "data": {
            "text/plain": [
              "\"Good Evening Everyone, Welcome to 'NLP' Class (AI)\""
            ],
            "application/vnd.google.colaboratory.intrinsic+json": {
              "type": "string"
            }
          },
          "metadata": {},
          "execution_count": 140
        }
      ]
    },
    {
      "cell_type": "code",
      "source": [
        "import time"
      ],
      "metadata": {
        "id": "pTLPxJbst1GP"
      },
      "execution_count": null,
      "outputs": []
    },
    {
      "cell_type": "code",
      "source": [
        "for i in msg :\n",
        "  print(i)\n",
        "  time.sleep(0.5)  # prints each character (or item) in msg, one at a time, with a 0.5 second delay between each — creating a \"typing effect\"."
      ],
      "metadata": {
        "colab": {
          "base_uri": "https://localhost:8080/"
        },
        "id": "I1CSJEuftdRm",
        "outputId": "b46ee9d6-819e-4061-8c97-e6b44ac61b08",
        "collapsed": true
      },
      "execution_count": null,
      "outputs": [
        {
          "output_type": "stream",
          "name": "stdout",
          "text": [
            "G\n",
            "o\n",
            "o\n",
            "d\n",
            " \n",
            "E\n",
            "v\n",
            "e\n",
            "n\n",
            "i\n",
            "n\n",
            "g\n",
            " \n",
            "E\n",
            "v\n",
            "e\n",
            "r\n",
            "y\n",
            "o\n",
            "n\n",
            "e\n",
            ",\n",
            " \n",
            "W\n",
            "e\n",
            "l\n",
            "c\n",
            "o\n",
            "m\n",
            "e\n",
            " \n",
            "t\n",
            "o\n",
            " \n",
            "'\n",
            "N\n",
            "L\n",
            "P\n",
            "'\n",
            " \n",
            "C\n",
            "l\n",
            "a\n",
            "s\n",
            "s\n",
            " \n",
            "(\n",
            "A\n",
            "I\n",
            ")\n"
          ]
        }
      ]
    },
    {
      "cell_type": "code",
      "source": [
        "punc"
      ],
      "metadata": {
        "colab": {
          "base_uri": "https://localhost:8080/"
        },
        "id": "eHO-JRGeuM51",
        "outputId": "07cf22a3-be3e-414b-b03a-2e0b283cb71a"
      },
      "execution_count": null,
      "outputs": [
        {
          "output_type": "execute_result",
          "data": {
            "text/plain": [
              "'!\"#$%&\\'()*+,-./:;<=>?@[\\\\]^_`{|}~'"
            ],
            "application/vnd.google.colaboratory.intrinsic+json": {
              "type": "string"
            }
          },
          "metadata": {},
          "execution_count": 143
        }
      ]
    },
    {
      "cell_type": "code",
      "source": [
        "msg"
      ],
      "metadata": {
        "colab": {
          "base_uri": "https://localhost:8080/"
        },
        "id": "5LqPAOBIuUjJ",
        "outputId": "aa5fffc0-2ab4-4dd8-a8b6-dab06af63f58"
      },
      "execution_count": null,
      "outputs": [
        {
          "output_type": "execute_result",
          "data": {
            "text/plain": [
              "\"Good Evening Everyone, Welcome to 'NLP' Class (AI)\""
            ],
            "application/vnd.google.colaboratory.intrinsic+json": {
              "type": "string"
            }
          },
          "metadata": {},
          "execution_count": 144
        }
      ]
    },
    {
      "cell_type": "code",
      "source": [
        "for i in msg :\n",
        "   if i not in punc:\n",
        "      print(i)\n"
      ],
      "metadata": {
        "colab": {
          "base_uri": "https://localhost:8080/"
        },
        "id": "miUPpZFGtucr",
        "outputId": "4a87a4e2-266c-42b9-c782-03ac8dedac64",
        "collapsed": true
      },
      "execution_count": null,
      "outputs": [
        {
          "output_type": "stream",
          "name": "stdout",
          "text": [
            "G\n",
            "o\n",
            "o\n",
            "d\n",
            " \n",
            "E\n",
            "v\n",
            "e\n",
            "n\n",
            "i\n",
            "n\n",
            "g\n",
            " \n",
            "E\n",
            "v\n",
            "e\n",
            "r\n",
            "y\n",
            "o\n",
            "n\n",
            "e\n",
            " \n",
            "W\n",
            "e\n",
            "l\n",
            "c\n",
            "o\n",
            "m\n",
            "e\n",
            " \n",
            "t\n",
            "o\n",
            " \n",
            "N\n",
            "L\n",
            "P\n",
            " \n",
            "C\n",
            "l\n",
            "a\n",
            "s\n",
            "s\n",
            " \n",
            "A\n",
            "I\n"
          ]
        }
      ]
    },
    {
      "cell_type": "code",
      "source": [
        "slist = []\n",
        "for i in msg :\n",
        "   if i not in punc:\n",
        "      slist.append(i)\n",
        "print(slist)\n",
        "print(\"\".join(slist))"
      ],
      "metadata": {
        "colab": {
          "base_uri": "https://localhost:8080/"
        },
        "id": "E6teWf7guTeq",
        "outputId": "9b275395-a527-479a-de03-515ed06e9cec"
      },
      "execution_count": null,
      "outputs": [
        {
          "output_type": "stream",
          "name": "stdout",
          "text": [
            "['G', 'o', 'o', 'd', ' ', 'E', 'v', 'e', 'n', 'i', 'n', 'g', ' ', 'E', 'v', 'e', 'r', 'y', 'o', 'n', 'e', ' ', 'W', 'e', 'l', 'c', 'o', 'm', 'e', ' ', 't', 'o', ' ', 'N', 'L', 'P', ' ', 'C', 'l', 'a', 's', 's', ' ', 'A', 'I']\n",
            "Good Evening Everyone Welcome to NLP Class AI\n"
          ]
        }
      ]
    },
    {
      "cell_type": "code",
      "source": [
        "\"\".join([ c    for c in msg  if c not in punc])"
      ],
      "metadata": {
        "colab": {
          "base_uri": "https://localhost:8080/"
        },
        "id": "F7TqHDqduqrP",
        "outputId": "10377528-910a-4631-ed1f-85c9ca90456b"
      },
      "execution_count": null,
      "outputs": [
        {
          "output_type": "execute_result",
          "data": {
            "text/plain": [
              "'Good Evening Everyone Welcome to NLP Class AI'"
            ],
            "application/vnd.google.colaboratory.intrinsic+json": {
              "type": "string"
            }
          },
          "metadata": {},
          "execution_count": 147
        }
      ]
    },
    {
      "cell_type": "markdown",
      "source": [
        "### **Session 70 (25 June)**"
      ],
      "metadata": {
        "id": "rhUbyCjtmPuh"
      }
    },
    {
      "cell_type": "markdown",
      "source": [
        "##### **Special Character with Regular Expression**"
      ],
      "metadata": {
        "id": "Z95ZEX-8vTZn"
      }
    },
    {
      "cell_type": "code",
      "source": [
        "wish = \"Wish -You -A@ Happy_ New_ Year #2025!\""
      ],
      "metadata": {
        "id": "hHguVisDvFW6"
      },
      "execution_count": null,
      "outputs": []
    },
    {
      "cell_type": "code",
      "source": [
        "wish"
      ],
      "metadata": {
        "colab": {
          "base_uri": "https://localhost:8080/"
        },
        "id": "XTNHKbD3xBJE",
        "outputId": "bb5c611c-8284-4ac8-8599-3d76ebabd12c"
      },
      "execution_count": null,
      "outputs": [
        {
          "output_type": "execute_result",
          "data": {
            "text/plain": [
              "'Wish -You -A@ Happy_ New_ Year #2025!'"
            ],
            "application/vnd.google.colaboratory.intrinsic+json": {
              "type": "string"
            }
          },
          "metadata": {},
          "execution_count": 149
        }
      ]
    },
    {
      "cell_type": "code",
      "source": [
        "import re"
      ],
      "metadata": {
        "id": "r4_V0rDCxGcO"
      },
      "execution_count": null,
      "outputs": []
    },
    {
      "cell_type": "code",
      "source": [
        "re.findall(\"[a-z]\", wish)  # uses Python’s re module to find all lowercase alphabetic characters (a to z) in the string wish."
      ],
      "metadata": {
        "colab": {
          "base_uri": "https://localhost:8080/"
        },
        "id": "zlAd5g2lxBpp",
        "outputId": "5c346cb3-cc47-4efb-8a25-8f54365902a5"
      },
      "execution_count": null,
      "outputs": [
        {
          "output_type": "execute_result",
          "data": {
            "text/plain": [
              "['i', 's', 'h', 'o', 'u', 'a', 'p', 'p', 'y', 'e', 'w', 'e', 'a', 'r']"
            ]
          },
          "metadata": {},
          "execution_count": 151
        }
      ]
    },
    {
      "cell_type": "code",
      "source": [
        "# re.findall(\"[a-zA-Z]\", wish)"
      ],
      "metadata": {
        "id": "Qq5a008bxj1-"
      },
      "execution_count": null,
      "outputs": []
    },
    {
      "cell_type": "code",
      "source": [
        "re.findall(\"[a-zA-Z0-9]\", wish)"
      ],
      "metadata": {
        "colab": {
          "base_uri": "https://localhost:8080/"
        },
        "id": "4L2IGAQwxoXp",
        "outputId": "cb6e6482-07ad-451e-9064-887346039f10"
      },
      "execution_count": null,
      "outputs": [
        {
          "output_type": "execute_result",
          "data": {
            "text/plain": [
              "['W',\n",
              " 'i',\n",
              " 's',\n",
              " 'h',\n",
              " 'Y',\n",
              " 'o',\n",
              " 'u',\n",
              " 'A',\n",
              " 'H',\n",
              " 'a',\n",
              " 'p',\n",
              " 'p',\n",
              " 'y',\n",
              " 'N',\n",
              " 'e',\n",
              " 'w',\n",
              " 'Y',\n",
              " 'e',\n",
              " 'a',\n",
              " 'r',\n",
              " '2',\n",
              " '0',\n",
              " '2',\n",
              " '5']"
            ]
          },
          "metadata": {},
          "execution_count": 153
        }
      ]
    },
    {
      "cell_type": "code",
      "source": [
        "re.findall(\"[^a-zA-Z0-9 ]\", wish)"
      ],
      "metadata": {
        "colab": {
          "base_uri": "https://localhost:8080/"
        },
        "id": "Jf3_uxvExyHN",
        "outputId": "1363e77a-1cb9-4479-edd6-2d508c4cc023"
      },
      "execution_count": null,
      "outputs": [
        {
          "output_type": "execute_result",
          "data": {
            "text/plain": [
              "['-', '-', '@', '_', '_', '#', '!']"
            ]
          },
          "metadata": {},
          "execution_count": 154
        }
      ]
    },
    {
      "cell_type": "code",
      "source": [
        "re.sub(\"[^a-zA-Z0-9 ]\",\"\", wish)  #removes all characters from the string wish that are not letters, digits, or spaces."
      ],
      "metadata": {
        "colab": {
          "base_uri": "https://localhost:8080/"
        },
        "id": "IY_bI0nhx7aB",
        "outputId": "b2bb8cb4-d838-4c11-faad-786a245aa80c"
      },
      "execution_count": null,
      "outputs": [
        {
          "output_type": "execute_result",
          "data": {
            "text/plain": [
              "'Wish You A Happy New Year 2025'"
            ],
            "application/vnd.google.colaboratory.intrinsic+json": {
              "type": "string"
            }
          },
          "metadata": {},
          "execution_count": 155
        }
      ]
    },
    {
      "cell_type": "code",
      "source": [
        "# re.findall()\t#Returns all matches in a list\n",
        "# re.search()\t#Returns first match (or None)\n",
        "# re.match()\t#Matches only from start of string\n",
        "# re.sub()\t#Substitutes matches with a new string\n",
        "# re.split()\t#Splits string based on a pattern\n",
        "# re.compile()\t#Precompiles a regex pattern for reuse"
      ],
      "metadata": {
        "id": "iVbNDx1uA16d"
      },
      "execution_count": null,
      "outputs": []
    },
    {
      "cell_type": "markdown",
      "source": [
        "##### **Tokenization**\n",
        "\n",
        "* Tokenization is the process of breaking text into smaller pieces called tokens. These tokens can be:\n",
        " * Words, Subwords, Characters, or even punctuation marks\n",
        "* It’s a fundamental step in NLP used by models like GPT, BERT, etc.\n",
        "\n",
        "* nltk, spaCy, and HuggingFace tokenizers for both sentence and word tokenization"
      ],
      "metadata": {
        "id": "YjJQ-b20yb4a"
      }
    },
    {
      "cell_type": "code",
      "source": [
        "# %pip install nltk\n",
        "import nltk  #  Natural Language Toolkit\n",
        "from nltk.tokenize import word_tokenize, sent_tokenize\n",
        "\n",
        "nltk.download('punkt')  #downloads the Punkt tokenizer models for the NLTK.This is required for functions like word_tokenize() to work properly.\n",
        "nltk.download('punkt_tab')"
      ],
      "metadata": {
        "colab": {
          "base_uri": "https://localhost:8080/"
        },
        "id": "GzTcVmdIyQG1",
        "outputId": "9fe12d36-f670-46de-8a8d-a0a3e610f3ff"
      },
      "execution_count": null,
      "outputs": [
        {
          "output_type": "stream",
          "name": "stderr",
          "text": [
            "[nltk_data] Downloading package punkt to /root/nltk_data...\n",
            "[nltk_data]   Unzipping tokenizers/punkt.zip.\n",
            "[nltk_data] Downloading package punkt_tab to /root/nltk_data...\n",
            "[nltk_data]   Unzipping tokenizers/punkt_tab.zip.\n"
          ]
        },
        {
          "output_type": "execute_result",
          "data": {
            "text/plain": [
              "True"
            ]
          },
          "metadata": {},
          "execution_count": 157
        }
      ]
    },
    {
      "cell_type": "code",
      "source": [
        "para = \"Hello All! How are you doing today? We are implementing tokenization in NLP. This is done using NLTK.\"\n",
        "print(word_tokenize(para))\n",
        "# splits punctuation as separate tokens. Notice how !, ?, and . are treated as separate tokens\n",
        "# This is ideal for tasks like POS tagging, NER, or training models\n",
        "\n",
        "\n",
        "print(sent_tokenize(para)) #  keeps punctuation attached to sentence\n",
        "# Sentence boundaries are inferred based on punctuation and capitalization patterns"
      ],
      "metadata": {
        "id": "FOsXM0I3zu-V",
        "colab": {
          "base_uri": "https://localhost:8080/"
        },
        "outputId": "d7b3aad1-cd1d-4b3a-f3f1-5ff09cd20c0e"
      },
      "execution_count": null,
      "outputs": [
        {
          "output_type": "stream",
          "name": "stdout",
          "text": [
            "['Hello', 'All', '!', 'How', 'are', 'you', 'doing', 'today', '?', 'We', 'are', 'implementing', 'tokenization', 'in', 'NLP', '.', 'This', 'is', 'done', 'using', 'NLTK', '.']\n",
            "['Hello All!', 'How are you doing today?', 'We are implementing tokenization in NLP.', 'This is done using NLTK.']\n"
          ]
        }
      ]
    },
    {
      "cell_type": "code",
      "source": [
        "print(para.split())  #Splits text only on whitespace. Does not separate punctuation from words\n",
        "print(word_tokenize(para))"
      ],
      "metadata": {
        "colab": {
          "base_uri": "https://localhost:8080/"
        },
        "id": "FtnXL43l1-1A",
        "outputId": "f76407ae-7080-4c5a-e78e-a44579fdc883"
      },
      "execution_count": null,
      "outputs": [
        {
          "output_type": "stream",
          "name": "stdout",
          "text": [
            "['Hello', 'All!', 'How', 'are', 'you', 'doing', 'today?', 'We', 'are', 'implementing', 'tokenization', 'in', 'NLP.', 'This', 'is', 'done', 'using', 'NLTK.']\n",
            "['Hello', 'All', '!', 'How', 'are', 'you', 'doing', 'today', '?', 'We', 'are', 'implementing', 'tokenization', 'in', 'NLP', '.', 'This', 'is', 'done', 'using', 'NLTK', '.']\n"
          ]
        }
      ]
    },
    {
      "cell_type": "markdown",
      "source": [
        "##### **Stop Words**"
      ],
      "metadata": {
        "id": "d8puZ7ehIGJ0"
      }
    },
    {
      "cell_type": "markdown",
      "source": [
        "* Stop words are common words in a language (like \"the\", \"is\", \"in\", \"and\") that are usually filtered out before processing text in NLP, because they don’t carry much meaningful information. Doesn't contribute to semantic meaning of seuqential data\n",
        "\n",
        "* Why Remove Stop Words?\n",
        "   * They appear very frequently, but add little value to tasks like:\n",
        "    * Text classification\n",
        "    * Topic modeling\n",
        "    * Information retrieval\n",
        "   * Removing them reduces noise (focus on important words) and sometimes improves performance (by removing words, reduced memory usage)\n",
        "\n",
        "* when to remove stopwords-\n",
        "  * Text Classification -\n",
        "    * spam detection: if mail is having words like-\n",
        "      * Discount, offer, personal loans, excellent opportunity\n",
        "  * Search Engine- To ignore irrelevant terms in queries\n",
        "  * Document Clustering\n",
        "  * Sentiment Analysis\n",
        "  * Topic modeling (LDA): Stopwords add noise\n",
        "  * TF-IDF vectorization: Stopwords often have high frequency but low informativeness\n",
        "\n",
        "\n",
        "\n",
        "* When You Don’t Remove Them\n",
        "   * **Context-sensitive models (BERT, GPT)**: These models learn to assign low weight to stopwords, so removal isn't necessary.\n",
        "   * **Sequence tasks (e.g., translation, summarization)**: Removing stopwords would distort grammar and meaning."
      ],
      "metadata": {
        "id": "fu7CFqTvGK2n"
      }
    },
    {
      "cell_type": "code",
      "source": [
        "# Sentence: \"The cat is on the mat.\"\n",
        "\n",
        "# Without stopwords: \"cat mat\"\n",
        "\n",
        "# For a classifier, this may retain core meaning\n",
        "\n",
        "# For a translator or summarizer — this would break the sentence\n"
      ],
      "metadata": {
        "id": "2toSEx8b2hqp"
      },
      "execution_count": null,
      "outputs": []
    },
    {
      "cell_type": "code",
      "source": [
        " #stopwords\n",
        "import nltk\n",
        "from nltk.corpus import stopwords  # imports the stop words corpus from the NLTK library, which provides predefined lists of common stop words in multiple languages (like English, French, German, etc.).\n",
        "nltk.download('stopwords') # Download the stopwords data (only once):\n",
        "print(stopwords.words('english'))\n",
        "print(len(stopwords.words('english')))"
      ],
      "metadata": {
        "id": "npW6qRCf2QNM",
        "colab": {
          "base_uri": "https://localhost:8080/"
        },
        "outputId": "7540e312-7b6e-4906-c79c-5b14550b6450"
      },
      "execution_count": null,
      "outputs": [
        {
          "output_type": "stream",
          "name": "stdout",
          "text": [
            "['a', 'about', 'above', 'after', 'again', 'against', 'ain', 'all', 'am', 'an', 'and', 'any', 'are', 'aren', \"aren't\", 'as', 'at', 'be', 'because', 'been', 'before', 'being', 'below', 'between', 'both', 'but', 'by', 'can', 'couldn', \"couldn't\", 'd', 'did', 'didn', \"didn't\", 'do', 'does', 'doesn', \"doesn't\", 'doing', 'don', \"don't\", 'down', 'during', 'each', 'few', 'for', 'from', 'further', 'had', 'hadn', \"hadn't\", 'has', 'hasn', \"hasn't\", 'have', 'haven', \"haven't\", 'having', 'he', \"he'd\", \"he'll\", 'her', 'here', 'hers', 'herself', \"he's\", 'him', 'himself', 'his', 'how', 'i', \"i'd\", 'if', \"i'll\", \"i'm\", 'in', 'into', 'is', 'isn', \"isn't\", 'it', \"it'd\", \"it'll\", \"it's\", 'its', 'itself', \"i've\", 'just', 'll', 'm', 'ma', 'me', 'mightn', \"mightn't\", 'more', 'most', 'mustn', \"mustn't\", 'my', 'myself', 'needn', \"needn't\", 'no', 'nor', 'not', 'now', 'o', 'of', 'off', 'on', 'once', 'only', 'or', 'other', 'our', 'ours', 'ourselves', 'out', 'over', 'own', 're', 's', 'same', 'shan', \"shan't\", 'she', \"she'd\", \"she'll\", \"she's\", 'should', 'shouldn', \"shouldn't\", \"should've\", 'so', 'some', 'such', 't', 'than', 'that', \"that'll\", 'the', 'their', 'theirs', 'them', 'themselves', 'then', 'there', 'these', 'they', \"they'd\", \"they'll\", \"they're\", \"they've\", 'this', 'those', 'through', 'to', 'too', 'under', 'until', 'up', 've', 'very', 'was', 'wasn', \"wasn't\", 'we', \"we'd\", \"we'll\", \"we're\", 'were', 'weren', \"weren't\", \"we've\", 'what', 'when', 'where', 'which', 'while', 'who', 'whom', 'why', 'will', 'with', 'won', \"won't\", 'wouldn', \"wouldn't\", 'y', 'you', \"you'd\", \"you'll\", 'your', \"you're\", 'yours', 'yourself', 'yourselves', \"you've\"]\n",
            "198\n"
          ]
        },
        {
          "output_type": "stream",
          "name": "stderr",
          "text": [
            "[nltk_data] Downloading package stopwords to /root/nltk_data...\n",
            "[nltk_data]   Package stopwords is already up-to-date!\n"
          ]
        }
      ]
    },
    {
      "cell_type": "code",
      "source": [
        "#To list available languages like:\n",
        "print(stopwords.fileids())"
      ],
      "metadata": {
        "colab": {
          "base_uri": "https://localhost:8080/"
        },
        "id": "hJbvMKfgGjRX",
        "outputId": "76e1667b-b440-4e95-9e3a-f4f0501061e8"
      },
      "execution_count": null,
      "outputs": [
        {
          "output_type": "stream",
          "name": "stdout",
          "text": [
            "['albanian', 'arabic', 'azerbaijani', 'basque', 'belarusian', 'bengali', 'catalan', 'chinese', 'danish', 'dutch', 'english', 'finnish', 'french', 'german', 'greek', 'hebrew', 'hinglish', 'hungarian', 'indonesian', 'italian', 'kazakh', 'nepali', 'norwegian', 'portuguese', 'romanian', 'russian', 'slovene', 'spanish', 'swedish', 'tajik', 'tamil', 'turkish']\n"
          ]
        }
      ]
    },
    {
      "cell_type": "code",
      "source": [
        "# filtered\n",
        "print([word for word in word_tokenize(para) if word.lower() not in stopwords.words('english') and word not in string.punctuation])"
      ],
      "metadata": {
        "colab": {
          "base_uri": "https://localhost:8080/"
        },
        "id": "zZuVBar7HG7d",
        "outputId": "ecd53dd6-b939-4cad-8fde-50de7b53a1c0"
      },
      "execution_count": null,
      "outputs": [
        {
          "output_type": "stream",
          "name": "stdout",
          "text": [
            "['Hello', 'today', 'implementing', 'tokenization', 'NLP', 'done', 'using', 'NLTK']\n"
          ]
        }
      ]
    },
    {
      "cell_type": "markdown",
      "source": [
        "### **Session 71 - (26 June)**"
      ],
      "metadata": {
        "id": "2dsUXDmX0OjM"
      }
    },
    {
      "cell_type": "code",
      "source": [
        "news = \"\"\"Defence Minister Rajnath Singh on Thursday has reportedly refused to sign the joint statement of the\n",
        "Shanghai Cooperation Organisation (SCO). As per reports, the defence minister refused to dot India's name on the\n",
        "document due to its failure to address India's concern regarding cross-border terrorism.\"\"\""
      ],
      "metadata": {
        "id": "5LlMUD8mHlS8"
      },
      "execution_count": null,
      "outputs": []
    },
    {
      "cell_type": "code",
      "source": [
        "words = word_tokenize(news)"
      ],
      "metadata": {
        "id": "Hb2cc2n_0RDP"
      },
      "execution_count": null,
      "outputs": []
    },
    {
      "cell_type": "code",
      "source": [
        "for w in words:\n",
        "  if w not in stopwords.words('english'):\n",
        "    print(w,end=' ')\n",
        "    time.sleep(0.5)"
      ],
      "metadata": {
        "colab": {
          "base_uri": "https://localhost:8080/"
        },
        "id": "ifdhnSgVpFaA",
        "outputId": "9b516298-bed1-425d-8f42-6e1d4cb1ecba"
      },
      "execution_count": null,
      "outputs": [
        {
          "output_type": "stream",
          "name": "stdout",
          "text": [
            "Defence Minister Rajnath Singh "
          ]
        }
      ]
    },
    {
      "cell_type": "code",
      "source": [
        "' '.join([w for w in words if w not in stopwords.words('english')])"
      ],
      "metadata": {
        "id": "3_nIfxzypcFJ"
      },
      "execution_count": null,
      "outputs": []
    },
    {
      "cell_type": "markdown",
      "source": [
        "##### **Stemming**"
      ],
      "metadata": {
        "id": "zDaY1dhxskRp"
      }
    },
    {
      "cell_type": "code",
      "source": [
        "# Stemming\n",
        "import nltk\n",
        "from nltk.stem import PorterStemmer, SnowballStemmer, LancasterStemmer"
      ],
      "metadata": {
        "id": "ghnxVsXcqf9o"
      },
      "execution_count": null,
      "outputs": []
    },
    {
      "cell_type": "code",
      "source": [
        "ps= PorterStemmer()  #One of the oldest and most common stemmers.Conservative: trims suffixes but preserves meaning better.\n",
        "ss=SnowballStemmer(language = \"english\") # More modern, multilingual, and slightly more aggressive than Porter. Often preferred over Porter for non-English or consistent stemming.\n",
        "ls=LancasterStemmer() #Very aggressive. May cut too much and produce root forms that aren't real words."
      ],
      "metadata": {
        "id": "pHofwlBOqzlN"
      },
      "execution_count": null,
      "outputs": []
    },
    {
      "cell_type": "code",
      "source": [
        "ps.stem(\"running\")  # Output: run\n",
        "ps.stem(\"studies\")  # Output: studi\n",
        "ps.stem(\"happiness\")  # Output: happi\n",
        "ps.stem(\"maximum\")  # Output: maximum\n",
        "ps.stem(\"writing\") # write\n",
        "\n",
        "ss.stem(\"running\")  # Output: run\n",
        "ss.stem(\"studies\")  # Output: happi\n",
        "ss.stem(\"happiness\")  # Output: happy\n",
        "ss.stem(\"maximum\")  # Output: maximum\n",
        "ss.stem(\"writing\") # write\n",
        "\n",
        "ls.stem(\"running\")  # Output: run\n",
        "ls.stem(\"studies\")  # Output: study\n",
        "ls.stem(\"happiness\")  # Output: happy\n",
        "ls.stem(\"maximum\")  # Output: maxim\n",
        "ls.stem(\"writing\") # writ\n",
        "\n",
        "# Each stemmer is useful in different contexts:\n",
        "  # Use Porter for general English.\n",
        "  # Use Snowball for multilingual or slightly better balance.\n",
        "  # Use Lancaster when you need shorter roots but can tolerate distortion."
      ],
      "metadata": {
        "id": "HjwkwGd62zBl"
      },
      "execution_count": null,
      "outputs": []
    },
    {
      "cell_type": "code",
      "source": [
        "print(ps.stem(\"writing\"))\n",
        "print(ss.stem(\"writing\"))\n",
        "print(ls.stem(\"writing\"))"
      ],
      "metadata": {
        "id": "V2L2etbbq-Ci"
      },
      "execution_count": null,
      "outputs": []
    },
    {
      "cell_type": "code",
      "source": [
        "inflected_words = [\"code\", \"coder\", \"coding\", \"coders\", \"codings\", \"change\", \"changes\", \"changing\", \"changed\",\n",
        "                   \"trouble\", \"troubled\",\"troubling\", \"troubles\", \"university\", \"universities\",\"universe\", \"universal\", \"run\",\n",
        "                   \"ran\", \"running\", \"runs\", \"writer\", \"write\", \"writers\", \"writes\", \"writing\"]\n",
        "print([ps.stem(i) for i in inflected_words])\n",
        "print([ss.stem(i) for i in inflected_words])\n",
        "print([ls.stem(i) for i in inflected_words])"
      ],
      "metadata": {
        "id": "zc9WOlCirWsS"
      },
      "execution_count": null,
      "outputs": []
    },
    {
      "cell_type": "code",
      "source": [
        "# for  word in inflected_words:\n",
        "#   p = ps.stem(word)\n",
        "#   s = ss.stem(word)\n",
        "#   l = ls.stem(word)\n",
        "#   print(word,\"===>\",p,\"===>\",s,\"===>\", l)"
      ],
      "metadata": {
        "id": "CUAP-N6VsHYp"
      },
      "execution_count": null,
      "outputs": []
    },
    {
      "cell_type": "markdown",
      "source": [
        "##### **Lemmatization**\n",
        "- Lemmatization is a NLP technique used to reduce words to their base or dictionary form, known as a lemma.\n",
        "- Unlike stemming, which often chops off word endings without understanding context, lemmatization uses vocabulary and grammar rules to return real words.\n",
        "- Lemmatizers consider the part of speech (POS) to determine the correct lemma. For example:\n",
        "  - running as a verb → run\n",
        "  - running as a noun (e.g., \"the running was fun\") → remains running"
      ],
      "metadata": {
        "id": "kZIU1GztuSIq"
      }
    },
    {
      "cell_type": "code",
      "source": [
        "import nltk\n",
        "nltk.download('wordnet')\n",
        "lemma = nltk.WordNetLemmatizer()"
      ],
      "metadata": {
        "id": "9VmHvSj8sbBm"
      },
      "execution_count": null,
      "outputs": []
    },
    {
      "cell_type": "code",
      "source": [
        "lemma.lemmatize(\"writing\")\n",
        "# running\trun\n",
        "# better\tgood\n",
        "# studies\tstudy\n",
        "# was\tbe"
      ],
      "metadata": {
        "id": "u3naoFZMsyg-"
      },
      "execution_count": null,
      "outputs": []
    },
    {
      "cell_type": "code",
      "source": [
        "inflected_words = [\"code\", \"coder\", \"coding\", \"coders\", \"codings\", \"change\", \"changes\", \"changing\", \"changed\",\n",
        "                   \"trouble\", \"troubled\",\"troubling\", \"troubles\", \"university\", \"universities\",\"universe\", \"universal\", \"run\",\n",
        "                   \"ran\", \"running\", \"runs\", \"writer\", \"write\", \"writers\", \"writes\", \"writing\"]\n",
        "print([lemma.lemmatize(i) for i in inflected_words])"
      ],
      "metadata": {
        "id": "okM3Oib_s86w"
      },
      "execution_count": null,
      "outputs": []
    },
    {
      "cell_type": "code",
      "source": [
        "# for w in inflected_words:\n",
        "#   res = lemma.lemmatize(w)\n",
        "#   print(w,\" ===> \",res)"
      ],
      "metadata": {
        "id": "_HzXsvYFszB2"
      },
      "execution_count": null,
      "outputs": []
    },
    {
      "cell_type": "code",
      "source": [
        "from nltk.stem import WordNetLemmatizer  # The main lemmatizer class in NLTK.\n",
        "nltk.download('averaged_perceptron_tagger_eng')\n",
        "from nltk.corpus import wordnet  # provides part-of-speech (POS) constants (like wordnet.NOUN).\n",
        "from nltk import pos_tag, word_tokenize  # pos_tag tags each word in a sentence with its part of speech (e.g., noun, verb)\n",
        "\n",
        "lemmatizer = WordNetLemmatizer()  # Creates an instance of the lemmatizer.\n",
        "\n",
        "def get_wordnet_pos(word):\n",
        "    \"\"\"Map POS tag to first character for WordNetLemmatizer.\"\"\"\n",
        "    tag = pos_tag([word])[0][1][0].upper()\n",
        "    tag_dict = {'J': wordnet.ADJ,\n",
        "                'N': wordnet.NOUN,\n",
        "                'V': wordnet.VERB,\n",
        "                'R': wordnet.ADV}\n",
        "    return tag_dict.get(tag, wordnet.NOUN)\n",
        "\n",
        "word = \"writing\"\n",
        "lemmatized_word = lemmatizer.lemmatize(word, get_wordnet_pos(word))\n",
        "print(lemmatized_word)  # Output: run\n"
      ],
      "metadata": {
        "id": "lan9VvOws2wS"
      },
      "execution_count": null,
      "outputs": []
    },
    {
      "cell_type": "code",
      "source": [
        "news = \"\"\"Defence Minister Rajnath Singh on Thursday has reportedly refused to sign the joint statement of the\n",
        "Shanghai Cooperation Organisation (SCO). 123456 As per reports, the defence minister refused to dot India's name on the\n",
        "document due to its failure to address India's concern regarding cross-border terrorism.\"\"\""
      ],
      "metadata": {
        "id": "TLKfKsomvd1j"
      },
      "execution_count": null,
      "outputs": []
    },
    {
      "cell_type": "code",
      "source": [
        "import string\n",
        "import re\n",
        "''.join([i for i in news if  i not in string.punctuation])"
      ],
      "metadata": {
        "id": "S1fV3EeJwX8E"
      },
      "execution_count": null,
      "outputs": []
    },
    {
      "cell_type": "code",
      "source": [
        "# string.punctuation  #-> Contains all punctuation characters:  !\"#$%&'()*+,-./:;<=>?@[\\]^_`{|}~. Used to remove punctuation during text cleaning.\n",
        "# re  #Python's built-in module for pattern matching and text manipulation. Common use: remove unwanted patterns like extra spaces, special characters, digits.\n",
        "# Tokenizations # Splits text into smaller units: words (word tokenization) or sentences (sentence tokenization).\n",
        "# Stopswords removal -> Stopwords are common words (e.g., “the”, “is”, “and”) that usually carry less meaning.\n",
        "# Stemming  -> Reduces words to their root form, which may not always be a valid word.\n",
        "# lemmatization -> Similar to stemming, but returns the dictionary base form (lemma) and uses POS tagging."
      ],
      "metadata": {
        "id": "pPnubO7ZwZ3D"
      },
      "execution_count": null,
      "outputs": []
    },
    {
      "cell_type": "markdown",
      "source": [
        "| Feature              | `stopwords`                          | `string.punctuation`                  | `re` (Regular Expressions)                |                                            |\n",
        "| -------------------- | ------------------------------------ | ------------------------------------- | ----------------------------------------- | ------------------------------------------ |\n",
        "| **Module**           | `nltk.corpus.stopwords`              | Python `string` module                | Python `re` module                        |                                            |\n",
        "| **Purpose**          | Remove common, low-value words       | Remove punctuation/special characters | Remove or match patterns (flexible)       |                                            |\n",
        "| **Example Elements** | \"the\", \"is\", \"and\", \"in\", \"at\"       | `!\"#$%&'()*+,-./:;<=>?@[\\]^_`{        | }\\~\\`                                     | Any text pattern (e.g., `\\d+`, `[A-Za-z]`) |\n",
        "| **Use Case**         | Text simplification, keyword focus   | Cleaning symbols from text            | Cleaning, pattern matching, substitutions |                                            |\n",
        "| **Customizable?**    | Yes (you can add/remove words)       | No (fixed punctuation list)           | Yes (very flexible patterns)              |                                            |\n",
        "| **Example Code**     | `word in stopwords.words('english')` | `if char in string.punctuation`       | `re.sub(r'\\d+', '', text)`                |                                            |\n",
        "| **Returns**          | List of stop words                   | String of punctuation characters      | Modified string or match object           |                                            |\n",
        "\n",
        "-----------------------\n",
        "\n",
        "| Feature | **Stemming**                                | **Lemmatization**                                 |\n",
        "| ------- | ------------------------------------------- | ------------------------------------------------- |\n",
        "| Purpose | Reduces words to **root forms** by trimming | Reduces words to **dictionary base form** (lemma) |\n",
        "| Output  | May not be a real word                      | Always produces a valid word                      |\n",
        "| Method  | Rule-based, mechanical                      | Rule-based **+ vocabulary + grammar (POS)**       |\n",
        "\n",
        "| Scenario                                                   | Choose                                                |\n",
        "| ---------------------------------------------------------- | ----------------------------------------------------- |\n",
        "| Speed-sensitive pipeline                                   | Stemming                                              |\n",
        "| Meaning-preserving NLP task (like QA, chatbots, sentiment) | Lemmatization                                         |\n",
        "| Indexing/search engines                                    | Stemming (e.g., \"run\", \"runs\", \"running\" all → \"run\") |\n",
        "\n",
        "| Word             | **PorterStemmer** | **SnowballStemmer** | **LancasterStemmer** | **Lemmatization** |\n",
        "| ---------------- | ----------------- | ------------------- | -------------------- | ----------------- |\n",
        "| **running**      | run               | run                 | run                  | run               |\n",
        "| **studies**      | studi             | studi               | study                | study             |\n",
        "| **flies**        | fli               | fli                 | fly                  | fly               |\n",
        "| **happily**      | happili           | happili             | happy                | happily           |\n",
        "| **better**       | better            | better              | bet                  | good *(adj)*      |\n",
        "| **caring**       | care              | care                | car                  | care              |\n",
        "| **maximum**      | maximum           | maximum             | maxim                | maximum           |\n",
        "| **organization** | organ             | organ               | organ                | organization      |\n",
        "| **was**          | wa                | wa                  | was                  | be *(verb)*       |\n",
        "| **children**     | children          | children            | child                | child             |\n",
        "\n"
      ],
      "metadata": {
        "id": "yuEIBCzP4rEN"
      }
    },
    {
      "cell_type": "code",
      "source": [
        "import nltk\n",
        "from nltk.tokenize import word_tokenize, sent_tokenize\n",
        "\n",
        "from nltk.corpus import stopwords\n",
        "nltk.download('stopwords')\n",
        "# print(stopwords.words('english'))\n",
        "\n",
        "from nltk.stem import PorterStemmer, WordNetLemmatizer, LancasterStemmer\n",
        "ps= PorterStemmer()\n",
        "ss=SnowballStemmer(language = \"english\")\n",
        "ls=LancasterStemmer()\n",
        "\n",
        "nltk.download('wordnet')\n",
        "lemma = nltk.WordNetLemmatizer()\n",
        "\n"
      ],
      "metadata": {
        "id": "34M3ObBRxoo8"
      },
      "execution_count": null,
      "outputs": []
    },
    {
      "cell_type": "code",
      "source": [
        "' '.join([lemma.lemmatize(ps.stem(i)) for i in word_tokenize (news) if i not in stopwords.words('english') and i not in string.punctuation])\n",
        "# ' '.join([ps.stem(i) for i in word_tokenize (news) if i not in stopwords.words('english') and i not in string.punctuation])"
      ],
      "metadata": {
        "id": "70rs9TWgx0zJ"
      },
      "execution_count": null,
      "outputs": []
    },
    {
      "cell_type": "code",
      "source": [
        "' '.join([lemma.lemmatize(i) for i in word_tokenize (news) if i not in stopwords.words('english') and i not in string.punctuation])"
      ],
      "metadata": {
        "id": "zBgFR7FBy09e"
      },
      "execution_count": null,
      "outputs": []
    },
    {
      "cell_type": "code",
      "source": [
        "# full pipeline example\n",
        "import nltk\n",
        "import string\n",
        "import re\n",
        "\n",
        "from nltk.corpus import stopwords, wordnet\n",
        "from nltk.stem import PorterStemmer, WordNetLemmatizer\n",
        "from nltk.tokenize import word_tokenize\n",
        "from nltk import pos_tag\n",
        "\n",
        "# Download required resources (only once)\n",
        "nltk.download('punkt')\n",
        "nltk.download('stopwords')\n",
        "nltk.download('wordnet')\n",
        "nltk.download('averaged_perceptron_tagger')\n",
        "\n",
        "# Input text\n",
        "text = \"Running faster than the wind, she was better at it than anyone!\"\n",
        "\n",
        "# Step 1: Lowercasing\n",
        "text = text.lower()\n",
        "\n",
        "# Step 2: Remove punctuation using regex\n",
        "text = re.sub(f\"[{re.escape(string.punctuation)}]\", \"\", text)\n",
        "\n",
        "# Step 3: Tokenization\n",
        "tokens = word_tokenize(text)\n",
        "\n",
        "# Step 4: Stopword removal\n",
        "stop_words = set(stopwords.words(\"english\"))\n",
        "filtered_tokens = [w for w in tokens if w not in stop_words]\n",
        "\n",
        "# Step 5: Stemming\n",
        "stemmer = PorterStemmer()\n",
        "stemmed = [stemmer.stem(w) for w in filtered_tokens]\n",
        "\n",
        "# Step 6: Lemmatization with POS\n",
        "lemmatizer = WordNetLemmatizer()\n",
        "\n",
        "def get_wordnet_pos(word):\n",
        "    tag = pos_tag([word])[0][1][0].upper()\n",
        "    pos_dict = {'J': wordnet.ADJ, 'N': wordnet.NOUN,\n",
        "                'V': wordnet.VERB, 'R': wordnet.ADV}\n",
        "    return pos_dict.get(tag, wordnet.NOUN)\n",
        "\n",
        "lemmatized = [lemmatizer.lemmatize(w, get_wordnet_pos(w)) for w in filtered_tokens]\n",
        "\n",
        "# Output\n",
        "print(\"Original Tokens:\", tokens)\n",
        "print(\"After Stopword Removal:\", filtered_tokens)\n",
        "print(\"After Stemming:\", stemmed)\n",
        "print(\"After Lemmatization:\", lemmatized)\n"
      ],
      "metadata": {
        "id": "nL_26o_e0CvK"
      },
      "execution_count": null,
      "outputs": []
    },
    {
      "cell_type": "markdown",
      "source": [
        "### **Session 72- NLP Pipeline - (27 June)**"
      ],
      "metadata": {
        "id": "EzWmjFJ47zp3"
      }
    },
    {
      "cell_type": "code",
      "source": [
        "import pandas as pd\n",
        "import numpy as np\n",
        "import re\n",
        "df = pd.read_csv(\"/content/IMDB.csv\", on_bad_lines='skip')\n",
        "df.head(3)"
      ],
      "metadata": {
        "id": "Y4RPvyU61OvH"
      },
      "execution_count": null,
      "outputs": []
    },
    {
      "cell_type": "code",
      "source": [
        "df1 = df.sample(10000)\n",
        "df1[\"sentiment\"].value_counts()"
      ],
      "metadata": {
        "id": "_PuiOL-P-Wqm"
      },
      "execution_count": null,
      "outputs": []
    },
    {
      "cell_type": "code",
      "source": [
        "df1.reset_index(inplace = True)"
      ],
      "metadata": {
        "id": "KXIQSzAf-l3H"
      },
      "execution_count": null,
      "outputs": []
    },
    {
      "cell_type": "code",
      "source": [
        "df1.head(2)"
      ],
      "metadata": {
        "id": "TfTXRAVZ-xQC"
      },
      "execution_count": null,
      "outputs": []
    },
    {
      "cell_type": "code",
      "source": [
        "df1.drop(\"index\", axis = 1, inplace=True)"
      ],
      "metadata": {
        "id": "G-7GXHXX-1XW"
      },
      "execution_count": null,
      "outputs": []
    },
    {
      "cell_type": "code",
      "source": [
        "df1.review.head(3)"
      ],
      "metadata": {
        "id": "ERr50LKT_API"
      },
      "execution_count": null,
      "outputs": []
    },
    {
      "cell_type": "code",
      "source": [
        "# df1[\"review\"].map(lambda x : x.upper())\n",
        "# df1[\"review\"].map(lambda x : x.lower())\n",
        "\n",
        "df1[\"Result\"] = df1[\"review\"].map(lambda x : x.lower())\n",
        "\n",
        "# df1[\"Result\"].map(lambda x :  re.findall(\"<.*?>\", x))\n",
        "# df1[\"Result\"].map(lambda x :  len(x))   # length before\n",
        "# df1[\"Result\"].map(lambda x :  re.sub(\"<.*?>\",\"\", x))\n",
        "\n",
        "df1[\"Result\"] = df1[\"Result\"].map(lambda x :  re.sub(\"<.*?>\",\"\", x))\n",
        "\n",
        "# df1[\"Result\"].map(lambda x :  len(x))  #length after"
      ],
      "metadata": {
        "id": "97QpFPlM-5Kp"
      },
      "execution_count": null,
      "outputs": []
    },
    {
      "cell_type": "code",
      "source": [
        "import string\n",
        "from string import punctuation\n",
        "punc = punctuation"
      ],
      "metadata": {
        "id": "57QDYRQ8--tU"
      },
      "execution_count": null,
      "outputs": []
    },
    {
      "cell_type": "code",
      "source": [
        "df1[\"Result\"][0]"
      ],
      "metadata": {
        "id": "u5GV44Tp_r7W"
      },
      "execution_count": null,
      "outputs": []
    },
    {
      "cell_type": "code",
      "source": [
        "\"\".join( [ c   for c in df1[\"Result\"][0] if c not in punc] )"
      ],
      "metadata": {
        "id": "tCkBk2VBCD4U"
      },
      "execution_count": null,
      "outputs": []
    },
    {
      "cell_type": "code",
      "source": [
        "len(df1[\"Result\"][0])"
      ],
      "metadata": {
        "id": "DQWDpCSWCGRz"
      },
      "execution_count": null,
      "outputs": []
    },
    {
      "cell_type": "code",
      "source": [
        "len(\"\".join( [ c   for c in df1[\"Result\"][0] if c not in punc] ))"
      ],
      "metadata": {
        "id": "LlbjNulmCK6Q"
      },
      "execution_count": null,
      "outputs": []
    },
    {
      "cell_type": "code",
      "source": [
        "# df1[\"Result\"].map(lambda x : [ c   for c in x  if c not in punc] )\n",
        "# df1[\"Result\"].map(lambda x : \"\".join([ c   for c in x  if c not in punc]))\n",
        "df1[\"Result\"] = df1[\"Result\"].map(lambda x : \"\".join([ c   for c in x  if c not in punc]))"
      ],
      "metadata": {
        "id": "MalVetTzCN5D"
      },
      "execution_count": null,
      "outputs": []
    },
    {
      "cell_type": "code",
      "source": [
        "df1.head()\n",
        "df1.drop(\"review\", axis = 1, inplace = True)"
      ],
      "metadata": {
        "id": "OuJGTVJDCRpt"
      },
      "execution_count": null,
      "outputs": []
    },
    {
      "cell_type": "code",
      "source": [
        "df1.columns\n",
        "df1.columns = ['sentiment', 'Review']"
      ],
      "metadata": {
        "id": "Ul4BloTbCkwL"
      },
      "execution_count": null,
      "outputs": []
    },
    {
      "cell_type": "code",
      "source": [
        "df1[\"Review\"]"
      ],
      "metadata": {
        "id": "QwIsoKo7Ct0G"
      },
      "execution_count": null,
      "outputs": []
    },
    {
      "cell_type": "code",
      "source": [
        "# Tokenize\n",
        "import nltk\n",
        "nltk.download('punkt_tab')\n",
        "from nltk.tokenize import word_tokenize\n",
        "\n",
        "df1[\"Review\"][0]"
      ],
      "metadata": {
        "id": "2T-sYbZzCvvw"
      },
      "execution_count": null,
      "outputs": []
    },
    {
      "cell_type": "code",
      "source": [
        "# word_tokenize(df1[\"Review\"][0])\n",
        "# df1[\"Review\"].map(lambda x : word_tokenize(x) )\n",
        "df1[\"Tokens\"] = df1[\"Review\"].map(lambda x : word_tokenize(x) )\n",
        "df1.head(3)"
      ],
      "metadata": {
        "id": "NygqhamAC2X0"
      },
      "execution_count": null,
      "outputs": []
    },
    {
      "cell_type": "code",
      "source": [
        "# Stopwords\n",
        "import nltk\n",
        "from nltk.corpus import stopwords\n",
        "nltk.download(\"stopwords\")\n",
        "sw_eng = stopwords.words(\"english\")\n",
        "df1.head()"
      ],
      "metadata": {
        "id": "ZGV3OXoNC4qp"
      },
      "execution_count": null,
      "outputs": []
    },
    {
      "cell_type": "code",
      "source": [
        "#tokens\n",
        "# df1[\"Tokens\"][0]\n",
        "# len(df1[\"Tokens\"][0])\n",
        "# [ w  for w in df1[\"Tokens\"][0] if w not in sw_eng]\n",
        "# len([ w  for w in df1[\"Tokens\"][0] if w not in sw_eng])\n",
        "# df1[\"Tokens\"].map( lambda x : [w    for w in x  if w not in sw_eng])\n",
        "\n",
        "df1[\"Tokens\"] = df1[\"Tokens\"].map( lambda x : [w    for w in x  if w not in sw_eng])"
      ],
      "metadata": {
        "id": "1Ny1ZxvCDGVk"
      },
      "execution_count": null,
      "outputs": []
    },
    {
      "cell_type": "code",
      "source": [
        "# stemming\n",
        "from nltk.stem import PorterStemmer\n",
        "port_stem = PorterStemmer()\n",
        "# df1[\"Tokens\"].map(lambda x :  [port_stem.stem(w)  for w in x ])\n",
        "\n",
        "df1[\"Tokens\"] = df1[\"Tokens\"].map(lambda x :  \" \".join([port_stem.stem(w)  for w in x ]))"
      ],
      "metadata": {
        "id": "M2ixToI3DX8l"
      },
      "execution_count": null,
      "outputs": []
    },
    {
      "cell_type": "code",
      "source": [
        "df1.head(5)"
      ],
      "metadata": {
        "id": "QyOUUab-DvPC"
      },
      "execution_count": null,
      "outputs": []
    },
    {
      "cell_type": "markdown",
      "source": [
        "### **Session 73- Automate NLP Pipeline Process - (1st July)**"
      ],
      "metadata": {
        "id": "M3VYUPyGD_Uz"
      }
    },
    {
      "cell_type": "code",
      "source": [],
      "metadata": {
        "id": "TRjElM6AD37h"
      },
      "execution_count": null,
      "outputs": []
    },
    {
      "cell_type": "code",
      "source": [],
      "metadata": {
        "id": "1-6gnMweEWj-"
      },
      "execution_count": null,
      "outputs": []
    },
    {
      "cell_type": "code",
      "source": [],
      "metadata": {
        "id": "uHHUsCeVEWt9"
      },
      "execution_count": null,
      "outputs": []
    },
    {
      "cell_type": "code",
      "source": [],
      "metadata": {
        "id": "dqTo8uHCEW0S"
      },
      "execution_count": null,
      "outputs": []
    },
    {
      "cell_type": "markdown",
      "source": [
        "### **Session 74- NGrams- (2nd July)**"
      ],
      "metadata": {
        "id": "aB-Oodo9EYJw"
      }
    },
    {
      "cell_type": "code",
      "source": [
        "import nltk\n",
        "from nltk import ngrams\n",
        "sent = \"Data Scientist work on Machine Learning and Deep Learning\"\n",
        "sent.split()"
      ],
      "metadata": {
        "id": "BKOj3V0bEW9L"
      },
      "execution_count": null,
      "outputs": []
    },
    {
      "cell_type": "code",
      "source": [
        "#Unigram\n",
        "ngrams( sent.split(), 1)"
      ],
      "metadata": {
        "id": "uxHcddLPEsGw"
      },
      "execution_count": null,
      "outputs": []
    },
    {
      "cell_type": "code",
      "source": [
        "list(ngrams( sent.split(), 1))"
      ],
      "metadata": {
        "id": "pAky7b9qEvl9"
      },
      "execution_count": null,
      "outputs": []
    },
    {
      "cell_type": "code",
      "source": [
        "# Bigram\n",
        "ngrams(sent.split(),2)"
      ],
      "metadata": {
        "id": "brVMUZhjExs3"
      },
      "execution_count": null,
      "outputs": []
    },
    {
      "cell_type": "code",
      "source": [
        "list(ngrams(sent.split(),2))"
      ],
      "metadata": {
        "id": "Hs4O-IV7E2nM"
      },
      "execution_count": null,
      "outputs": []
    },
    {
      "cell_type": "code",
      "source": [
        "# Tri - Gram\n",
        "list( ngrams( sent.split(), 3) )"
      ],
      "metadata": {
        "id": "cuS0n8EOE7Dx"
      },
      "execution_count": null,
      "outputs": []
    },
    {
      "cell_type": "markdown",
      "source": [
        "### **Session 75- NER Recognition & POS Tagging- (3rd July)**"
      ],
      "metadata": {
        "id": "uSd_IxjTFDn9"
      }
    },
    {
      "cell_type": "markdown",
      "source": [
        "- POS (Part-of-Speech) tagging in NLP is the process of labeling each word in a sentence with its correct part of speech, such as noun, verb, adjective, etc., based on both its definition and context.\n",
        "- POS Tagging is a crucial step in NLP which helps model /\n",
        "system to understand grammatical structure and meaning\n",
        "of input sequence.\n",
        "- POS Tagging helps model with complete understanding\n",
        "of how words are related to each other.\n",
        "- POS Tagging helps the model with\n",
        "  - Understanding sequential structure of sentence.\n",
        "  - Remove ambiguity from the words (meaning)\n",
        "  - Extract Hidden context of the input sentence\n",
        "- POS Tagging is used\n",
        "  - Machine Translation\n",
        "  - Sentiment Analysis\n",
        "  - Information Retrieval\n",
        "  - Text Summarization"
      ],
      "metadata": {
        "id": "c6TOqi_NECBf"
      }
    },
    {
      "cell_type": "code",
      "source": [
        "import nltk\n",
        "# nltk.download('punkt_tab')\n",
        "# nltk.download('averaged_perceptron_tagger_eng')\n",
        "# nltk.download('tagsets_json')\n",
        "\n",
        "from nltk.help import brown_tagset\n",
        "from nltk.help import upenn_tagset\n",
        "\n",
        "from nltk.tokenize import word_tokenize, sent_tokenize\n",
        "sent = \"The black cat jumps over green gate\"\n",
        "tokens = word_tokenize(sent)   # ['The', 'black', 'cat', 'jumps', 'over', 'green', 'gate']\n",
        "tokens_pos= nltk.pos_tag(tokens)\n",
        "tokens_pos"
      ],
      "metadata": {
        "id": "NZnAZfVrE_Ox"
      },
      "execution_count": null,
      "outputs": []
    },
    {
      "cell_type": "code",
      "source": [
        "# upenn_tagset(\"DT\")\n",
        "# upenn_tagset(\"JJ\")\n",
        "# upenn_tagset(\"NN\")"
      ],
      "metadata": {
        "id": "Zy8M50rpFJW5"
      },
      "execution_count": null,
      "outputs": []
    },
    {
      "cell_type": "code",
      "source": [
        "# import time\n",
        "# for w , tag  in tokens_pos:\n",
        "#     print(w,\": ==>\", tag)\n",
        "#     res = upenn_tagset(tag)\n",
        "#     print(res)\n",
        "#     time.sleep(1)"
      ],
      "metadata": {
        "id": "Kh0XAaAKFPVQ"
      },
      "execution_count": null,
      "outputs": []
    },
    {
      "cell_type": "markdown",
      "source": [
        "**Named Entity Recognition**- NER is a very important technique in NLP which focus on identifying named entity within a sentence and segregate these entities into predefined categories.\n",
        "\n",
        "| Type    | Meaning                   | Example               |\n",
        "| ------- | ------------------------- | --------------------- |\n",
        "| PERSON  | Individual names          | Elon Musk             |\n",
        "| ORG     | Organizations/Companies   | Google, NASA          |\n",
        "| GPE     | Countries, cities, states | India, Paris, Texas   |\n",
        "| DATE    | Dates                     | July 11, 2025         |\n",
        "| TIME    | Time                      | 10:00 AM              |\n",
        "| MONEY   | Monetary values           | \\$100, ₹500           |\n",
        "| PERCENT | Percentages               | 20%                   |\n",
        "| PRODUCT | Products                  | iPhone, Tesla Model S |\n"
      ],
      "metadata": {
        "id": "b_miOZVmHx4A"
      }
    },
    {
      "cell_type": "code",
      "source": [
        "#  nltk.download('maxent_ne_chunker_tab')\n",
        "# nltk.download('words')\n",
        "# !pip install -qU svgling\n",
        "\n",
        "from nltk import ne_chunk\n",
        "from nltk import pos_tag\n",
        "text = \"Apple Inc. is looking to buy a startup in America for $200 millions\"\n",
        "tokens = word_tokenize(text)\n",
        "tag_tokens = pos_tag(tokens)\n",
        "tag_tokens"
      ],
      "metadata": {
        "id": "zELRB7lxFf6V"
      },
      "execution_count": null,
      "outputs": []
    },
    {
      "cell_type": "code",
      "source": [
        "ner = ne_chunk(tag_tokens)\n",
        "ner"
      ],
      "metadata": {
        "id": "qvp3S7KLGHjo"
      },
      "execution_count": null,
      "outputs": []
    },
    {
      "cell_type": "code",
      "source": [
        "sent = \"Elon Musk is CEO of Tesla Inc. Located in America\"\n",
        "ne_chunk(pos_tag(word_tokenize(sent)))"
      ],
      "metadata": {
        "id": "-utYQeWiGcp0"
      },
      "execution_count": null,
      "outputs": []
    },
    {
      "cell_type": "markdown",
      "source": [
        "### **Session 76- BoW- (4th July)**"
      ],
      "metadata": {
        "id": "LQAU9wMLISHI"
      }
    },
    {
      "cell_type": "markdown",
      "source": [
        "- Bag of Words (BoW) is a simple and widely used text representation technique in NLP. It converts text into a numerical format so that machine learning algorithms can understand and work with it.\n",
        "\n",
        "- Vectorization in NLP refers to the process of converting textual data (words or documents) into numerical representations (vectors) so that machine learning models can process and learn from them.\n",
        "\n",
        "| Technique                  | Description                                                                                                                  | Example                                                                |\n",
        "| -------------------------- | ---------------------------------------------------------------------------------------------------------------------------- | ---------------------------------------------------------------------- |\n",
        "| **Bag of Words (BoW)**     | Counts the frequency of each word in the document.                                                                           | `[\"dog barks\", \"cat meows\"]` → `{dog:1, barks:1, cat:1, meows:1}`      |\n",
        "| **TF-IDF**                 | Adjusts word frequency by how rare a word is across all documents. Helps reduce the weight of common words like \"the\", \"is\". | Term Frequency × Inverse Document Frequency                            |\n",
        "| **One-Hot Encoding**       | Each word is represented by a binary vector with 1 at its index.                                                             | `[\"apple\", \"banana\", \"grape\"]` → apple = `[1,0,0]`, banana = `[0,1,0]` |\n",
        "| **Word Embeddings**        | Pre-trained vectors capturing word semantics. Words with similar meanings have similar vectors.                              | Word2Vec, GloVe, FastText                                              |\n",
        "| **Transformer Embeddings** | Context-aware vectors for words based on sentence structure.                                                                 | BERT, RoBERTa, GPT embeddings                                          |\n",
        "\n",
        "\n",
        "- Example: Suppose you have these 2 sentences:\n",
        "    - I love NLP\n",
        "    - I love machine learning\n",
        "    - Vocabulary (unique words): [I, love, NLP, machine, learning]\n",
        "\n",
        "Now, represent each sentence as a vector of word counts:\n",
        "\n",
        "| Sentence                  | I | love | NLP | machine | learning |\n",
        "| ------------------------- | - | ---- | --- | ------- | -------- |\n",
        "| `I love NLP`              | 1 | 1    | 1   | 0       | 0        |\n",
        "| `I love machine learning` | 1 | 1    | 0   | 1       | 1        |\n",
        "\n",
        "- compare BoW with Word2Vec, TF-IDF, or Transformer-based embeddings like BERT."
      ],
      "metadata": {
        "id": "_v6XbhSaM4WW"
      }
    },
    {
      "cell_type": "code",
      "source": [
        "import pandas as pd\n",
        "from sklearn.feature_extraction.text import CountVectorizer\n",
        "\n",
        "cvec = CountVectorizer()  # lower case,\n",
        "cvec"
      ],
      "metadata": {
        "id": "avl4v7pvG4OX"
      },
      "execution_count": null,
      "outputs": []
    },
    {
      "cell_type": "code",
      "source": [
        "sent = [ \"Tall brown Dog is playing in brown Green Fields\",\n",
        "         \"White Rabbit eating green Grass near rabbit cage\",\n",
        "          \"Brown Dog chase white rabbit\",\n",
        "          \"White Rabbit escaped into Green Gate.\"]\n",
        "cvec.fit(sent)"
      ],
      "metadata": {
        "id": "7pseIB-WMMFF"
      },
      "execution_count": null,
      "outputs": []
    },
    {
      "cell_type": "code",
      "source": [
        "cvec.get_feature_names_out()"
      ],
      "metadata": {
        "id": "v3XWXyKpMVC4"
      },
      "execution_count": null,
      "outputs": []
    },
    {
      "cell_type": "code",
      "source": [
        "cvec.vocabulary_"
      ],
      "metadata": {
        "id": "Vk9ZUnhjMcDK"
      },
      "execution_count": null,
      "outputs": []
    },
    {
      "cell_type": "code",
      "source": [
        "cvec.transform(sent)"
      ],
      "metadata": {
        "id": "ZwLNYX0aMgQj"
      },
      "execution_count": null,
      "outputs": []
    },
    {
      "cell_type": "code",
      "source": [
        "ary=cvec.transform(sent).toarray()\n",
        "ary"
      ],
      "metadata": {
        "id": "h4bbRKmjMilE"
      },
      "execution_count": null,
      "outputs": []
    },
    {
      "cell_type": "code",
      "source": [
        "pd.DataFrame(ary , columns = ['brown', 'cage', 'chase', 'dog', 'eating', 'escaped', 'fields',\n",
        "       'gate', 'grass', 'green', 'in', 'into', 'is', 'near', 'playing',\n",
        "       'rabbit', 'tall', 'white'] )"
      ],
      "metadata": {
        "id": "XQKCqRnmMmFJ"
      },
      "execution_count": null,
      "outputs": []
    },
    {
      "cell_type": "code",
      "source": [
        "from sklearn.feature_extraction.text import CountVectorizer\n",
        "docs = [\"I love NLP nlp machine\", \"I love machine learning\"]\n",
        "vectorizer = CountVectorizer()\n",
        "X = vectorizer.fit_transform(docs)\n",
        "pd.DataFrame(X.toarray() , columns = vectorizer.get_feature_names_out() )"
      ],
      "metadata": {
        "id": "pBqbWZvgMoDM"
      },
      "execution_count": null,
      "outputs": []
    },
    {
      "cell_type": "code",
      "source": [],
      "metadata": {
        "id": "74evn1U9CF0_"
      },
      "execution_count": null,
      "outputs": []
    },
    {
      "cell_type": "markdown",
      "source": [
        "### **Session 77- TF-IDF- (7th July)**"
      ],
      "metadata": {
        "id": "GA6ASAIOOGpF"
      }
    },
    {
      "cell_type": "markdown",
      "source": [
        "- This is another popular technique used for vectorization in\n",
        "NLP.\n",
        "- It is a statistical measure which is used in NLP to extract\n",
        "information from the sequence data (information retrieval)\n",
        "to evaluate the importance of each word in a document\n",
        "with the collection of documents (corpus).\n",
        "\n",
        "- TF ==> Term Frequency\n",
        "  - This measures how frequently a term / word appears in a specific document.\n",
        "  - More number of times a particular document appears , that word is highly\n",
        "weighted as important word in that particular document\n",
        "- IDF ==> Inverse Document Frequency\n",
        "  - This measures how rarely or commonly a term / word appears across entire corpus\n",
        "  - Word that appears more number of times across all documents is considered as least important / prioritize\n",
        "  - Word that appears less number of times across all documents (corpus) is considered as highly prioritize .\n",
        "- TF = how important a word is within a document\n",
        "- IDF = how unique that word is across all documents (corpus)\n",
        "\n",
        "| Term                       | High TF | High IDF | Importance |\n",
        "| -------------------------- | ------- | -------- | ---------- |\n",
        "| Common word (e.g. \"the\")   | ✅       | ❌        | Low        |\n",
        "| Rare word (e.g. \"quantum\") | ✅       | ✅        | High       |\n"
      ],
      "metadata": {
        "id": "mnCmbVC2PIt3"
      }
    },
    {
      "cell_type": "markdown",
      "source": [
        "Example corpus\n",
        "\n",
        "| Document | Content                   |\n",
        "| -------- | ------------------------- |\n",
        "| Doc1     | \"I love NLP\"              |\n",
        "| Doc2     | \"I love machine learning\" |\n",
        "\n",
        "- Step 1\n",
        "  - vocabulary- [I, love, NLP, machine, learning]\n",
        "- Step 2- Term Frequency (TF) = (Number of times a particular word appears in entire document) / (Total words in that document)\n",
        "\n",
        "| Word     | TF in Doc1  | TF in Doc2 |\n",
        "| -------- | ----------- | ---------- |\n",
        "| I        | 1/3 = 0.333 | 1/4 = 0.25 |\n",
        "| love     | 1/3 = 0.333 | 1/4 = 0.25 |\n",
        "| NLP      | 1/3 = 0.333 | 0          |\n",
        "| machine  | 0           | 1/4 = 0.25 |\n",
        "| learning | 0           | 1/4 = 0.25 |\n",
        "\n",
        "- Step 3: Inverse Document Frequency (IDF)= log(Total Docs in corpus  / (1 + Number of Docs containing word))\n",
        "(Total Docs = 2)\n",
        "\n",
        "| Word     | Docs Appeared In | IDF                           |\n",
        "| -------- | ---------------- | ----------------------------- |\n",
        "| I        | 2                | log(2 / (1+2)) = log(2/3)     |\n",
        "| love     | 2                | log(2 / (1+2)) = log(2/3)     |\n",
        "| NLP      | 1                | log(2 / (1+1)) = log(2/2) = 0 |\n",
        "| machine  | 1                | log(2 / (1+1)) = 0            |\n",
        "| learning | 1                | log(2 / (1+1)) = 0            |\n",
        "\n",
        " Often we use log base e or 10 and smooth the denominator with +1.\n",
        "\n",
        "- Step 4: TF × IDF- Multiply TF and IDF for each word per document:\n",
        "\n",
        "| Word     | TF-IDF Doc1        | TF-IDF Doc2     |\n",
        "| -------- | ------------------ | --------------- |\n",
        "| I        | 0.333 × log(2/3)   | 0.25 × log(2/3) |\n",
        "| love     | 0.333 × log(2/3)   | 0.25 × log(2/3) |\n",
        "| NLP      | 0.333 × log(2/2)=0 | 0               |\n",
        "| machine  | 0                  | 0.25 × 0 = 0    |\n",
        "| learning | 0                  | 0.25 × 0 = 0    |\n",
        "\n",
        "| Word     | Doc1 TF-IDF | Doc2 TF-IDF |\n",
        "| -------- | ----------- | ----------- |\n",
        "| I        | Low         | Low         |\n",
        "| love     | Low         | Low         |\n",
        "| NLP      | High        | 0           |\n",
        "| machine  | 0           | High        |\n",
        "| learning | 0           | High        |\n",
        "\n",
        "\n",
        "✅ Interpretation:\n",
        "- Common words (like \"I\", \"love\") → Low TF-IDF\n",
        "- Unique words (like \"NLP\", \"machine\", \"learning\") → Higher TF-IDF\n",
        "\n"
      ],
      "metadata": {
        "id": "bCEQV6G6PIqa"
      }
    },
    {
      "cell_type": "code",
      "source": [
        "from sklearn.feature_extraction.text import TfidfVectorizer\n",
        "tfvec = TfidfVectorizer() #creating an instance of the vectorizer, but you still need to fit it on a list of documents to generate the TF-IDF values.\n",
        "tfvec"
      ],
      "metadata": {
        "id": "hugQVTBvN2QG"
      },
      "execution_count": null,
      "outputs": []
    },
    {
      "cell_type": "code",
      "source": [
        "sent = [ \"Tall brown Dog is playing in Green Fields\",\n",
        "         \"White Rabbit eating green Grass near rabbit cage\",\n",
        "          \"Brown Dog chase white rabbit\",\n",
        "          \"White Rabbit escaped into Green Gate.\"]\n",
        "tfvec.fit(sent)"
      ],
      "metadata": {
        "id": "HyLX624rOqF6"
      },
      "execution_count": null,
      "outputs": []
    },
    {
      "cell_type": "code",
      "source": [
        "tfvec.get_feature_names_out() #returns the list of unique terms (vocabulary) extracted from your corpus"
      ],
      "metadata": {
        "id": "NnUnhluzOsN0"
      },
      "execution_count": null,
      "outputs": []
    },
    {
      "cell_type": "code",
      "source": [
        "tfvec.vocabulary_  # Python dictionary mapping each term (word) in the vocabulary to its column index in the TF-IDF matrix."
      ],
      "metadata": {
        "id": "dy2gh49POwq6"
      },
      "execution_count": null,
      "outputs": []
    },
    {
      "cell_type": "code",
      "source": [
        "tfvec.transform(sent)"
      ],
      "metadata": {
        "id": "VN67VaiDOyhT"
      },
      "execution_count": null,
      "outputs": []
    },
    {
      "cell_type": "code",
      "source": [
        "out = tfvec.transform(sent).toarray()\n",
        "out"
      ],
      "metadata": {
        "id": "C7VaNG41O0aB"
      },
      "execution_count": null,
      "outputs": []
    },
    {
      "cell_type": "code",
      "source": [
        "import pandas as pd\n",
        "pd.DataFrame(out , columns=['brown', 'cage', 'chase', 'dog', 'eating', 'escaped', 'fields',\n",
        "       'gate', 'grass', 'green', 'in', 'into', 'is', 'near', 'playing',\n",
        "       'rabbit', 'tall', 'white'] )"
      ],
      "metadata": {
        "id": "vTCbvbFjO16Z"
      },
      "execution_count": null,
      "outputs": []
    },
    {
      "cell_type": "markdown",
      "source": [
        "### **Session 78- Embeddings pdf- (8th July)**"
      ],
      "metadata": {
        "id": "wFD4TJVDwHk5"
      }
    },
    {
      "cell_type": "markdown",
      "source": [
        "### **Session 79- Word2Vec- (9th July)**"
      ],
      "metadata": {
        "id": "faCnGFhdwbHz"
      }
    },
    {
      "cell_type": "code",
      "source": [
        "# !pip install gensim\n",
        "import gensim\n",
        "import gensim.downloader as api\n",
        "from gensim.models import KeyedVectors\n",
        "\n",
        "# Pre-Trained Word2Vec Embedding Model, File-size 1.5 GB,Vector Size 300 Dimensions,Corpus ==> 100 Billion words\n",
        "model = api.load(\"word2vec-google-news-300\")\n",
        "model"
      ],
      "metadata": {
        "id": "E-eM8yGvBQq7"
      },
      "execution_count": null,
      "outputs": []
    },
    {
      "cell_type": "code",
      "source": [
        "king_vector= model[\"king\"]\n",
        "len(king_vector)"
      ],
      "metadata": {
        "id": "WJ-FYMpKws84"
      },
      "execution_count": null,
      "outputs": []
    },
    {
      "cell_type": "code",
      "source": [
        "laptop_vector = model[\"laptop\"]\n",
        "\n",
        "model.most_similar(\"computer\")\n",
        "model.similarity(\"man\",\"king\")\n",
        "model.similarity(\"queen\",\"king\")\n",
        "model.similarity(\"doctor\", \"hospital\")\n",
        "model.doesnt_match([\"java\", \"php\", \"dog\"])\n",
        "result = model[\"king\"] - model[\"man\"] + model[\"woman\"]\n",
        "model.most_similar(result)"
      ],
      "metadata": {
        "id": "crj1JVIRxQVC"
      },
      "execution_count": null,
      "outputs": []
    },
    {
      "cell_type": "markdown",
      "source": [
        "### **Session 80- GloVe Embeddings- (10th July)**"
      ],
      "metadata": {
        "id": "5zbcBitoyJua"
      }
    },
    {
      "cell_type": "code",
      "source": [
        "# !pip install gensim\n",
        "import gensim\n",
        "import gensim.downloader as api\n",
        "\n",
        "glove_model = api.load(\"glove-wiki-gigaword-300\")\n",
        "glove_model"
      ],
      "metadata": {
        "id": "uahUtGUiyPhF"
      },
      "execution_count": null,
      "outputs": []
    },
    {
      "cell_type": "code",
      "source": [
        "glove_model[\"lion\"]\n",
        "len(glove_model[\"lion\"])"
      ],
      "metadata": {
        "id": "62ssrxuOy5TU"
      },
      "execution_count": null,
      "outputs": []
    },
    {
      "cell_type": "code",
      "source": [
        "glove_model[\"love\"]\n",
        "glove_model.most_similar(\"car\")\n",
        "glove_model.most_similar(\"car\", topn = 5 )\n",
        "glove_model[\"husband\"]\n",
        "glove_model[\"wife\"]\n",
        "glove_model[\"man\"]\n",
        "glove_model[\"woman\"]\n",
        "# husband - man + woman\n",
        "\n",
        "# positive ==>  husband + woman\n",
        "# negative  ==> man\n",
        "\n",
        "res = glove_model.most_similar( positive = [\"husband\", \"woman\"], negative = [\"man\"], topn = 2)\n",
        "res\n",
        "\n",
        "res1 = glove_model.most_similar( positive = [\"king\", \"woman\"], negative = [\"man\"], topn = 5)\n",
        "res1"
      ],
      "metadata": {
        "id": "O6AA0y5JzRKO"
      },
      "execution_count": null,
      "outputs": []
    },
    {
      "cell_type": "markdown",
      "source": [
        "##### **FastText**"
      ],
      "metadata": {
        "id": "V0ZyYR-y_L0T"
      }
    },
    {
      "cell_type": "markdown",
      "source": [
        "      - FastText is a powerful and efficient library developed by Facebook AI Research (FAIR) for text classification and word representation in NLP.\n",
        "      - It is word embedding technique which is specifically designed to handle rare words.\n",
        "      - In this words are further divided into subwords to understand relationship between subwords.\n",
        "      - It is kind of enhanced version of word2vec which can handle rare words very efficiently or words which are which are never seen before.  like playng.\n",
        "      - working mechanism-\n",
        "        - Tokenization\n",
        "        - each word after tokenization further divided into subwords based on window of characters\n",
        "        - Fasttext combines all its subwords vectors create the final word vector\n",
        "        - It performs the prediction of target word"
      ],
      "metadata": {
        "id": "vQH1UicH6FX8"
      }
    },
    {
      "cell_type": "code",
      "source": [
        "sample_text = \"\"\"The cat sat on the mat.\n",
        "Dogs are loyal animals.\n",
        "I love learning about natural language processing.\n",
        "FastText is great for text classification.\n",
        "Birds can fly in the sky.\n",
        "Apples and oranges are fruits.\n",
        "The sun rises in the east.\n",
        "Python is a popular programming language.\n",
        "She is reading a book under the tree.\n",
        "AI is changing the world rapidly.\"\"\"\n",
        "\n",
        "with open(\"data.txt\", \"w\") as f:\n",
        "    f.write(sample_text)\n",
        "\n",
        "\n",
        "# !pip install -qU fasttext\n",
        "import fasttext  # importing FastText library, which allows you to train and use word embeddings or text classifiers.\n",
        "\n",
        "# Train Skip-gram model\n",
        "model = fasttext.train_unsupervised('data.txt', model='cbow')  #model= cbow/ skipgram\n",
        "\n",
        "# Get word vector\n",
        "print(model.get_word_vector(\"language\")) #This retrieves the embedding vector for the word \"language\". The result is a 100-dimensional float vector by default.\n"
      ],
      "metadata": {
        "collapsed": true,
        "id": "ZjiHJIt-8Jjm"
      },
      "execution_count": null,
      "outputs": []
    },
    {
      "cell_type": "markdown",
      "source": [
        "| Step                      | Purpose                            |\n",
        "| ------------------------- | ---------------------------------- |\n",
        "| `train_unsupervised`      | Train word vectors from raw text   |\n",
        "| `'skipgram'`              | Predict context from a center word |\n",
        "| `get_word_vector(\"word\")` | Fetch the learned vector of a word |\n",
        "\n",
        "| Feature                      | FastText         | Word2Vec / GloVe   |\n",
        "| ---------------------------- | ---------------- | ------------------ |\n",
        "| Handles OOV words            | ✅ Yes            | ❌ No               |\n",
        "| Uses subword information     | ✅ Yes            | ❌ No               |\n",
        "| Fast training                | ✅ Yes            | ✅ Yes              |\n",
        "| Morphological awareness      | ✅ Strong         | ❌ Weak             |\n",
        "| Pre-trained models available | ✅ 157+ languages | ✅ English (mainly) |\n"
      ],
      "metadata": {
        "id": "qHxd66UP9Myw"
      }
    },
    {
      "cell_type": "markdown",
      "source": [
        "### **Session 81- Sequence Data pdf- (12th July)**"
      ],
      "metadata": {
        "id": "I98uIOWxzp9e"
      }
    },
    {
      "cell_type": "markdown",
      "source": [
        "    - CNN (Convolutional Neural Network) ==> Images\n",
        "    - RNN (Recurrent Neural Network) ==> Sequence Data\n",
        "\n",
        "      **Sequence Data** : type of data where order of the words in the sequence is very important. Each word in the sequence are related to surrounding elements (before word and after word.). This type of data is often collected over time.\n",
        "\n",
        "- Why Sequence Matters\n",
        "\n",
        "| Sentence A                   | Sentence B                    |\n",
        "| ---------------------------- | ----------------------------- |\n",
        "| \"He didn’t say he stole it.\" | \"He said he didn’t steal it.\" |\n",
        "      Same words, different order, different meaning. This is why models need to capture the sequence of words — not just their presence.\n",
        "\n",
        "- Example of Sequence data\n",
        "      - Textual data which is arranged in proper order. ex- Sentences, - Paragraphs, Documents, Articles, Chat Conversation....etc.\n",
        "      - Time Series Data- Data Collected based on time i.e regular  intervals of time. ex- Sales prediction Data, Temperature prediction, stock Price Prediction...etc.\n",
        "\n",
        "| Type of Text      | Sequence Example                               |\n",
        "| ----------------- | ---------------------------------------------- |\n",
        "| Sentence          | \"The cat sat on the mat.\"                      |\n",
        "| Chat conversation | \"Hi\" → \"Hello!\" → \"How are you?\"               |\n",
        "| Paragraph         | Context builds over multiple sentences         |\n",
        "| Document          | News articles, essays, or instructions         |\n",
        "| Code or commands  | \"if\", \"else\", \"print\", etc. (sequence matters) |\n",
        "\n",
        "- Summary\n",
        "      - Sequential data is core to NLP — word order shapes meaning.\n",
        "      - NLP models must preserve or learn this order to perform well.\n",
        "      - Sequence-based models (RNNs, Transformers) are built to handle this structured dependency.\n",
        "\n",
        "- Key Features of Sequential Data\n",
        "      - Order Matters : Position of an element within the sequence is important to understand overall meaning and context. Example: \"I only eat fruit\" ≠ \"Only I eat fruit\"\n",
        "      - Sequential Relationship : (Temporal Relationship) It explains the relationships of a particular element with its before and after elements. Example: In \"She was not happy\", the word \"not\" modifies \"happy\".\n",
        "      - Variable Length : In sequence data each sequence has different length which effects the contextual meaning of sequence and also in understanding relationship among the words. e.g., short tweets vs long articles.Longer sequences often require memory or attention mechanisms to understand distant relationships.\n",
        "      - Dependencies : Each element in the sequence often dependent on surrounding elements.Example: In \"If it rains, we will cancel the picnic\", the second part depends on the first.\n",
        "      - Contextual Sensitivity : The meaning of each element depends on the context created by the rest of the sequence. This is why simple bag-of-words models often fail—because they lose sequence and context.\n",
        "\n",
        "- Models which deals with Sequence data is called Seq2Seq\n",
        "  Model.\n",
        "      A Sequence-to-Sequence (Seq2Seq) model is a neural architecture designed to transform one sequence into another. It’s widely used when both the input and output are sequences, possibly of different lengths.\n",
        "\n",
        "      Basic Model which deals with Sequence data-\n",
        "        RNN ==> Recurrent Neural Network\n",
        "        LSTM ==> Long Short Term Memory.\n",
        "\n",
        "| Task                        | Input Sequence               | Output Sequence                     |\n",
        "| --------------------------- | ---------------------------- | ----------------------------------- |\n",
        "| Machine Translation         | `\"I love NLP\"`               | `\"J'aime le traitement du langage\"` |\n",
        "| Text Summarization          | `\"The article discusses...\"` | `\"Summary of the article\"`          |\n",
        "| Chatbot Response Generation | `\"Hi, how are you?\"`         | `\"I'm good, thanks!\"`               |\n",
        "| Speech Recognition          | `Audio waveform`             | `\"Hello world\"`                     |\n",
        "| Code Generation             | `\"Write a Python function\"`  | `\"def add(a, b): return a+b\"`       |\n",
        "\n",
        "\n",
        "\n",
        "| Model Type                         | How It Works                                         |\n",
        "| ---------------------------------- | ---------------------------------------------------- |\n",
        "| **RNN (Recurrent Neural Network)** | Reads tokens one by one and maintains state          |\n",
        "| **LSTM / GRU**                     | Improved RNNs for long-range dependencies            |\n",
        "| **CNN (1D)**                       | Detects local n-gram features, ignores global order  |\n",
        "| **Transformer**                    | Uses attention to relate all positions at once       |\n",
        "| **BERT/GPT**                       | Pretrained Transformers that understand full context |\n"
      ],
      "metadata": {
        "id": "rQySdYxmFsFJ"
      }
    },
    {
      "cell_type": "markdown",
      "source": [
        "### **Session 82- RNN pdf- (14th July)**"
      ],
      "metadata": {
        "id": "Ud_3rpADz7BI"
      }
    },
    {
      "cell_type": "markdown",
      "source": [
        "       Hierarchy of how machine learning and deep learning models evolve to address increasingly complex data problems\n",
        "       ML → ANN → CNN → RNN\n",
        "       \n",
        "        Machine Learning Models\n",
        "        - Can deal only small volume of Dataset\n",
        "        - Needed: Feature Extraction, Feature Selection, Error Rectification, Encoding, Imbalance....etc\n",
        "        - Disadvantage :\n",
        "          - We can't handle large volume of data.\n",
        "          - There is not Auto Feature Extraction\n",
        "          - It can't handle large number of features\n",
        "        - Solution : Feed Forward Neural Network (ANN)\n",
        "                        - Auto Feature Engineering\n",
        "                        - Auto feature extraction\n",
        "                        - It can handle large volume of data\n",
        "\n",
        "        Artificial Neural Network :\n",
        "          - Feed Forward Neural Network (ANN)\n",
        "          - Auto Feature Engineering\n",
        "          - Auto feature extraction\n",
        "          - It can handle large volume of data\n",
        "          - It has feature like Weights, Activation Function, Bias, Forward Propagation and Back Propagation.\n",
        "          - Problem with ANN- can't deal with\n",
        "            - Complex Multi Dimension Data, Image Recognition, Speech Conversation, Dataset with Huge Input Parameter\n",
        "          - Solution :\n",
        "            - CNN can rectify all problem of ANN.\n",
        "            - Image\n",
        "            - Huge Input Parameter\n",
        "            - Complex multi dimensional data.\n",
        "          CNN\n",
        "            - stands for Convolutional Neural Network which handle complex multi dimensional data like colour images.\n",
        "            - Image Classification, Image Segmentation, Image Recognition\n",
        "            - Huge Input Parameter\n",
        "            - Complex multi dimensional data.\n",
        "            - Limitation of CNN : CNN can't deal with\n",
        "              - Sequential data, Time Series dat, Text data,Language translation, Text Summarization, Sentiment Analysis....etc.\n",
        "              - No memory provided: CNNs do not have memory of past inputs. They are stateless and process each input independently.\n",
        "              - Memory in neural networks refers to the ability to retain information about previous inputs in a sequence. This is crucial for sequential data like text, time series, and speech — where context builds over time.\n",
        "\n",
        "            - Solution :\n",
        "              - RNN can handle Sequential data problems\n",
        "              - Time Series, Language Translation\n",
        "              - Text Summarization\n",
        "              - Sentiment Analysis...etc.\n",
        "\n",
        "              For text:\n",
        "              CNN might see:\n",
        "              \"He is very not good\"\n",
        "              - CNN might treat “not” and “good” separately or in a small window — but not remember their relation across the whole sentence.\n",
        "              - RNN would process one word at a time and maintain memory:\n",
        "                  \"He → is → very → not → good\"\n",
        "                  So it understands the negation. Understanding t, t+1, t+2 in Sequential Data\n",
        "\n",
        "| Model Type                             | Best For                            | Key Features                                                                                        | Limitations                                                                                                     | Solution                        |\n",
        "| -------------------------------------- | ----------------------------------- | --------------------------------------------------------------------------------------------------- | --------------------------------------------------------------------------------------------------------------- | ------------------------------- |\n",
        "| **ML (Machine Learning)**              | Small structured/tabular data       | - Manual feature engineering<br>- Simple algorithms<br>- Fast on small data                         | - Can't handle large data<br>- No auto feature extraction<br>- Struggles with unstructured data                 | ➡️ Use **ANN**                  |\n",
        "| **ANN (Artificial Neural Network)**    | Large structured data               | - Auto feature extraction<br>- Forward & backpropagation<br>- Handles high dimensionality           | - Not effective for images<br>- Struggles with spatial data<br>- Weak with high-dimensional input (like images) | ➡️ Use **CNN**                  |\n",
        "| **CNN (Convolutional Neural Network)** | Images, spatial data                | - Detects patterns via filters<br>- Efficient with large input<br>- Handles 2D/3D data              | - Not suitable for sequences<br>- Can't handle time series, text, speech                                        | ➡️ Use **RNN**                  |\n",
        "| **RNN (Recurrent Neural Network)**     | Sequential data: text, time, speech | - Maintains memory across steps<br>- Learns temporal patterns<br>- Works with variable-length input | - Training can be slow<br>- Can forget long dependencies (vanishing gradient)                                   | ➡️ Use **LSTM/GRU/Transformer** |"
      ],
      "metadata": {
        "id": "9RK7Te1NDy5i"
      }
    },
    {
      "cell_type": "markdown",
      "source": [
        "      ANN Architecture Summary Table\n",
        "\n",
        "| Layer Type          | Purpose                          | Activation Function      | # of Neurons             |\n",
        "| ------------------- | -------------------------------- | ------------------------ | ------------------------ |\n",
        "| **Input Layer**     | Accept raw data                  | None                     | Equal to # of features   |\n",
        "| **Hidden Layer(s)** | Learn patterns & transformations | ReLU, Sigmoid, Tanh      | Tunable (hyperparameter) |\n",
        "| **Output Layer**    | Give predictions                 | Sigmoid / Softmax / None | Depends on target type   |\n",
        "\n",
        "\n",
        "| Feature                    | **ANN (Artificial Neural Network)**                      | **CNN (Convolutional Neural Network)**                            | **RNN (Recurrent Neural Network)**                         |\n",
        "| -------------------------- | -------------------------------------------------------- | ----------------------------------------------------------------- | ---------------------------------------------------------- |\n",
        "| **Purpose**                | General-purpose, structured data                         | Spatial data like images                                          | Sequential data like text, time series, speech             |\n",
        "| **Input Type**             | Fixed-size vector input                                  | Grid-like (e.g., image pixels)                                    | Sequences (e.g., words, time steps)                        |\n",
        "| **Layer Types**            | Dense (Fully Connected)                                  | Convolutional + Pooling + Dense                                   | Recurrent (looped) + Dense                                 |\n",
        "| **Memory / Context**       | ❌ No memory of past inputs                               | ❌ No memory (local features only)                                 | ✅ Yes – remembers past inputs via hidden states            |\n",
        "| **Handles Sequence**       | ❌ No                                                     | ❌ No                                                              | ✅ Yes                                                      |\n",
        "| **Handles Image Data**     | ✅ But not optimized                                      | ✅ Specialized for images                                          | ❌ Not suitable                                             |\n",
        "| **Handles Text/Time Data** | ❌ Not well                                               | ✅ Limited (with filters)                                          | ✅ Best suited                                              |\n",
        "| **Computation**            | Low to Medium                                            | Medium to High                                                    | High (due to time-step loops)                              |\n",
        "| **Parallelism (Training)** | ✅ High                                                   | ✅ High                                                            | ❌ Low – sequential processing                              |\n",
        "| **Use Cases**              | - Tabular data<br>- Regression<br>- Basic classification | - Image classification<br>- Object detection<br>- Medical imaging | - Text generation<br>- Translation<br>- Sentiment analysis |\n",
        "| **Weight Sharing**         | ❌ No                                                     | ✅ Yes (shared kernels)                                            | ✅ Shared across time steps                                 |\n",
        "| **Example Algorithms**     | Logistic Regression, MLP                                 | LeNet, AlexNet, VGG, ResNet                                       | Vanilla RNN, LSTM, GRU                                     |\n",
        "| **Strength**               | Simplicity                                               | Local spatial feature extraction                                  | Temporal/contextual modeling                               |\n",
        "| **Weakness**               | No spatial or temporal awareness                         | No memory for sequences                                           | Vanishing gradient (in vanilla RNN)                        |\n",
        "\n"
      ],
      "metadata": {
        "id": "PhcqgkUsKVJ2"
      }
    },
    {
      "cell_type": "markdown",
      "source": [
        "###### RNN\n",
        "\n",
        "      RNN :\n",
        "      - A Recurrent Neural Network (RNN) is type of Artificial Neural Network designed to handle sequential data.\n",
        "      - As RNNs have internal memory, allowing them to process sequences of inputs by retaining information about previous input elements in the sequence.\n",
        "      - This \"internal memory\" makes them suitable for tasks where order of input data matters or important. Such as natural language processing and speech recognition.\n",
        "      - Unfolded vs Folded RNN\n",
        "\n",
        "    🧩 1. Input Sequence: Suppose input is a sequence of words (or time steps):\n",
        "    X = [x₁, x₂, x₃, ..., xₜ] . Each input xₜ is passed into the RNN one at a time (not all at once like ANN).\n",
        "\n",
        "      2. Hidden State Update: At every time step t, the RNN:\n",
        "\n",
        "          - Receives current input xₜ\n",
        "          - Receives previous hidden state hₜ₋₁\n",
        "          - Produces new hidden state hₜ\n",
        "          - hₜ = f(Wₓ * xₜ + Wₕ * hₜ₋₁ + b)\n",
        "          -W-weight, b-bias, f- activation function (tanh or ReLU),hₜ- updated memory\n",
        "          - This allows the model to remember what it saw before"
      ],
      "metadata": {
        "id": "jBR35vuEyo9_"
      }
    },
    {
      "cell_type": "markdown",
      "source": [
        "### **Session 83- RNN- (21st July)**"
      ],
      "metadata": {
        "id": "qkLEUOXw0-Bq"
      }
    },
    {
      "cell_type": "markdown",
      "source": [
        "      Evolution of RNN :\n",
        "      In 1980 ==> John Hopfield ==> Hopfield Network\n",
        "              - In Hopfield network multiple neural networks are connected with each other over the feedback. Feedback of previous neural network is pass on the next neural network as input with which pattern is\n",
        "              remembered over the time in sequential data.\n",
        "              - Draws of Hopfield Network was rectified by David Rumelhart with the help of Geoffrey Hinton by introducing BPTT (Back Propagation Through Time)\n",
        "      - LSTM : 1997 - 2010: Long Short Term Memory. Complicated architecture consists of\n",
        "              - Forget Gate\n",
        "              - Input Gate\n",
        "              - Output Gate\n",
        "              - Cell State\n",
        "              - Hidden State\n",
        "      - GRU (Gated Recurrent Unit)  ==> Equally Powerful as LSTM with Simple Architecture ==> 2014\n",
        "      - Encoder - Decoder Architecture- Ilya Sutskever. LSTM ==> multiple\n",
        "      - Attention Mechanism\n",
        "      - Self Attention Mechanism\n",
        "      - Transformer Model-> BERT & GPT\n",
        "\n",
        "| **Year**    | **Contributor(s)**           | **Model / Milestone**      | **Contribution**                                                                      | **Summary**                                               | **Drawbacks**                                                  |\n",
        "| ----------- | ---------------------------- | -------------------------- | ------------------------------------------------------------------------------------- | --------------------------------------------------------- | -------------------------------------------------------------- |\n",
        "| 1980        | **John Hopfield**            | **Hopfield Network**       | Introduced feedback-based network. Remembered patterns using energy minimization.     | Early recurrent model with memory for fixed patterns      | Limited memory, not suitable for sequence prediction           |\n",
        "| 1986        | **Rumelhart & Hinton**       | **Backpropagation + BPTT** | Extended backpropagation for RNNs using time-unrolling                                | Enabled training RNNs using BPTT                          | Prone to vanishing/exploding gradients                         |\n",
        "| Early 1990s | **Sepp Hochreiter**          | **RNN Gradient Analysis**  | Found major training issues with deep RNNs (vanishing gradient)                       | Highlighted need for better architectures                 | Couldn’t solve long-term dependency problems                   |\n",
        "| 1997        | **Hochreiter & Schmidhuber** | **LSTM**                   | Introduced memory cells, input/output/forget gates to preserve long-term dependencies | First practical solution for long sequence learning       | Computationally intensive, complex architecture                |\n",
        "| 2014        | **Kyunghyun Cho et al.**     | **GRU**                    | Simplified LSTM with reset and update gates, faster training                          | Lightweight alternative to LSTM                           | Slightly less accurate on some tasks than LSTM                 |\n",
        "| 2014–2017   | **Google, Facebook, etc.**   | **Attention Mechanism**    | Allowed models to focus on relevant input tokens during decoding                      | Improved translation and summarization accuracy           | Still depends on RNN backbone (before Transformers)            |\n",
        "| 2017        | **Google**                   | **Transformer**            | Fully attention-based model with parallel processing, no recurrence                   | Most powerful and scalable architecture (e.g., BERT, GPT) | Requires large data and compute, lacks inherent temporal order |\n"
      ],
      "metadata": {
        "id": "kioHWAQr21fk"
      }
    },
    {
      "cell_type": "markdown",
      "source": [
        "    🔁 RNN Variants Based on Input/Output Architecture\n",
        "\n",
        "| **Type**                        | **Input**      | **Output**                         | **Use Case**                          |\n",
        "| ------------------------------- | -------------- | ---------------------------------- | ------------------------------------- |\n",
        "| **One-to-One**                  | Single         | Single                             | Image classification                  |\n",
        "| **One-to-Many**                 | Single         | Sequence                           | Image captioning                      |\n",
        "| **Many-to-One**                 | Sequence       | Single                             | Sentiment analysis                    |\n",
        "| **Many-to-Many (synchronous)**  | Sequence       | Sequence                           | POS tagging, named entity recognition |\n",
        "| **Many-to-Many (asynchronous)** | Input sequence | Output sequence (different length) | Machine translation, summarization    |\n"
      ],
      "metadata": {
        "id": "12ZT85p08SOl"
      }
    },
    {
      "cell_type": "markdown",
      "source": [
        "### **Session 84- RNN Implementation- (22 July)**\n",
        "\n",
        "      RNN Implementation on Twitter Sentiment Data (from the given URL)"
      ],
      "metadata": {
        "id": "9IzzpgNqGskL"
      }
    },
    {
      "cell_type": "markdown",
      "source": [
        "    TensorFlow is an open-source machine learning and deep learning framework developed by Google. It allows developers to build, train, and deploy machine learning models easily — especially neural networks.\n",
        "    ✅ Build and train models for:\n",
        "      Image classification (e.g., recognizing cats vs dogs)\n",
        "      Natural Language Processing (e.g., chatbots, translation)\n",
        "      Time series forecasting\n",
        "      Speech recognition\n",
        "      Object detection\n",
        "      Recommender systems\n",
        "\n",
        "\n"
      ],
      "metadata": {
        "id": "RPCdSIpBLrET"
      }
    },
    {
      "cell_type": "code",
      "source": [
        "import pandas as pd\n",
        "import numpy as np\n",
        "import re\n",
        "# import contractions\n",
        "import nltk\n",
        "from tensorflow.keras.preprocessing.text import Tokenizer\n",
        "from tensorflow.keras.utils import pad_sequences\n",
        "from tensorflow.keras.models import Sequential\n",
        "from tensorflow.keras.layers import Embedding, Dense, SimpleRNN\n",
        "\n",
        "from nltk.corpus import stopwords\n",
        "nltk.download(\"stopwords\")\n",
        "\n",
        "url = \"https://raw.githubusercontent.com/dD2405/Twitter_Sentiment_Analysis/master/train.csv\"\n",
        "df = pd.read_csv(url)\n",
        "df.head(5)\n",
        "\n",
        "# label - dependent coolumn (0 = negative, 1 = positive)\n",
        "# tweet- independent column"
      ],
      "metadata": {
        "id": "5q2Fo5QOz6Up"
      },
      "execution_count": null,
      "outputs": []
    },
    {
      "cell_type": "code",
      "source": [
        "# df.drop(\"id\", axis = 1, inplace = True)  # don't require ID column\n",
        "# df[\"tweet\"]\n",
        "# df[\"tweet\"][0]\n",
        "# df[\"tweet\"][3]\n",
        "df.shape"
      ],
      "metadata": {
        "id": "cwoMa7t8HU4B"
      },
      "execution_count": null,
      "outputs": []
    },
    {
      "cell_type": "code",
      "source": [
        "df.isna().sum()# summary\n",
        "df.label.value_counts()    #oversampling- undersampling required to balance the data"
      ],
      "metadata": {
        "id": "bqjoiRvSH7Hu"
      },
      "execution_count": null,
      "outputs": []
    },
    {
      "cell_type": "code",
      "source": [
        "X = df[[\"tweet\"]]\n",
        "y= df[\"label\"]"
      ],
      "metadata": {
        "id": "QqlmqJt7S8rc"
      },
      "execution_count": null,
      "outputs": []
    },
    {
      "cell_type": "code",
      "source": [
        "from imblearn.over_sampling import RandomOverSampler  # RandomOverSampler is used to handle imbalanced datasets by randomly duplicating examples from the minority class until both classes are balanced.\n",
        "ros = RandomOverSampler()\n",
        "ros"
      ],
      "metadata": {
        "id": "OCvHHzYyTDMR"
      },
      "execution_count": null,
      "outputs": []
    },
    {
      "cell_type": "code",
      "source": [
        "X_ros, y_ros = ros.fit_resample(X, y)\n",
        "y_ros.value_counts()"
      ],
      "metadata": {
        "id": "EC2oOr2eTK1p"
      },
      "execution_count": null,
      "outputs": []
    },
    {
      "cell_type": "code",
      "source": [
        "df1 = pd.DataFrame(X_ros)\n",
        "df1['label'] = y_ros\n",
        "df1.head(3)"
      ],
      "metadata": {
        "id": "1bw9yaWvTaMK"
      },
      "execution_count": null,
      "outputs": []
    },
    {
      "cell_type": "code",
      "source": [
        "# remove stopwords\n",
        "swords = stopwords.words(\"english\")  # downloading all stopwords\n",
        "len(swords)\n",
        "swords"
      ],
      "metadata": {
        "collapsed": true,
        "id": "mhyhG8HBTyWU"
      },
      "execution_count": null,
      "outputs": []
    },
    {
      "cell_type": "code",
      "source": [
        "df1[\"tweet\"] = df1[\"tweet\"].map( lambda x : x.lower())\n",
        "df1[\"tweet\"] = df1[\"tweet\"].map(lambda x :  re.sub(r\"@\\w+|#\\w+\",\"\", x))   # applying a regex substitution to remove usernames (@user) and hashtags (#tag) from tweets\n",
        "df1[\"tweet\"] = df1[\"tweet\"].map(lambda x :  re.sub(\"http\\S+|www\\S+|https\\S+\",\"\",x)) # removes URLs from tweets\n",
        "df1[\"tweet\"]= df1[\"tweet\"].map(lambda x :   re.sub(\"[^a-zA-Z0-9 ]\", \"\", x) ) # Removes punctuation, special characters, emojis, etc\n",
        "df1[\"tweet\"] = df1[\"tweet\"].map(lambda x : \" \".join( [ w    for w in x.split()   if w not in swords] )) #remove stopwords\n",
        "\n",
        "# !pip install contractions\n",
        "import contractions\n",
        "df1[\"tweet\"]= df1[\"tweet\"].map(lambda x: contractions.fix(x))\n",
        "\n",
        "# check for automated preprocessing steps\n",
        "df1['tweet'].head(3)"
      ],
      "metadata": {
        "id": "p7xx6OKdTyYh"
      },
      "execution_count": null,
      "outputs": []
    },
    {
      "cell_type": "code",
      "source": [],
      "metadata": {
        "id": "WjljXSorn46o"
      },
      "execution_count": null,
      "outputs": []
    },
    {
      "cell_type": "markdown",
      "source": [
        "### **Session 85- RNN Implementation Cont- (23rd July)**\n"
      ],
      "metadata": {
        "id": "tDodeoYbcbyV"
      }
    },
    {
      "cell_type": "markdown",
      "source": [
        "      A tokenizer in NLP is a tool or function that breaks down text into smaller units called tokens — typically words, subwords, or characters.\n",
        "\n",
        "      # How Tokenizer Assigns Word Indexes- After calling tokenizer.fit_on_texts(texts), the tokenizer:\n",
        "        # this is different-> from nltk.tokenize import word_tokenize, sent_tokenize\n",
        "        # Tokenizes (splits) all input texts into words (tokens).\n",
        "        # Counts frequency of each word.\n",
        "        # Sorts words by descending frequency (most frequent first).\n",
        "        # Assigns index starting from 1 (or 2 if oov_token is specified)."
      ],
      "metadata": {
        "id": "ML0IEKWQwoU1"
      }
    },
    {
      "cell_type": "code",
      "source": [
        "# tokenization using TensorFlow's Tokenizer. The Tokenizer transforms raw text (sentences or documents) into a format that machine learning models can understand — usually sequences of numbers.\n",
        "\n",
        "from tensorflow.keras.preprocessing.text import Tokenizer\n",
        "tokenizer = Tokenizer(num_words=10000, oov_token= \"<00V>\" )  # Only the top 10,000 most frequent words will be kept.Any word not seen during training will be replaced with this special Out-Of-Vocabulary token.\n",
        "tokenizer.fit_on_texts(df1[\"tweet\"])  #This tells the tokenizer to analyze the given list of texts and Count word frequency, Build a vocabulary, Assign a unique integer index to each word based on its frequency.\n",
        "print(tokenizer.word_index)"
      ],
      "metadata": {
        "collapsed": true,
        "id": "HDye1aLqcf_M"
      },
      "execution_count": null,
      "outputs": []
    },
    {
      "cell_type": "code",
      "source": [
        "# sample tokenizer\n",
        "tokenizer1 = Tokenizer(num_words=10000, oov_token= \"<00V>\" )\n",
        "tokenizer1.fit_on_texts([\"I love NLP\", \"NLP is amazing\"])\n",
        "\n",
        "print(tokenizer1.word_index)\n",
        "seq=tokenizer1.texts_to_sequences([\"I love AI\", \"AI is Love NLP amazing\"])  # see OOV\n",
        "seq"
      ],
      "metadata": {
        "id": "YMHfPQhpHYMX"
      },
      "execution_count": null,
      "outputs": []
    },
    {
      "cell_type": "code",
      "source": [
        "# It ensures that all sequences have the same length. This is necessary because neural networks require input tensors to be of uniform shape.\n",
        "from tensorflow.keras.preprocessing.sequence import pad_sequences\n",
        "padded_sequences = pad_sequences(seq, maxlen=10, padding = \"post\", truncating=\"post\")\n",
        "padded_sequences"
      ],
      "metadata": {
        "id": "mxXfXqmVIgWH"
      },
      "execution_count": null,
      "outputs": []
    },
    {
      "cell_type": "code",
      "source": [
        "len(padded_sequences[0]), len(padded_sequences[1])"
      ],
      "metadata": {
        "id": "od2oAeyGQ3U5"
      },
      "execution_count": null,
      "outputs": []
    },
    {
      "cell_type": "code",
      "source": [
        "df1[\"tweet\"].head(3)"
      ],
      "metadata": {
        "id": "d-QvmN0Fcf4P"
      },
      "execution_count": null,
      "outputs": []
    },
    {
      "cell_type": "code",
      "source": [
        "# tokenizer.texts_to_sequences(df1[\"tweet\"])\n",
        "sequences = tokenizer.texts_to_sequences(df1[\"tweet\"])\n",
        "sequences"
      ],
      "metadata": {
        "collapsed": true,
        "id": "UI__HrbDcftH"
      },
      "execution_count": null,
      "outputs": []
    },
    {
      "cell_type": "code",
      "source": [
        "# Performing Padding\n",
        "from tensorflow.keras.preprocessing.sequence import pad_sequences\n",
        "padded_sequences = pad_sequences(sequences, maxlen=50, padding = \"post\", truncating=\"post\")\n",
        "padded_sequences"
      ],
      "metadata": {
        "id": "11PF_6_jcfq5"
      },
      "execution_count": null,
      "outputs": []
    },
    {
      "cell_type": "code",
      "source": [
        "padded_sequences.shape"
      ],
      "metadata": {
        "id": "vK_Z-XiYcfoY"
      },
      "execution_count": null,
      "outputs": []
    },
    {
      "cell_type": "markdown",
      "source": [
        "### **Session 86- RNN Implementation Cont- (24 July)**\n"
      ],
      "metadata": {
        "id": "WBYNzr2qSZzm"
      }
    },
    {
      "cell_type": "code",
      "source": [
        "# splitting data\n",
        "X = padded_sequences #type(X): numpy.ndarray\n",
        "y = df1[\"label\"].values  # print(type(y)): numpy.ndarray\n",
        "\n",
        "from sklearn.model_selection import train_test_split\n",
        "X_train, X_test, y_train, y_test = train_test_split(X, y, test_size=0.2)\n",
        "\n",
        "X_train.shape\n",
        "X_test.shape\n",
        "y_train.shape\n",
        "y_test.shape\n",
        "type(X), type(y), type(df1[\"label\"])"
      ],
      "metadata": {
        "id": "QrVbPzFWcfl5"
      },
      "execution_count": null,
      "outputs": []
    },
    {
      "cell_type": "code",
      "source": [
        "# Model Building\n",
        "\n",
        "# Importing the Sequential model and required layers: Embedding, SimpleRNN, and Dense.\n",
        "from tensorflow.keras.models import Sequential\n",
        "from tensorflow.keras.layers import Embedding, Dense, SimpleRNN\n",
        "\n",
        "smodel = Sequential()  # Initializes a sequential neural network (layer-by-layer model).\n",
        "\n",
        "smodel.add( Embedding(input_dim = 10000, output_dim = 64, input_length = 50))\n",
        "smodel.add(SimpleRNN(64))\n",
        "smodel.add(Dense(1, activation = \"sigmoid\"))\n",
        "\n",
        "smodel.summary()"
      ],
      "metadata": {
        "id": "C37R8z8DcfjN"
      },
      "execution_count": null,
      "outputs": []
    },
    {
      "cell_type": "markdown",
      "source": [
        "      Embedding Layer: Converts word indices (integers) into dense vectors.\n",
        "        - input_dim=10000: Vocabulary size (max word index is 9999)\n",
        "        - output_dim=64: Each word will be represented as a 64-dimensional vector\n",
        "        - input_length=50: Input sequence length is 50 tokens\n",
        "        📌 Output Shape: (None, 50, 64)\n",
        "        \n",
        "      Simple RNN Layer: Processes the embedded sequence data one step at a time, maintaining hidden state.\n",
        "\n",
        "        - 64 is the number of RNN units (neurons)\n",
        "        - It returns the last hidden state, not the full sequence        📌 Output Shape: (None, 64)\n",
        "\n",
        "        Dense Layer: Output layer with 1 neuron\n",
        "          - activation=\"sigmoid\": Useful for binary classification (e.g., sentiment analysis)\n",
        "          📌 Output Shape: (None, 1)\n",
        "\n"
      ],
      "metadata": {
        "id": "pJ2yNdqloNmN"
      }
    },
    {
      "cell_type": "code",
      "source": [
        "smodel.compile(optimizer=\"adam\",\n",
        "               loss = \"binary_crossentropy\",\n",
        "               metrics = [\"accuracy\"] )\n",
        "smodel.fit(X_train, y_train, epochs = 10, batch_size = 64)"
      ],
      "metadata": {
        "id": "HG948xx2cfZy"
      },
      "execution_count": null,
      "outputs": []
    },
    {
      "cell_type": "code",
      "source": [
        "smodel.evaluate(X_test, y_test)  # accuracy score, 96% predict 96% times accuractely wehter tweet is +ve or -ve"
      ],
      "metadata": {
        "id": "pmK4OJo-qjYc"
      },
      "execution_count": null,
      "outputs": []
    },
    {
      "cell_type": "code",
      "source": [
        "np.unique(y)"
      ],
      "metadata": {
        "id": "OjfksDiHSL_t"
      },
      "execution_count": null,
      "outputs": []
    },
    {
      "cell_type": "code",
      "source": [
        "# Summary of RNN Programm\n",
        "import pandas as pd\n",
        "import numpy as np\n",
        "import tensorflow as tf\n",
        "from tensorflow.keras.preprocessing.text import Tokenizer\n",
        "from tensorflow.keras.preprocessing.sequence import pad_sequences\n",
        "from tensorflow.keras.models import Sequential\n",
        "from tensorflow.keras.layers import Embedding, SimpleRNN, Dense\n",
        "\n",
        "# 1. Load data\n",
        "url = \"https://raw.githubusercontent.com/dD2405/Twitter_Sentiment_Analysis/master/train.csv\"\n",
        "df = pd.read_csv(url)\n",
        "\n",
        "# 2. Preprocess text and labels\n",
        "texts = df['tweet'].astype(str).tolist()\n",
        "labels = df['label'].values  # 0 = negative, 1 = positive\n",
        "\n",
        "# 3. Tokenization\n",
        "tokenizer = Tokenizer(num_words=10000, oov_token=\"<OOV>\")\n",
        "tokenizer.fit_on_texts(texts)\n",
        "sequences = tokenizer.texts_to_sequences(texts)\n",
        "padded_sequences = pad_sequences(sequences, maxlen=100, padding='post', truncating='post')\n",
        "\n",
        "# 4. Model definition\n",
        "model = Sequential([\n",
        "    Embedding(input_dim=10000, output_dim=16, input_length=100),\n",
        "    SimpleRNN(32),\n",
        "    Dense(1, activation='sigmoid')\n",
        "])\n",
        "\n",
        "# 5. Compile & train\n",
        "model.compile(loss='binary_crossentropy', optimizer='adam', metrics=['accuracy'])\n",
        "model.fit(padded_sequences, labels, epochs=5, batch_size=64, validation_split=0.2)\n"
      ],
      "metadata": {
        "id": "RJeHB95iIRUh"
      },
      "execution_count": null,
      "outputs": []
    },
    {
      "cell_type": "markdown",
      "source": [
        "### **Session 87- LSTM - (28 July)**\n"
      ],
      "metadata": {
        "id": "uvJPQWpkFRxy"
      }
    },
    {
      "cell_type": "markdown",
      "source": [
        "![Screenshot 2025-08-04 195840.png](data:image/png;base64,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)"
      ],
      "metadata": {
        "id": "fcb1wqecGMuY"
      }
    },
    {
      "cell_type": "markdown",
      "source": [
        "    What is LSTM :\n",
        "    - LSTM ==> Long Short Term Memory. It is considered as Enhanced version of RNN\n",
        "    -  LSTM is a type deep learning neural network which is specially designed to extract, learn and remember patterns from long sequential data (Text Data).\n",
        "    - LSTM can remember long dependencies with  helps of special memory called cell state which are controlled by gates.\n",
        "    - LSTM is specially designed to overcome drawbacks of RNN like Vanishing Gradients, Short Term Memory and Exploding Gradient.\n",
        "    - Evolution of LSTM :\n",
        "      1997 ==> LSTM was introduced by Sepp & Jurgen.\n",
        "      2015 ==> It was dominating market in handling sequence data untill transformer came in market"
      ],
      "metadata": {
        "id": "YoV5-nx3KWsA"
      }
    },
    {
      "cell_type": "markdown",
      "source": [
        "### **Session 88- LSTM cont - (29 July)**\n"
      ],
      "metadata": {
        "id": "bzRHwLtEWo3x"
      }
    },
    {
      "cell_type": "markdown",
      "source": [
        "    Core components of LSTM\n",
        "\n",
        "| Component                | Role                                     |\n",
        "| ------------------------ | ---------------------------------------- |\n",
        "| **Cell State (`C_t`)**   | Long-term memory of the network          |\n",
        "| **Hidden State (`h_t`)** | Output + short-term memory               |\n",
        "| **Forget Gate**          | Decides what to discard from cell memory |\n",
        "| **Input Gate**           | Decides what new info to add             |\n",
        "| **Output Gate**          | Controls what info to pass to output     |\n"
      ],
      "metadata": {
        "id": "RjFRwMyiYcN8"
      }
    },
    {
      "cell_type": "markdown",
      "source": [
        "![Screenshot 2025-08-04 195629.png](data:image/png;base64,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)\n",
        "\n",
        "| Symbol    | Meaning                             | Direction |\n",
        "| --------- | ----------------------------------- | --------- |\n",
        "| `C_{t-1}` | Previous cell state                 | Input     |\n",
        "| `H_{t-1}` | Previous hidden state               | Input     |\n",
        "| `X_t`     | Input at current time step          | Input     |\n",
        "| `C_t`     | Updated cell state                  | Output    |\n",
        "| `H_t`     | Output/hidden state of current step | Output    |\n"
      ],
      "metadata": {
        "id": "nwR8XRUHekuj"
      }
    },
    {
      "cell_type": "code",
      "source": [],
      "metadata": {
        "id": "8vay7tPSeHZN"
      },
      "execution_count": null,
      "outputs": []
    },
    {
      "cell_type": "code",
      "source": [],
      "metadata": {
        "id": "zGlK4jC7QT2a"
      },
      "execution_count": null,
      "outputs": []
    }
  ]
}
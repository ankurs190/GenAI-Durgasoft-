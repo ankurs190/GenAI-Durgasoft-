{
  "nbformat": 4,
  "nbformat_minor": 0,
  "metadata": {
    "colab": {
      "provenance": [],
      "include_colab_link": true
    },
    "kernelspec": {
      "name": "python3",
      "display_name": "Python 3"
    },
    "language_info": {
      "name": "python"
    }
  },
  "cells": [
    {
      "cell_type": "markdown",
      "metadata": {
        "id": "view-in-github",
        "colab_type": "text"
      },
      "source": [
        "<a href=\"https://colab.research.google.com/github/ankurs190/GenAI-Durgasoft-/blob/main/N_grams.ipynb\" target=\"_parent\"><img src=\"https://colab.research.google.com/assets/colab-badge.svg\" alt=\"Open In Colab\"/></a>"
      ]
    },
    {
      "cell_type": "code",
      "execution_count": null,
      "metadata": {
        "id": "PyG8rYtlzQRI"
      },
      "outputs": [],
      "source": [
        "import nltk"
      ]
    },
    {
      "cell_type": "code",
      "source": [
        "from nltk import ngrams"
      ],
      "metadata": {
        "id": "VOLaiaLBzVKM"
      },
      "execution_count": null,
      "outputs": []
    },
    {
      "cell_type": "code",
      "source": [
        "sent = \"Data Scientist work on Machine Learning and Deep Learning\"\n",
        "print(sent)"
      ],
      "metadata": {
        "colab": {
          "base_uri": "https://localhost:8080/"
        },
        "id": "p9O8GJcezXe-",
        "outputId": "0b02090f-af6b-4d55-f58d-a8b1c05d61bb"
      },
      "execution_count": null,
      "outputs": [
        {
          "output_type": "stream",
          "name": "stdout",
          "text": [
            "Data Scientist work on Machine Learning and Deep Learning\n"
          ]
        }
      ]
    },
    {
      "cell_type": "code",
      "source": [
        "sent.split()"
      ],
      "metadata": {
        "colab": {
          "base_uri": "https://localhost:8080/"
        },
        "id": "oqeGjCYKziAL",
        "outputId": "e2c74bf7-4470-4e0e-da39-c54428d56ef4"
      },
      "execution_count": null,
      "outputs": [
        {
          "output_type": "execute_result",
          "data": {
            "text/plain": [
              "['Data',\n",
              " 'Scientist',\n",
              " 'work',\n",
              " 'on',\n",
              " 'Machine',\n",
              " 'Learning',\n",
              " 'and',\n",
              " 'Deep',\n",
              " 'Learning']"
            ]
          },
          "metadata": {},
          "execution_count": 4
        }
      ]
    },
    {
      "cell_type": "markdown",
      "source": [
        "## **Uni-Gram**"
      ],
      "metadata": {
        "id": "jp_UBdtLzv8q"
      }
    },
    {
      "cell_type": "code",
      "source": [
        "ngrams( sent.split(), 1)"
      ],
      "metadata": {
        "colab": {
          "base_uri": "https://localhost:8080/"
        },
        "id": "OvJDEk4qzkUX",
        "outputId": "2f30934c-d7d0-4a61-b586-448765bae114"
      },
      "execution_count": null,
      "outputs": [
        {
          "output_type": "execute_result",
          "data": {
            "text/plain": [
              "<generator object ngrams at 0x7f5f43880f20>"
            ]
          },
          "metadata": {},
          "execution_count": 5
        }
      ]
    },
    {
      "cell_type": "code",
      "source": [
        "list(ngrams( sent.split(), 1))"
      ],
      "metadata": {
        "colab": {
          "base_uri": "https://localhost:8080/"
        },
        "id": "XE2Qd9Hpz5Ux",
        "outputId": "251052de-d876-4508-9a0f-5b48c63f2533"
      },
      "execution_count": null,
      "outputs": [
        {
          "output_type": "execute_result",
          "data": {
            "text/plain": [
              "[('Data',),\n",
              " ('Scientist',),\n",
              " ('work',),\n",
              " ('on',),\n",
              " ('Machine',),\n",
              " ('Learning',),\n",
              " ('and',),\n",
              " ('Deep',),\n",
              " ('Learning',)]"
            ]
          },
          "metadata": {},
          "execution_count": 6
        }
      ]
    },
    {
      "cell_type": "markdown",
      "source": [
        "## **Bi-Gram**"
      ],
      "metadata": {
        "id": "EB_dlCyD0Ivt"
      }
    },
    {
      "cell_type": "code",
      "source": [
        "sent"
      ],
      "metadata": {
        "colab": {
          "base_uri": "https://localhost:8080/",
          "height": 36
        },
        "id": "YpjyL7Rbz8z1",
        "outputId": "6d1a958f-ae34-436a-df53-0076eae02519"
      },
      "execution_count": null,
      "outputs": [
        {
          "output_type": "execute_result",
          "data": {
            "text/plain": [
              "'Data Scientist work on Machine Learning and Deep Learning'"
            ],
            "application/vnd.google.colaboratory.intrinsic+json": {
              "type": "string"
            }
          },
          "metadata": {},
          "execution_count": 7
        }
      ]
    },
    {
      "cell_type": "code",
      "source": [
        "res = ngrams(sent.split(),2)"
      ],
      "metadata": {
        "id": "Mq8J_XrP0RxN"
      },
      "execution_count": null,
      "outputs": []
    },
    {
      "cell_type": "code",
      "source": [
        "print(res)"
      ],
      "metadata": {
        "colab": {
          "base_uri": "https://localhost:8080/"
        },
        "id": "ve2ZIlrH0WGn",
        "outputId": "a3b3f8ef-35eb-409f-917e-17f792a6f646"
      },
      "execution_count": null,
      "outputs": [
        {
          "output_type": "stream",
          "name": "stdout",
          "text": [
            "<generator object ngrams at 0x7f5f43f97010>\n"
          ]
        }
      ]
    },
    {
      "cell_type": "code",
      "source": [
        "print(list(res))"
      ],
      "metadata": {
        "colab": {
          "base_uri": "https://localhost:8080/"
        },
        "id": "YXdMN7hy0XnW",
        "outputId": "a5fbadc2-a8b0-4f54-88db-38114221dea1"
      },
      "execution_count": null,
      "outputs": [
        {
          "output_type": "stream",
          "name": "stdout",
          "text": [
            "[('Data', 'Scientist'), ('Scientist', 'work'), ('work', 'on'), ('on', 'Machine'), ('Machine', 'Learning'), ('Learning', 'and'), ('and', 'Deep'), ('Deep', 'Learning')]\n"
          ]
        }
      ]
    },
    {
      "cell_type": "markdown",
      "source": [
        "## **Tri - Gram**"
      ],
      "metadata": {
        "id": "orXWICYE0d4y"
      }
    },
    {
      "cell_type": "code",
      "source": [
        "sent"
      ],
      "metadata": {
        "colab": {
          "base_uri": "https://localhost:8080/",
          "height": 36
        },
        "id": "JlLDg1Br0aJn",
        "outputId": "2dda36f7-e00b-4a76-c773-b77b63b20157"
      },
      "execution_count": null,
      "outputs": [
        {
          "output_type": "execute_result",
          "data": {
            "text/plain": [
              "'Data Scientist work on Machine Learning and Deep Learning'"
            ],
            "application/vnd.google.colaboratory.intrinsic+json": {
              "type": "string"
            }
          },
          "metadata": {},
          "execution_count": 11
        }
      ]
    },
    {
      "cell_type": "code",
      "source": [
        "res1 = list( ngrams( sent.split(), 3) )"
      ],
      "metadata": {
        "id": "YoxDVsQk0hIb"
      },
      "execution_count": null,
      "outputs": []
    },
    {
      "cell_type": "code",
      "source": [
        "res1"
      ],
      "metadata": {
        "colab": {
          "base_uri": "https://localhost:8080/"
        },
        "id": "TrhGNinO0sXD",
        "outputId": "d68abd8d-d45e-4ae6-9164-45de055f1dc7"
      },
      "execution_count": null,
      "outputs": [
        {
          "output_type": "execute_result",
          "data": {
            "text/plain": [
              "[('Data', 'Scientist', 'work'),\n",
              " ('Scientist', 'work', 'on'),\n",
              " ('work', 'on', 'Machine'),\n",
              " ('on', 'Machine', 'Learning'),\n",
              " ('Machine', 'Learning', 'and'),\n",
              " ('Learning', 'and', 'Deep'),\n",
              " ('and', 'Deep', 'Learning')]"
            ]
          },
          "metadata": {},
          "execution_count": 13
        }
      ]
    },
    {
      "cell_type": "code",
      "source": [],
      "metadata": {
        "id": "mZdgnMgY0s0e"
      },
      "execution_count": null,
      "outputs": []
    }
  ]
}